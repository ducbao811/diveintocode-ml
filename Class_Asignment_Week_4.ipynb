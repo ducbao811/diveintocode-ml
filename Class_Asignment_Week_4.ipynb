{
 "cells": [
  {
   "cell_type": "markdown",
   "metadata": {
    "id": "vNW00uxXpYbM"
   },
   "source": [
    "# Problem 1"
   ]
  },
  {
   "cell_type": "markdown",
   "metadata": {
    "id": "7VUz448BpoHR"
   },
   "source": [
    "**What to learn and what to predict?**\n",
    "<br>\n",
    "From the data provided by **Home Credit**, the purpose of this competition is to predict whether or not a client will repay a loan or have difficulties. There are seven data sources which can be learned by a ML model:\n",
    " - application_train/application_test: Containing information about each loan application at Home Credit. The training application data comes with the **TARGET** indicating 0: the loan was repaid or 1: the loan was not repaid.\n",
    " - bureau: data about client's previous credits from other financial institutions.\n",
    " - bureau_balance: monthly data about the previous credits in bureau. \n",
    " - previous_application: previous applications for loans at Home Credit of clients who have loans in the application data.\n",
    " - POS_CASH_BALANCE: monthly data about previous point of sale or cash loans clients have had with Home Credit.\n",
    " - credit_card_balance: monthly data about previous credit cards clients have had with **Home Credit**.\n",
    " - installments_payment: payment history for previous loans at Home Credit.<br>\n",
    "\n",
    "**What kind of file to create and submit to Kaggle?**\n",
    "<br>\n",
    "The submission include a csv file consisting two columns:\n",
    " - SK_ID_CURR: ID of loan in testing sample\n",
    " - TARGET: predicted probability of the accordingly testing sample. <br> \n",
    "\n",
    "**What kind of index value will be used to evaluate the submissions?**<br>\n",
    "The submission is evaluated on **area under the ROC curve** between the predicted probability and the observed target."
   ]
  },
  {
   "cell_type": "markdown",
   "metadata": {
    "id": "geoDTJnvpdY6"
   },
   "source": [
    "# Problem 2"
   ]
  },
  {
   "cell_type": "code",
   "execution_count": 1,
   "metadata": {
    "id": "2LBHmWpspajt"
   },
   "outputs": [],
   "source": [
    "# importing libraries\n",
    "import pandas as pd\n",
    "import numpy as np\n",
    "import matplotlib.pyplot as plt\n",
    "import seaborn as sns"
   ]
  },
  {
   "cell_type": "code",
   "execution_count": 2,
   "metadata": {},
   "outputs": [],
   "source": [
    "# Loading data\n",
    "application_test = pd.read_csv('./HomeCreditCSV/application_test.csv')\n",
    "application_train = pd.read_csv('./HomeCreditCSV/application_train.csv')\n",
    "bureau = pd.read_csv('./HomeCreditCSV/bureau.csv')\n",
    "bureau_balance = pd.read_csv('./HomeCreditCSV/bureau_balance.csv')\n",
    "pop_cash_balance = pd.read_csv('./HomeCreditCSV/POS_CASH_balance.csv')\n",
    "credit_card_balance = pd.read_csv('./HomeCreditCSV/credit_card_balance.csv')\n",
    "installments_payments = pd.read_csv('./HomeCreditCSV/installments_payments.csv')\n",
    "previous_application = pd.read_csv('./HomeCreditCSV/previous_application.csv')"
   ]
  },
  {
   "cell_type": "markdown",
   "metadata": {},
   "source": [
    "Perform some analysis"
   ]
  },
  {
   "cell_type": "code",
   "execution_count": 3,
   "metadata": {},
   "outputs": [],
   "source": [
    "# Check for missing data \n",
    "def null_check(data):\n",
    "    total = data.isnull().sum()\n",
    "    percent = (total / data.isnull().count() * 100)\n",
    "    return pd.concat([total.sort_values(ascending=False),percent.sort_values(ascending=False)],axis=1,keys=['Total Null Values', 'Percent Missing'])"
   ]
  },
  {
   "cell_type": "code",
   "execution_count": 4,
   "metadata": {
    "scrolled": true
   },
   "outputs": [
    {
     "data": {
      "text/html": [
       "<div>\n",
       "<style scoped>\n",
       "    .dataframe tbody tr th:only-of-type {\n",
       "        vertical-align: middle;\n",
       "    }\n",
       "\n",
       "    .dataframe tbody tr th {\n",
       "        vertical-align: top;\n",
       "    }\n",
       "\n",
       "    .dataframe thead th {\n",
       "        text-align: right;\n",
       "    }\n",
       "</style>\n",
       "<table border=\"1\" class=\"dataframe\">\n",
       "  <thead>\n",
       "    <tr style=\"text-align: right;\">\n",
       "      <th></th>\n",
       "      <th>Total Null Values</th>\n",
       "      <th>Percent Missing</th>\n",
       "    </tr>\n",
       "  </thead>\n",
       "  <tbody>\n",
       "    <tr>\n",
       "      <th>COMMONAREA_MEDI</th>\n",
       "      <td>214865</td>\n",
       "      <td>69.872297</td>\n",
       "    </tr>\n",
       "    <tr>\n",
       "      <th>COMMONAREA_AVG</th>\n",
       "      <td>214865</td>\n",
       "      <td>69.872297</td>\n",
       "    </tr>\n",
       "    <tr>\n",
       "      <th>COMMONAREA_MODE</th>\n",
       "      <td>214865</td>\n",
       "      <td>69.872297</td>\n",
       "    </tr>\n",
       "    <tr>\n",
       "      <th>NONLIVINGAPARTMENTS_MODE</th>\n",
       "      <td>213514</td>\n",
       "      <td>69.432963</td>\n",
       "    </tr>\n",
       "    <tr>\n",
       "      <th>NONLIVINGAPARTMENTS_AVG</th>\n",
       "      <td>213514</td>\n",
       "      <td>69.432963</td>\n",
       "    </tr>\n",
       "    <tr>\n",
       "      <th>NONLIVINGAPARTMENTS_MEDI</th>\n",
       "      <td>213514</td>\n",
       "      <td>69.432963</td>\n",
       "    </tr>\n",
       "    <tr>\n",
       "      <th>FONDKAPREMONT_MODE</th>\n",
       "      <td>210295</td>\n",
       "      <td>68.386172</td>\n",
       "    </tr>\n",
       "    <tr>\n",
       "      <th>LIVINGAPARTMENTS_MODE</th>\n",
       "      <td>210199</td>\n",
       "      <td>68.354953</td>\n",
       "    </tr>\n",
       "    <tr>\n",
       "      <th>LIVINGAPARTMENTS_AVG</th>\n",
       "      <td>210199</td>\n",
       "      <td>68.354953</td>\n",
       "    </tr>\n",
       "    <tr>\n",
       "      <th>LIVINGAPARTMENTS_MEDI</th>\n",
       "      <td>210199</td>\n",
       "      <td>68.354953</td>\n",
       "    </tr>\n",
       "  </tbody>\n",
       "</table>\n",
       "</div>"
      ],
      "text/plain": [
       "                          Total Null Values  Percent Missing\n",
       "COMMONAREA_MEDI                      214865        69.872297\n",
       "COMMONAREA_AVG                       214865        69.872297\n",
       "COMMONAREA_MODE                      214865        69.872297\n",
       "NONLIVINGAPARTMENTS_MODE             213514        69.432963\n",
       "NONLIVINGAPARTMENTS_AVG              213514        69.432963\n",
       "NONLIVINGAPARTMENTS_MEDI             213514        69.432963\n",
       "FONDKAPREMONT_MODE                   210295        68.386172\n",
       "LIVINGAPARTMENTS_MODE                210199        68.354953\n",
       "LIVINGAPARTMENTS_AVG                 210199        68.354953\n",
       "LIVINGAPARTMENTS_MEDI                210199        68.354953"
      ]
     },
     "execution_count": 4,
     "metadata": {},
     "output_type": "execute_result"
    }
   ],
   "source": [
    "# Application Train\n",
    "null_check(application_train).head(10)"
   ]
  },
  {
   "cell_type": "code",
   "execution_count": 5,
   "metadata": {},
   "outputs": [
    {
     "data": {
      "text/html": [
       "<div>\n",
       "<style scoped>\n",
       "    .dataframe tbody tr th:only-of-type {\n",
       "        vertical-align: middle;\n",
       "    }\n",
       "\n",
       "    .dataframe tbody tr th {\n",
       "        vertical-align: top;\n",
       "    }\n",
       "\n",
       "    .dataframe thead th {\n",
       "        text-align: right;\n",
       "    }\n",
       "</style>\n",
       "<table border=\"1\" class=\"dataframe\">\n",
       "  <thead>\n",
       "    <tr style=\"text-align: right;\">\n",
       "      <th></th>\n",
       "      <th>Total Null Values</th>\n",
       "      <th>Percent Missing</th>\n",
       "    </tr>\n",
       "  </thead>\n",
       "  <tbody>\n",
       "    <tr>\n",
       "      <th>COMMONAREA_AVG</th>\n",
       "      <td>33495</td>\n",
       "      <td>68.716150</td>\n",
       "    </tr>\n",
       "    <tr>\n",
       "      <th>COMMONAREA_MODE</th>\n",
       "      <td>33495</td>\n",
       "      <td>68.716150</td>\n",
       "    </tr>\n",
       "    <tr>\n",
       "      <th>COMMONAREA_MEDI</th>\n",
       "      <td>33495</td>\n",
       "      <td>68.716150</td>\n",
       "    </tr>\n",
       "    <tr>\n",
       "      <th>NONLIVINGAPARTMENTS_AVG</th>\n",
       "      <td>33347</td>\n",
       "      <td>68.412523</td>\n",
       "    </tr>\n",
       "    <tr>\n",
       "      <th>NONLIVINGAPARTMENTS_MODE</th>\n",
       "      <td>33347</td>\n",
       "      <td>68.412523</td>\n",
       "    </tr>\n",
       "    <tr>\n",
       "      <th>NONLIVINGAPARTMENTS_MEDI</th>\n",
       "      <td>33347</td>\n",
       "      <td>68.412523</td>\n",
       "    </tr>\n",
       "    <tr>\n",
       "      <th>FONDKAPREMONT_MODE</th>\n",
       "      <td>32797</td>\n",
       "      <td>67.284179</td>\n",
       "    </tr>\n",
       "    <tr>\n",
       "      <th>LIVINGAPARTMENTS_AVG</th>\n",
       "      <td>32780</td>\n",
       "      <td>67.249302</td>\n",
       "    </tr>\n",
       "    <tr>\n",
       "      <th>LIVINGAPARTMENTS_MODE</th>\n",
       "      <td>32780</td>\n",
       "      <td>67.249302</td>\n",
       "    </tr>\n",
       "    <tr>\n",
       "      <th>LIVINGAPARTMENTS_MEDI</th>\n",
       "      <td>32780</td>\n",
       "      <td>67.249302</td>\n",
       "    </tr>\n",
       "  </tbody>\n",
       "</table>\n",
       "</div>"
      ],
      "text/plain": [
       "                          Total Null Values  Percent Missing\n",
       "COMMONAREA_AVG                        33495        68.716150\n",
       "COMMONAREA_MODE                       33495        68.716150\n",
       "COMMONAREA_MEDI                       33495        68.716150\n",
       "NONLIVINGAPARTMENTS_AVG               33347        68.412523\n",
       "NONLIVINGAPARTMENTS_MODE              33347        68.412523\n",
       "NONLIVINGAPARTMENTS_MEDI              33347        68.412523\n",
       "FONDKAPREMONT_MODE                    32797        67.284179\n",
       "LIVINGAPARTMENTS_AVG                  32780        67.249302\n",
       "LIVINGAPARTMENTS_MODE                 32780        67.249302\n",
       "LIVINGAPARTMENTS_MEDI                 32780        67.249302"
      ]
     },
     "execution_count": 5,
     "metadata": {},
     "output_type": "execute_result"
    }
   ],
   "source": [
    "# Application test\n",
    "null_check(application_test).head(10)"
   ]
  },
  {
   "cell_type": "code",
   "execution_count": 6,
   "metadata": {},
   "outputs": [
    {
     "data": {
      "text/html": [
       "<div>\n",
       "<style scoped>\n",
       "    .dataframe tbody tr th:only-of-type {\n",
       "        vertical-align: middle;\n",
       "    }\n",
       "\n",
       "    .dataframe tbody tr th {\n",
       "        vertical-align: top;\n",
       "    }\n",
       "\n",
       "    .dataframe thead th {\n",
       "        text-align: right;\n",
       "    }\n",
       "</style>\n",
       "<table border=\"1\" class=\"dataframe\">\n",
       "  <thead>\n",
       "    <tr style=\"text-align: right;\">\n",
       "      <th></th>\n",
       "      <th>Total Null Values</th>\n",
       "      <th>Percent Missing</th>\n",
       "    </tr>\n",
       "  </thead>\n",
       "  <tbody>\n",
       "    <tr>\n",
       "      <th>AMT_ANNUITY</th>\n",
       "      <td>1226791</td>\n",
       "      <td>71.473490</td>\n",
       "    </tr>\n",
       "    <tr>\n",
       "      <th>AMT_CREDIT_MAX_OVERDUE</th>\n",
       "      <td>1124488</td>\n",
       "      <td>65.513264</td>\n",
       "    </tr>\n",
       "    <tr>\n",
       "      <th>DAYS_ENDDATE_FACT</th>\n",
       "      <td>633653</td>\n",
       "      <td>36.916958</td>\n",
       "    </tr>\n",
       "    <tr>\n",
       "      <th>AMT_CREDIT_SUM_LIMIT</th>\n",
       "      <td>591780</td>\n",
       "      <td>34.477415</td>\n",
       "    </tr>\n",
       "    <tr>\n",
       "      <th>AMT_CREDIT_SUM_DEBT</th>\n",
       "      <td>257669</td>\n",
       "      <td>15.011932</td>\n",
       "    </tr>\n",
       "    <tr>\n",
       "      <th>DAYS_CREDIT_ENDDATE</th>\n",
       "      <td>105553</td>\n",
       "      <td>6.149573</td>\n",
       "    </tr>\n",
       "    <tr>\n",
       "      <th>AMT_CREDIT_SUM</th>\n",
       "      <td>13</td>\n",
       "      <td>0.000757</td>\n",
       "    </tr>\n",
       "    <tr>\n",
       "      <th>CREDIT_ACTIVE</th>\n",
       "      <td>0</td>\n",
       "      <td>0.000000</td>\n",
       "    </tr>\n",
       "    <tr>\n",
       "      <th>CREDIT_CURRENCY</th>\n",
       "      <td>0</td>\n",
       "      <td>0.000000</td>\n",
       "    </tr>\n",
       "    <tr>\n",
       "      <th>DAYS_CREDIT</th>\n",
       "      <td>0</td>\n",
       "      <td>0.000000</td>\n",
       "    </tr>\n",
       "    <tr>\n",
       "      <th>CREDIT_DAY_OVERDUE</th>\n",
       "      <td>0</td>\n",
       "      <td>0.000000</td>\n",
       "    </tr>\n",
       "    <tr>\n",
       "      <th>SK_ID_BUREAU</th>\n",
       "      <td>0</td>\n",
       "      <td>0.000000</td>\n",
       "    </tr>\n",
       "    <tr>\n",
       "      <th>CNT_CREDIT_PROLONG</th>\n",
       "      <td>0</td>\n",
       "      <td>0.000000</td>\n",
       "    </tr>\n",
       "    <tr>\n",
       "      <th>AMT_CREDIT_SUM_OVERDUE</th>\n",
       "      <td>0</td>\n",
       "      <td>0.000000</td>\n",
       "    </tr>\n",
       "    <tr>\n",
       "      <th>CREDIT_TYPE</th>\n",
       "      <td>0</td>\n",
       "      <td>0.000000</td>\n",
       "    </tr>\n",
       "    <tr>\n",
       "      <th>DAYS_CREDIT_UPDATE</th>\n",
       "      <td>0</td>\n",
       "      <td>0.000000</td>\n",
       "    </tr>\n",
       "    <tr>\n",
       "      <th>SK_ID_CURR</th>\n",
       "      <td>0</td>\n",
       "      <td>0.000000</td>\n",
       "    </tr>\n",
       "  </tbody>\n",
       "</table>\n",
       "</div>"
      ],
      "text/plain": [
       "                        Total Null Values  Percent Missing\n",
       "AMT_ANNUITY                       1226791        71.473490\n",
       "AMT_CREDIT_MAX_OVERDUE            1124488        65.513264\n",
       "DAYS_ENDDATE_FACT                  633653        36.916958\n",
       "AMT_CREDIT_SUM_LIMIT               591780        34.477415\n",
       "AMT_CREDIT_SUM_DEBT                257669        15.011932\n",
       "DAYS_CREDIT_ENDDATE                105553         6.149573\n",
       "AMT_CREDIT_SUM                         13         0.000757\n",
       "CREDIT_ACTIVE                           0         0.000000\n",
       "CREDIT_CURRENCY                         0         0.000000\n",
       "DAYS_CREDIT                             0         0.000000\n",
       "CREDIT_DAY_OVERDUE                      0         0.000000\n",
       "SK_ID_BUREAU                            0         0.000000\n",
       "CNT_CREDIT_PROLONG                      0         0.000000\n",
       "AMT_CREDIT_SUM_OVERDUE                  0         0.000000\n",
       "CREDIT_TYPE                             0         0.000000\n",
       "DAYS_CREDIT_UPDATE                      0         0.000000\n",
       "SK_ID_CURR                              0         0.000000"
      ]
     },
     "execution_count": 6,
     "metadata": {},
     "output_type": "execute_result"
    }
   ],
   "source": [
    "# Bureau\n",
    "null_check(bureau)"
   ]
  },
  {
   "cell_type": "code",
   "execution_count": 7,
   "metadata": {},
   "outputs": [
    {
     "data": {
      "text/html": [
       "<div>\n",
       "<style scoped>\n",
       "    .dataframe tbody tr th:only-of-type {\n",
       "        vertical-align: middle;\n",
       "    }\n",
       "\n",
       "    .dataframe tbody tr th {\n",
       "        vertical-align: top;\n",
       "    }\n",
       "\n",
       "    .dataframe thead th {\n",
       "        text-align: right;\n",
       "    }\n",
       "</style>\n",
       "<table border=\"1\" class=\"dataframe\">\n",
       "  <thead>\n",
       "    <tr style=\"text-align: right;\">\n",
       "      <th></th>\n",
       "      <th>Total Null Values</th>\n",
       "      <th>Percent Missing</th>\n",
       "    </tr>\n",
       "  </thead>\n",
       "  <tbody>\n",
       "    <tr>\n",
       "      <th>SK_ID_BUREAU</th>\n",
       "      <td>0</td>\n",
       "      <td>0.0</td>\n",
       "    </tr>\n",
       "    <tr>\n",
       "      <th>MONTHS_BALANCE</th>\n",
       "      <td>0</td>\n",
       "      <td>0.0</td>\n",
       "    </tr>\n",
       "    <tr>\n",
       "      <th>STATUS</th>\n",
       "      <td>0</td>\n",
       "      <td>0.0</td>\n",
       "    </tr>\n",
       "  </tbody>\n",
       "</table>\n",
       "</div>"
      ],
      "text/plain": [
       "                Total Null Values  Percent Missing\n",
       "SK_ID_BUREAU                    0              0.0\n",
       "MONTHS_BALANCE                  0              0.0\n",
       "STATUS                          0              0.0"
      ]
     },
     "execution_count": 7,
     "metadata": {},
     "output_type": "execute_result"
    }
   ],
   "source": [
    "# Bureau Balance\n",
    "null_check(bureau_balance)"
   ]
  },
  {
   "cell_type": "code",
   "execution_count": 8,
   "metadata": {},
   "outputs": [
    {
     "data": {
      "text/html": [
       "<div>\n",
       "<style scoped>\n",
       "    .dataframe tbody tr th:only-of-type {\n",
       "        vertical-align: middle;\n",
       "    }\n",
       "\n",
       "    .dataframe tbody tr th {\n",
       "        vertical-align: top;\n",
       "    }\n",
       "\n",
       "    .dataframe thead th {\n",
       "        text-align: right;\n",
       "    }\n",
       "</style>\n",
       "<table border=\"1\" class=\"dataframe\">\n",
       "  <thead>\n",
       "    <tr style=\"text-align: right;\">\n",
       "      <th></th>\n",
       "      <th>Total Null Values</th>\n",
       "      <th>Percent Missing</th>\n",
       "    </tr>\n",
       "  </thead>\n",
       "  <tbody>\n",
       "    <tr>\n",
       "      <th>CNT_INSTALMENT_FUTURE</th>\n",
       "      <td>26087</td>\n",
       "      <td>0.260835</td>\n",
       "    </tr>\n",
       "    <tr>\n",
       "      <th>CNT_INSTALMENT</th>\n",
       "      <td>26071</td>\n",
       "      <td>0.260675</td>\n",
       "    </tr>\n",
       "    <tr>\n",
       "      <th>SK_ID_PREV</th>\n",
       "      <td>0</td>\n",
       "      <td>0.000000</td>\n",
       "    </tr>\n",
       "    <tr>\n",
       "      <th>SK_ID_CURR</th>\n",
       "      <td>0</td>\n",
       "      <td>0.000000</td>\n",
       "    </tr>\n",
       "    <tr>\n",
       "      <th>MONTHS_BALANCE</th>\n",
       "      <td>0</td>\n",
       "      <td>0.000000</td>\n",
       "    </tr>\n",
       "    <tr>\n",
       "      <th>NAME_CONTRACT_STATUS</th>\n",
       "      <td>0</td>\n",
       "      <td>0.000000</td>\n",
       "    </tr>\n",
       "    <tr>\n",
       "      <th>SK_DPD</th>\n",
       "      <td>0</td>\n",
       "      <td>0.000000</td>\n",
       "    </tr>\n",
       "    <tr>\n",
       "      <th>SK_DPD_DEF</th>\n",
       "      <td>0</td>\n",
       "      <td>0.000000</td>\n",
       "    </tr>\n",
       "  </tbody>\n",
       "</table>\n",
       "</div>"
      ],
      "text/plain": [
       "                       Total Null Values  Percent Missing\n",
       "CNT_INSTALMENT_FUTURE              26087         0.260835\n",
       "CNT_INSTALMENT                     26071         0.260675\n",
       "SK_ID_PREV                             0         0.000000\n",
       "SK_ID_CURR                             0         0.000000\n",
       "MONTHS_BALANCE                         0         0.000000\n",
       "NAME_CONTRACT_STATUS                   0         0.000000\n",
       "SK_DPD                                 0         0.000000\n",
       "SK_DPD_DEF                             0         0.000000"
      ]
     },
     "execution_count": 8,
     "metadata": {},
     "output_type": "execute_result"
    }
   ],
   "source": [
    "# Pop cash balance\n",
    "null_check(pop_cash_balance)"
   ]
  },
  {
   "cell_type": "code",
   "execution_count": 9,
   "metadata": {},
   "outputs": [
    {
     "data": {
      "text/html": [
       "<div>\n",
       "<style scoped>\n",
       "    .dataframe tbody tr th:only-of-type {\n",
       "        vertical-align: middle;\n",
       "    }\n",
       "\n",
       "    .dataframe tbody tr th {\n",
       "        vertical-align: top;\n",
       "    }\n",
       "\n",
       "    .dataframe thead th {\n",
       "        text-align: right;\n",
       "    }\n",
       "</style>\n",
       "<table border=\"1\" class=\"dataframe\">\n",
       "  <thead>\n",
       "    <tr style=\"text-align: right;\">\n",
       "      <th></th>\n",
       "      <th>Total Null Values</th>\n",
       "      <th>Percent Missing</th>\n",
       "    </tr>\n",
       "  </thead>\n",
       "  <tbody>\n",
       "    <tr>\n",
       "      <th>AMT_PAYMENT_CURRENT</th>\n",
       "      <td>767988</td>\n",
       "      <td>19.998063</td>\n",
       "    </tr>\n",
       "    <tr>\n",
       "      <th>AMT_DRAWINGS_ATM_CURRENT</th>\n",
       "      <td>749816</td>\n",
       "      <td>19.524872</td>\n",
       "    </tr>\n",
       "    <tr>\n",
       "      <th>CNT_DRAWINGS_POS_CURRENT</th>\n",
       "      <td>749816</td>\n",
       "      <td>19.524872</td>\n",
       "    </tr>\n",
       "    <tr>\n",
       "      <th>AMT_DRAWINGS_OTHER_CURRENT</th>\n",
       "      <td>749816</td>\n",
       "      <td>19.524872</td>\n",
       "    </tr>\n",
       "    <tr>\n",
       "      <th>AMT_DRAWINGS_POS_CURRENT</th>\n",
       "      <td>749816</td>\n",
       "      <td>19.524872</td>\n",
       "    </tr>\n",
       "    <tr>\n",
       "      <th>CNT_DRAWINGS_OTHER_CURRENT</th>\n",
       "      <td>749816</td>\n",
       "      <td>19.524872</td>\n",
       "    </tr>\n",
       "    <tr>\n",
       "      <th>CNT_DRAWINGS_ATM_CURRENT</th>\n",
       "      <td>749816</td>\n",
       "      <td>19.524872</td>\n",
       "    </tr>\n",
       "    <tr>\n",
       "      <th>CNT_INSTALMENT_MATURE_CUM</th>\n",
       "      <td>305236</td>\n",
       "      <td>7.948208</td>\n",
       "    </tr>\n",
       "    <tr>\n",
       "      <th>AMT_INST_MIN_REGULARITY</th>\n",
       "      <td>305236</td>\n",
       "      <td>7.948208</td>\n",
       "    </tr>\n",
       "    <tr>\n",
       "      <th>SK_ID_PREV</th>\n",
       "      <td>0</td>\n",
       "      <td>0.000000</td>\n",
       "    </tr>\n",
       "    <tr>\n",
       "      <th>AMT_TOTAL_RECEIVABLE</th>\n",
       "      <td>0</td>\n",
       "      <td>0.000000</td>\n",
       "    </tr>\n",
       "    <tr>\n",
       "      <th>SK_DPD</th>\n",
       "      <td>0</td>\n",
       "      <td>0.000000</td>\n",
       "    </tr>\n",
       "    <tr>\n",
       "      <th>NAME_CONTRACT_STATUS</th>\n",
       "      <td>0</td>\n",
       "      <td>0.000000</td>\n",
       "    </tr>\n",
       "    <tr>\n",
       "      <th>CNT_DRAWINGS_CURRENT</th>\n",
       "      <td>0</td>\n",
       "      <td>0.000000</td>\n",
       "    </tr>\n",
       "    <tr>\n",
       "      <th>AMT_PAYMENT_TOTAL_CURRENT</th>\n",
       "      <td>0</td>\n",
       "      <td>0.000000</td>\n",
       "    </tr>\n",
       "    <tr>\n",
       "      <th>AMT_RECIVABLE</th>\n",
       "      <td>0</td>\n",
       "      <td>0.000000</td>\n",
       "    </tr>\n",
       "    <tr>\n",
       "      <th>AMT_RECEIVABLE_PRINCIPAL</th>\n",
       "      <td>0</td>\n",
       "      <td>0.000000</td>\n",
       "    </tr>\n",
       "    <tr>\n",
       "      <th>SK_ID_CURR</th>\n",
       "      <td>0</td>\n",
       "      <td>0.000000</td>\n",
       "    </tr>\n",
       "    <tr>\n",
       "      <th>AMT_DRAWINGS_CURRENT</th>\n",
       "      <td>0</td>\n",
       "      <td>0.000000</td>\n",
       "    </tr>\n",
       "    <tr>\n",
       "      <th>AMT_CREDIT_LIMIT_ACTUAL</th>\n",
       "      <td>0</td>\n",
       "      <td>0.000000</td>\n",
       "    </tr>\n",
       "    <tr>\n",
       "      <th>AMT_BALANCE</th>\n",
       "      <td>0</td>\n",
       "      <td>0.000000</td>\n",
       "    </tr>\n",
       "    <tr>\n",
       "      <th>MONTHS_BALANCE</th>\n",
       "      <td>0</td>\n",
       "      <td>0.000000</td>\n",
       "    </tr>\n",
       "    <tr>\n",
       "      <th>SK_DPD_DEF</th>\n",
       "      <td>0</td>\n",
       "      <td>0.000000</td>\n",
       "    </tr>\n",
       "  </tbody>\n",
       "</table>\n",
       "</div>"
      ],
      "text/plain": [
       "                            Total Null Values  Percent Missing\n",
       "AMT_PAYMENT_CURRENT                    767988        19.998063\n",
       "AMT_DRAWINGS_ATM_CURRENT               749816        19.524872\n",
       "CNT_DRAWINGS_POS_CURRENT               749816        19.524872\n",
       "AMT_DRAWINGS_OTHER_CURRENT             749816        19.524872\n",
       "AMT_DRAWINGS_POS_CURRENT               749816        19.524872\n",
       "CNT_DRAWINGS_OTHER_CURRENT             749816        19.524872\n",
       "CNT_DRAWINGS_ATM_CURRENT               749816        19.524872\n",
       "CNT_INSTALMENT_MATURE_CUM              305236         7.948208\n",
       "AMT_INST_MIN_REGULARITY                305236         7.948208\n",
       "SK_ID_PREV                                  0         0.000000\n",
       "AMT_TOTAL_RECEIVABLE                        0         0.000000\n",
       "SK_DPD                                      0         0.000000\n",
       "NAME_CONTRACT_STATUS                        0         0.000000\n",
       "CNT_DRAWINGS_CURRENT                        0         0.000000\n",
       "AMT_PAYMENT_TOTAL_CURRENT                   0         0.000000\n",
       "AMT_RECIVABLE                               0         0.000000\n",
       "AMT_RECEIVABLE_PRINCIPAL                    0         0.000000\n",
       "SK_ID_CURR                                  0         0.000000\n",
       "AMT_DRAWINGS_CURRENT                        0         0.000000\n",
       "AMT_CREDIT_LIMIT_ACTUAL                     0         0.000000\n",
       "AMT_BALANCE                                 0         0.000000\n",
       "MONTHS_BALANCE                              0         0.000000\n",
       "SK_DPD_DEF                                  0         0.000000"
      ]
     },
     "execution_count": 9,
     "metadata": {},
     "output_type": "execute_result"
    }
   ],
   "source": [
    "# credit card balance\n",
    "null_check(credit_card_balance)"
   ]
  },
  {
   "cell_type": "code",
   "execution_count": 10,
   "metadata": {},
   "outputs": [
    {
     "data": {
      "text/html": [
       "<div>\n",
       "<style scoped>\n",
       "    .dataframe tbody tr th:only-of-type {\n",
       "        vertical-align: middle;\n",
       "    }\n",
       "\n",
       "    .dataframe tbody tr th {\n",
       "        vertical-align: top;\n",
       "    }\n",
       "\n",
       "    .dataframe thead th {\n",
       "        text-align: right;\n",
       "    }\n",
       "</style>\n",
       "<table border=\"1\" class=\"dataframe\">\n",
       "  <thead>\n",
       "    <tr style=\"text-align: right;\">\n",
       "      <th></th>\n",
       "      <th>Total Null Values</th>\n",
       "      <th>Percent Missing</th>\n",
       "    </tr>\n",
       "  </thead>\n",
       "  <tbody>\n",
       "    <tr>\n",
       "      <th>DAYS_ENTRY_PAYMENT</th>\n",
       "      <td>2905</td>\n",
       "      <td>0.021352</td>\n",
       "    </tr>\n",
       "    <tr>\n",
       "      <th>AMT_PAYMENT</th>\n",
       "      <td>2905</td>\n",
       "      <td>0.021352</td>\n",
       "    </tr>\n",
       "    <tr>\n",
       "      <th>SK_ID_PREV</th>\n",
       "      <td>0</td>\n",
       "      <td>0.000000</td>\n",
       "    </tr>\n",
       "    <tr>\n",
       "      <th>SK_ID_CURR</th>\n",
       "      <td>0</td>\n",
       "      <td>0.000000</td>\n",
       "    </tr>\n",
       "    <tr>\n",
       "      <th>NUM_INSTALMENT_VERSION</th>\n",
       "      <td>0</td>\n",
       "      <td>0.000000</td>\n",
       "    </tr>\n",
       "    <tr>\n",
       "      <th>NUM_INSTALMENT_NUMBER</th>\n",
       "      <td>0</td>\n",
       "      <td>0.000000</td>\n",
       "    </tr>\n",
       "    <tr>\n",
       "      <th>DAYS_INSTALMENT</th>\n",
       "      <td>0</td>\n",
       "      <td>0.000000</td>\n",
       "    </tr>\n",
       "    <tr>\n",
       "      <th>AMT_INSTALMENT</th>\n",
       "      <td>0</td>\n",
       "      <td>0.000000</td>\n",
       "    </tr>\n",
       "  </tbody>\n",
       "</table>\n",
       "</div>"
      ],
      "text/plain": [
       "                        Total Null Values  Percent Missing\n",
       "DAYS_ENTRY_PAYMENT                   2905         0.021352\n",
       "AMT_PAYMENT                          2905         0.021352\n",
       "SK_ID_PREV                              0         0.000000\n",
       "SK_ID_CURR                              0         0.000000\n",
       "NUM_INSTALMENT_VERSION                  0         0.000000\n",
       "NUM_INSTALMENT_NUMBER                   0         0.000000\n",
       "DAYS_INSTALMENT                         0         0.000000\n",
       "AMT_INSTALMENT                          0         0.000000"
      ]
     },
     "execution_count": 10,
     "metadata": {},
     "output_type": "execute_result"
    }
   ],
   "source": [
    "# installment payments\n",
    "null_check(installments_payments)"
   ]
  },
  {
   "cell_type": "code",
   "execution_count": 11,
   "metadata": {},
   "outputs": [
    {
     "data": {
      "text/html": [
       "<div>\n",
       "<style scoped>\n",
       "    .dataframe tbody tr th:only-of-type {\n",
       "        vertical-align: middle;\n",
       "    }\n",
       "\n",
       "    .dataframe tbody tr th {\n",
       "        vertical-align: top;\n",
       "    }\n",
       "\n",
       "    .dataframe thead th {\n",
       "        text-align: right;\n",
       "    }\n",
       "</style>\n",
       "<table border=\"1\" class=\"dataframe\">\n",
       "  <thead>\n",
       "    <tr style=\"text-align: right;\">\n",
       "      <th></th>\n",
       "      <th>Total Null Values</th>\n",
       "      <th>Percent Missing</th>\n",
       "    </tr>\n",
       "  </thead>\n",
       "  <tbody>\n",
       "    <tr>\n",
       "      <th>RATE_INTEREST_PRIVILEGED</th>\n",
       "      <td>1664263</td>\n",
       "      <td>99.643698</td>\n",
       "    </tr>\n",
       "    <tr>\n",
       "      <th>RATE_INTEREST_PRIMARY</th>\n",
       "      <td>1664263</td>\n",
       "      <td>99.643698</td>\n",
       "    </tr>\n",
       "    <tr>\n",
       "      <th>AMT_DOWN_PAYMENT</th>\n",
       "      <td>895844</td>\n",
       "      <td>53.636480</td>\n",
       "    </tr>\n",
       "    <tr>\n",
       "      <th>RATE_DOWN_PAYMENT</th>\n",
       "      <td>895844</td>\n",
       "      <td>53.636480</td>\n",
       "    </tr>\n",
       "    <tr>\n",
       "      <th>NAME_TYPE_SUITE</th>\n",
       "      <td>820405</td>\n",
       "      <td>49.119754</td>\n",
       "    </tr>\n",
       "    <tr>\n",
       "      <th>NFLAG_INSURED_ON_APPROVAL</th>\n",
       "      <td>673065</td>\n",
       "      <td>40.298129</td>\n",
       "    </tr>\n",
       "    <tr>\n",
       "      <th>DAYS_TERMINATION</th>\n",
       "      <td>673065</td>\n",
       "      <td>40.298129</td>\n",
       "    </tr>\n",
       "    <tr>\n",
       "      <th>DAYS_LAST_DUE</th>\n",
       "      <td>673065</td>\n",
       "      <td>40.298129</td>\n",
       "    </tr>\n",
       "    <tr>\n",
       "      <th>DAYS_LAST_DUE_1ST_VERSION</th>\n",
       "      <td>673065</td>\n",
       "      <td>40.298129</td>\n",
       "    </tr>\n",
       "    <tr>\n",
       "      <th>DAYS_FIRST_DUE</th>\n",
       "      <td>673065</td>\n",
       "      <td>40.298129</td>\n",
       "    </tr>\n",
       "  </tbody>\n",
       "</table>\n",
       "</div>"
      ],
      "text/plain": [
       "                           Total Null Values  Percent Missing\n",
       "RATE_INTEREST_PRIVILEGED             1664263        99.643698\n",
       "RATE_INTEREST_PRIMARY                1664263        99.643698\n",
       "AMT_DOWN_PAYMENT                      895844        53.636480\n",
       "RATE_DOWN_PAYMENT                     895844        53.636480\n",
       "NAME_TYPE_SUITE                       820405        49.119754\n",
       "NFLAG_INSURED_ON_APPROVAL             673065        40.298129\n",
       "DAYS_TERMINATION                      673065        40.298129\n",
       "DAYS_LAST_DUE                         673065        40.298129\n",
       "DAYS_LAST_DUE_1ST_VERSION             673065        40.298129\n",
       "DAYS_FIRST_DUE                        673065        40.298129"
      ]
     },
     "execution_count": 11,
     "metadata": {},
     "output_type": "execute_result"
    }
   ],
   "source": [
    "# Previous application\n",
    "null_check(previous_application).head(10)"
   ]
  },
  {
   "cell_type": "code",
   "execution_count": 12,
   "metadata": {},
   "outputs": [],
   "source": [
    "def eda_plot(feature, rotated_label= False):\n",
    "    temp = application_train[feature].value_counts()\n",
    "    df = pd.DataFrame({feature: temp.index,'Number of contracts': temp.values})\n",
    "    \n",
    "    # Percentage of succesful repayment of each value of the feature\n",
    "    s = application_train[[feature,'TARGET']]\n",
    "    value = {}\n",
    "    for x in s[feature].value_counts().index:\n",
    "        total = s.loc[s[feature] == x].value_counts(normalize=True)\n",
    "        value[x] = total[0] * 100\n",
    "    l = pd.DataFrame.from_dict(value,orient='index',columns=['Percent of Successful Repayment'])\n",
    "    \n",
    "    fig, (ax1, ax2) = plt.subplots(ncols=2, figsize=(15,6))\n",
    "    s = sns.barplot(ax=ax1, x = feature, y='Number of contracts',data=df)\n",
    "    if (rotated_label):\n",
    "        s.set_xticklabels(s.get_xticklabels(),rotation=90)\n",
    "    s = sns.barplot(ax=ax2, x = l.index, y=l['Percent of Successful Repayment'])\n",
    "    if (rotated_label):\n",
    "        s.set_xticklabels(s.get_xticklabels(),rotation=90)\n",
    "    plt.show()"
   ]
  },
  {
   "cell_type": "code",
   "execution_count": 13,
   "metadata": {
    "id": "9PmEOFY8pkr3",
    "scrolled": true
   },
   "outputs": [
    {
     "data": {
      "image/png": "[encoded data removed]",
      "text/plain": [
       "<Figure size 1080x432 with 2 Axes>"
      ]
     },
     "metadata": {
      "needs_background": "light"
     },
     "output_type": "display_data"
    }
   ],
   "source": [
    "eda_plot('NAME_CONTRACT_TYPE')"
   ]
  },
  {
   "cell_type": "markdown",
   "metadata": {},
   "source": [
    "There are many more cash loans than revolving loans in the applcation test file. However, the percentage of succesfull repayment of applicants having either one of the contract type are almost the same."
   ]
  },
  {
   "cell_type": "code",
   "execution_count": 14,
   "metadata": {},
   "outputs": [
    {
     "data": {
      "image/png": "[encoded data removed]",
      "text/plain": [
       "<Figure size 1080x432 with 2 Axes>"
      ]
     },
     "metadata": {
      "needs_background": "light"
     },
     "output_type": "display_data"
    }
   ],
   "source": [
    "eda_plot('CODE_GENDER')"
   ]
  },
  {
   "cell_type": "markdown",
   "metadata": {},
   "source": [
    "The number of female applicants is almost twice more than this of male. However, the percentage of repayment is approximately the same."
   ]
  },
  {
   "cell_type": "code",
   "execution_count": 15,
   "metadata": {},
   "outputs": [
    {
     "data": {
      "image/png": "[encoded data removed]",
      "text/plain": [
       "<Figure size 1080x432 with 2 Axes>"
      ]
     },
     "metadata": {
      "needs_background": "light"
     },
     "output_type": "display_data"
    }
   ],
   "source": [
    "eda_plot('FLAG_OWN_CAR')"
   ]
  },
  {
   "cell_type": "markdown",
   "metadata": {},
   "source": [
    "There majority of clients in the application_test own car. Percentage of successful repayment is though the same."
   ]
  },
  {
   "cell_type": "code",
   "execution_count": 16,
   "metadata": {},
   "outputs": [
    {
     "data": {
      "image/png": "[encoded data removed]",
      "text/plain": [
       "<Figure size 1080x432 with 2 Axes>"
      ]
     },
     "metadata": {
      "needs_background": "light"
     },
     "output_type": "display_data"
    }
   ],
   "source": [
    "eda_plot('NAME_INCOME_TYPE',rotated_label=True)"
   ]
  },
  {
   "cell_type": "markdown",
   "metadata": {},
   "source": [
    "Most of clients are working people while clients who are unemployed have the highest percent of not repaying the loan."
   ]
  },
  {
   "cell_type": "markdown",
   "metadata": {},
   "source": [
    "## Data Preprocessing"
   ]
  },
  {
   "cell_type": "markdown",
   "metadata": {},
   "source": [
    "**Filling the missing value** \n",
    "<br>\n",
    "For the categorical and discrete numerical variable, I fill the null value with the most frequent value. The continuos numerical variable will be filled with the median."
   ]
  },
  {
   "cell_type": "code",
   "execution_count": 3,
   "metadata": {},
   "outputs": [],
   "source": [
    "from sklearn.impute import SimpleImputer\n",
    "\n",
    "def split_feature_type(data):\n",
    "    categorical_list = []\n",
    "    discrete_list = []\n",
    "    continuos_list = []\n",
    "    for i in data.columns.tolist():\n",
    "        if data[i].dtype == 'object':\n",
    "            categorical_list.append(i)\n",
    "        elif data[i].nunique() < 20:\n",
    "            discrete_list.append(i)\n",
    "        else:\n",
    "            continuos_list.append(i)\n",
    "    return categorical_list, discrete_list, continuos_list\n",
    "\n",
    "categorical_list, discrete_list, continuos_list = split_feature_type(application_train)\n",
    "discrete_list.remove('TARGET')\n",
    "# Imputing missing data by SimpleImputer \n",
    "application_train[categorical_list] = SimpleImputer(\n",
    "    strategy='most_frequent').fit_transform(\n",
    "    application_train[categorical_list])\n",
    "\n",
    "application_train[discrete_list] = SimpleImputer(\n",
    "    strategy='most_frequent').fit_transform(\n",
    "    application_train[discrete_list])\n",
    "\n",
    "application_train[continuos_list] = SimpleImputer(\n",
    "    strategy='median').fit_transform(\n",
    "    application_train[continuos_list])\n",
    "\n",
    "application_test[categorical_list] = SimpleImputer(\n",
    "    strategy='most_frequent').fit_transform(\n",
    "    application_test[categorical_list])\n",
    "\n",
    "application_test[discrete_list] = SimpleImputer(\n",
    "    strategy='most_frequent').fit_transform(\n",
    "    application_test[discrete_list])\n",
    "\n",
    "application_test[continuos_list] = SimpleImputer(\n",
    "    strategy='median').fit_transform(\n",
    "    application_test[continuos_list])"
   ]
  },
  {
   "cell_type": "code",
   "execution_count": 18,
   "metadata": {},
   "outputs": [
    {
     "data": {
      "text/html": [
       "<div>\n",
       "<style scoped>\n",
       "    .dataframe tbody tr th:only-of-type {\n",
       "        vertical-align: middle;\n",
       "    }\n",
       "\n",
       "    .dataframe tbody tr th {\n",
       "        vertical-align: top;\n",
       "    }\n",
       "\n",
       "    .dataframe thead th {\n",
       "        text-align: right;\n",
       "    }\n",
       "</style>\n",
       "<table border=\"1\" class=\"dataframe\">\n",
       "  <thead>\n",
       "    <tr style=\"text-align: right;\">\n",
       "      <th></th>\n",
       "      <th>Total Null Values</th>\n",
       "      <th>Percent Missing</th>\n",
       "    </tr>\n",
       "  </thead>\n",
       "  <tbody>\n",
       "    <tr>\n",
       "      <th>SK_ID_CURR</th>\n",
       "      <td>0</td>\n",
       "      <td>0.0</td>\n",
       "    </tr>\n",
       "    <tr>\n",
       "      <th>OBS_30_CNT_SOCIAL_CIRCLE</th>\n",
       "      <td>0</td>\n",
       "      <td>0.0</td>\n",
       "    </tr>\n",
       "    <tr>\n",
       "      <th>WALLSMATERIAL_MODE</th>\n",
       "      <td>0</td>\n",
       "      <td>0.0</td>\n",
       "    </tr>\n",
       "    <tr>\n",
       "      <th>TOTALAREA_MODE</th>\n",
       "      <td>0</td>\n",
       "      <td>0.0</td>\n",
       "    </tr>\n",
       "    <tr>\n",
       "      <th>HOUSETYPE_MODE</th>\n",
       "      <td>0</td>\n",
       "      <td>0.0</td>\n",
       "    </tr>\n",
       "    <tr>\n",
       "      <th>...</th>\n",
       "      <td>...</td>\n",
       "      <td>...</td>\n",
       "    </tr>\n",
       "    <tr>\n",
       "      <th>LIVE_REGION_NOT_WORK_REGION</th>\n",
       "      <td>0</td>\n",
       "      <td>0.0</td>\n",
       "    </tr>\n",
       "    <tr>\n",
       "      <th>REG_REGION_NOT_WORK_REGION</th>\n",
       "      <td>0</td>\n",
       "      <td>0.0</td>\n",
       "    </tr>\n",
       "    <tr>\n",
       "      <th>REG_REGION_NOT_LIVE_REGION</th>\n",
       "      <td>0</td>\n",
       "      <td>0.0</td>\n",
       "    </tr>\n",
       "    <tr>\n",
       "      <th>HOUR_APPR_PROCESS_START</th>\n",
       "      <td>0</td>\n",
       "      <td>0.0</td>\n",
       "    </tr>\n",
       "    <tr>\n",
       "      <th>AMT_REQ_CREDIT_BUREAU_YEAR</th>\n",
       "      <td>0</td>\n",
       "      <td>0.0</td>\n",
       "    </tr>\n",
       "  </tbody>\n",
       "</table>\n",
       "<p>122 rows × 2 columns</p>\n",
       "</div>"
      ],
      "text/plain": [
       "                             Total Null Values  Percent Missing\n",
       "SK_ID_CURR                                   0              0.0\n",
       "OBS_30_CNT_SOCIAL_CIRCLE                     0              0.0\n",
       "WALLSMATERIAL_MODE                           0              0.0\n",
       "TOTALAREA_MODE                               0              0.0\n",
       "HOUSETYPE_MODE                               0              0.0\n",
       "...                                        ...              ...\n",
       "LIVE_REGION_NOT_WORK_REGION                  0              0.0\n",
       "REG_REGION_NOT_WORK_REGION                   0              0.0\n",
       "REG_REGION_NOT_LIVE_REGION                   0              0.0\n",
       "HOUR_APPR_PROCESS_START                      0              0.0\n",
       "AMT_REQ_CREDIT_BUREAU_YEAR                   0              0.0\n",
       "\n",
       "[122 rows x 2 columns]"
      ]
     },
     "execution_count": 18,
     "metadata": {},
     "output_type": "execute_result"
    }
   ],
   "source": [
    "null_check(application_train)"
   ]
  },
  {
   "cell_type": "code",
   "execution_count": 19,
   "metadata": {},
   "outputs": [
    {
     "data": {
      "text/html": [
       "<div>\n",
       "<style scoped>\n",
       "    .dataframe tbody tr th:only-of-type {\n",
       "        vertical-align: middle;\n",
       "    }\n",
       "\n",
       "    .dataframe tbody tr th {\n",
       "        vertical-align: top;\n",
       "    }\n",
       "\n",
       "    .dataframe thead th {\n",
       "        text-align: right;\n",
       "    }\n",
       "</style>\n",
       "<table border=\"1\" class=\"dataframe\">\n",
       "  <thead>\n",
       "    <tr style=\"text-align: right;\">\n",
       "      <th></th>\n",
       "      <th>Total Null Values</th>\n",
       "      <th>Percent Missing</th>\n",
       "    </tr>\n",
       "  </thead>\n",
       "  <tbody>\n",
       "    <tr>\n",
       "      <th>SK_ID_CURR</th>\n",
       "      <td>0</td>\n",
       "      <td>0.0</td>\n",
       "    </tr>\n",
       "    <tr>\n",
       "      <th>COMMONAREA_MODE</th>\n",
       "      <td>0</td>\n",
       "      <td>0.0</td>\n",
       "    </tr>\n",
       "    <tr>\n",
       "      <th>EMERGENCYSTATE_MODE</th>\n",
       "      <td>0</td>\n",
       "      <td>0.0</td>\n",
       "    </tr>\n",
       "    <tr>\n",
       "      <th>WALLSMATERIAL_MODE</th>\n",
       "      <td>0</td>\n",
       "      <td>0.0</td>\n",
       "    </tr>\n",
       "    <tr>\n",
       "      <th>TOTALAREA_MODE</th>\n",
       "      <td>0</td>\n",
       "      <td>0.0</td>\n",
       "    </tr>\n",
       "    <tr>\n",
       "      <th>...</th>\n",
       "      <td>...</td>\n",
       "      <td>...</td>\n",
       "    </tr>\n",
       "    <tr>\n",
       "      <th>REG_CITY_NOT_LIVE_CITY</th>\n",
       "      <td>0</td>\n",
       "      <td>0.0</td>\n",
       "    </tr>\n",
       "    <tr>\n",
       "      <th>LIVE_REGION_NOT_WORK_REGION</th>\n",
       "      <td>0</td>\n",
       "      <td>0.0</td>\n",
       "    </tr>\n",
       "    <tr>\n",
       "      <th>REG_REGION_NOT_WORK_REGION</th>\n",
       "      <td>0</td>\n",
       "      <td>0.0</td>\n",
       "    </tr>\n",
       "    <tr>\n",
       "      <th>REG_REGION_NOT_LIVE_REGION</th>\n",
       "      <td>0</td>\n",
       "      <td>0.0</td>\n",
       "    </tr>\n",
       "    <tr>\n",
       "      <th>AMT_REQ_CREDIT_BUREAU_YEAR</th>\n",
       "      <td>0</td>\n",
       "      <td>0.0</td>\n",
       "    </tr>\n",
       "  </tbody>\n",
       "</table>\n",
       "<p>121 rows × 2 columns</p>\n",
       "</div>"
      ],
      "text/plain": [
       "                             Total Null Values  Percent Missing\n",
       "SK_ID_CURR                                   0              0.0\n",
       "COMMONAREA_MODE                              0              0.0\n",
       "EMERGENCYSTATE_MODE                          0              0.0\n",
       "WALLSMATERIAL_MODE                           0              0.0\n",
       "TOTALAREA_MODE                               0              0.0\n",
       "...                                        ...              ...\n",
       "REG_CITY_NOT_LIVE_CITY                       0              0.0\n",
       "LIVE_REGION_NOT_WORK_REGION                  0              0.0\n",
       "REG_REGION_NOT_WORK_REGION                   0              0.0\n",
       "REG_REGION_NOT_LIVE_REGION                   0              0.0\n",
       "AMT_REQ_CREDIT_BUREAU_YEAR                   0              0.0\n",
       "\n",
       "[121 rows x 2 columns]"
      ]
     },
     "execution_count": 19,
     "metadata": {},
     "output_type": "execute_result"
    }
   ],
   "source": [
    "null_check(application_test)"
   ]
  },
  {
   "cell_type": "markdown",
   "metadata": {},
   "source": [
    "**Coverting categorical variable to numerical** "
   ]
  },
  {
   "cell_type": "code",
   "execution_count": 4,
   "metadata": {},
   "outputs": [],
   "source": [
    "from sklearn.preprocessing import LabelEncoder\n",
    "def label_encoder(data):\n",
    "    categorical_cols = data.select_dtypes(include='object').columns\n",
    "    for i in categorical_cols:\n",
    "        encoder = LabelEncoder()\n",
    "        data[i] = encoder.fit_transform(data[i])\n",
    "label_encoder(application_train)\n",
    "label_encoder(application_test)"
   ]
  },
  {
   "cell_type": "markdown",
   "metadata": {},
   "source": [
    "## Training and verifiying the model"
   ]
  },
  {
   "cell_type": "code",
   "execution_count": 5,
   "metadata": {},
   "outputs": [],
   "source": [
    "import lightgbm as lgb\n",
    "from lightgbm import LGBMClassifier\n",
    "from sklearn.metrics import roc_auc_score\n",
    "from sklearn.model_selection import StratifiedKFold\n",
    "from sklearn.tree import DecisionTreeClassifier"
   ]
  },
  {
   "cell_type": "code",
   "execution_count": 6,
   "metadata": {},
   "outputs": [],
   "source": [
    "X_train = application_train.drop(['SK_ID_CURR', 'TARGET'], axis=1)\n",
    "y_train = application_train.TARGET\n",
    "X_pred = application_test.drop(['SK_ID_CURR'], axis=1)"
   ]
  },
  {
   "cell_type": "code",
   "execution_count": 7,
   "metadata": {},
   "outputs": [],
   "source": [
    "folds = StratifiedKFold(n_splits=5)\n",
    "validation_pred = np.zeros(X_train.shape[0])\n",
    "y_pred = np.zeros(X_pred.shape[0])"
   ]
  },
  {
   "cell_type": "code",
   "execution_count": 24,
   "metadata": {},
   "outputs": [
    {
     "name": "stderr",
     "output_type": "stream",
     "text": [
      "/home/billdao/anaconda3/lib/python3.8/site-packages/lightgbm/engine.py:156: UserWarning: Found `early_stopping_rounds` in params. Will use it instead of argument\n",
      "  warnings.warn(\"Found `{}` in params. Will use it instead of argument\".format(alias))\n"
     ]
    },
    {
     "name": "stdout",
     "output_type": "stream",
     "text": [
      "[LightGBM] [Warning] early_stopping_round is set=100, early_stopping_rounds=100 will be ignored. Current value: early_stopping_round=100\n",
      "Training until validation scores don't improve for 100 rounds\n",
      "[200]\tvalid_0's auc: 0.758906\tvalid_0's binary_logloss: 0.245696\n",
      "[400]\tvalid_0's auc: 0.761088\tvalid_0's binary_logloss: 0.245041\n",
      "Early stopping, best iteration is:\n",
      "[429]\tvalid_0's auc: 0.761188\tvalid_0's binary_logloss: 0.245001\n",
      "Fold 1, AUC score: 0.5094514407816404\n"
     ]
    },
    {
     "name": "stderr",
     "output_type": "stream",
     "text": [
      "/home/billdao/anaconda3/lib/python3.8/site-packages/lightgbm/engine.py:156: UserWarning: Found `early_stopping_rounds` in params. Will use it instead of argument\n",
      "  warnings.warn(\"Found `{}` in params. Will use it instead of argument\".format(alias))\n"
     ]
    },
    {
     "name": "stdout",
     "output_type": "stream",
     "text": [
      "[LightGBM] [Warning] early_stopping_round is set=100, early_stopping_rounds=100 will be ignored. Current value: early_stopping_round=100\n",
      "Training until validation scores don't improve for 100 rounds\n",
      "[200]\tvalid_0's auc: 0.758823\tvalid_0's binary_logloss: 0.246122\n",
      "[400]\tvalid_0's auc: 0.760491\tvalid_0's binary_logloss: 0.245647\n",
      "Early stopping, best iteration is:\n",
      "[424]\tvalid_0's auc: 0.76057\tvalid_0's binary_logloss: 0.245639\n",
      "Fold 2, AUC score: 0.5117636498274059\n"
     ]
    },
    {
     "name": "stderr",
     "output_type": "stream",
     "text": [
      "/home/billdao/anaconda3/lib/python3.8/site-packages/lightgbm/engine.py:156: UserWarning: Found `early_stopping_rounds` in params. Will use it instead of argument\n",
      "  warnings.warn(\"Found `{}` in params. Will use it instead of argument\".format(alias))\n"
     ]
    },
    {
     "name": "stdout",
     "output_type": "stream",
     "text": [
      "[LightGBM] [Warning] early_stopping_round is set=100, early_stopping_rounds=100 will be ignored. Current value: early_stopping_round=100\n",
      "Training until validation scores don't improve for 100 rounds\n",
      "[200]\tvalid_0's auc: 0.752776\tvalid_0's binary_logloss: 0.247567\n",
      "[400]\tvalid_0's auc: 0.753802\tvalid_0's binary_logloss: 0.247265\n",
      "Early stopping, best iteration is:\n",
      "[378]\tvalid_0's auc: 0.753863\tvalid_0's binary_logloss: 0.247234\n",
      "Fold 3, AUC score: 0.5088329362010363\n"
     ]
    },
    {
     "name": "stderr",
     "output_type": "stream",
     "text": [
      "/home/billdao/anaconda3/lib/python3.8/site-packages/lightgbm/engine.py:156: UserWarning: Found `early_stopping_rounds` in params. Will use it instead of argument\n",
      "  warnings.warn(\"Found `{}` in params. Will use it instead of argument\".format(alias))\n"
     ]
    },
    {
     "name": "stdout",
     "output_type": "stream",
     "text": [
      "[LightGBM] [Warning] early_stopping_round is set=100, early_stopping_rounds=100 will be ignored. Current value: early_stopping_round=100\n",
      "Training until validation scores don't improve for 100 rounds\n",
      "[200]\tvalid_0's auc: 0.759178\tvalid_0's binary_logloss: 0.245951\n",
      "[400]\tvalid_0's auc: 0.760642\tvalid_0's binary_logloss: 0.245545\n",
      "Early stopping, best iteration is:\n",
      "[422]\tvalid_0's auc: 0.760775\tvalid_0's binary_logloss: 0.245516\n",
      "Fold 4, AUC score: 0.5105606108707145\n"
     ]
    },
    {
     "name": "stderr",
     "output_type": "stream",
     "text": [
      "/home/billdao/anaconda3/lib/python3.8/site-packages/lightgbm/engine.py:156: UserWarning: Found `early_stopping_rounds` in params. Will use it instead of argument\n",
      "  warnings.warn(\"Found `{}` in params. Will use it instead of argument\".format(alias))\n"
     ]
    },
    {
     "name": "stdout",
     "output_type": "stream",
     "text": [
      "[LightGBM] [Warning] early_stopping_round is set=100, early_stopping_rounds=100 will be ignored. Current value: early_stopping_round=100\n",
      "Training until validation scores don't improve for 100 rounds\n",
      "[200]\tvalid_0's auc: 0.759908\tvalid_0's binary_logloss: 0.245972\n",
      "[400]\tvalid_0's auc: 0.76258\tvalid_0's binary_logloss: 0.245188\n",
      "Early stopping, best iteration is:\n",
      "[457]\tvalid_0's auc: 0.762776\tvalid_0's binary_logloss: 0.245123\n",
      "Fold 5, AUC score: 0.5099175826911271\n",
      "mean of valid score: 0.5101\n",
      "training time: 3 mins\n"
     ]
    }
   ],
   "source": [
    "# LightGBM classifier, a gradient boosting model based on Decision Tree model, is the model\n",
    "# used for learning. AUC is metric used for verification\n",
    "import time\n",
    "start = time.time()\n",
    "valid_score = 0\n",
    "for n_fold, (trn_idx, val_idx) in enumerate(folds.split(X_train, y_train)):\n",
    "    train_x, train_y = X_train.iloc[trn_idx], y_train[trn_idx]\n",
    "    validation_x, validation_y = X_train.iloc[val_idx], y_train[val_idx]    \n",
    "    \n",
    "    model_sk = lgb.LGBMClassifier(max_depth=7, learning_rate=0.05, min_split_gain=0.01, \n",
    "                                  early_stopping_rounds = 100, n_estimators= 2000,\n",
    "                                  min_child_weight=40, num_leaves=24)\n",
    "    \n",
    "    \n",
    "    model_sk.fit(train_x, train_y, early_stopping_rounds=100, \n",
    "                 eval_set = [(validation_x, validation_y)], eval_metric = 'auc', verbose = 200)\n",
    "    # Estimation\n",
    "    validation_pred[val_idx] = model_sk.predict(validation_x, num_iteration=model_sk.best_iteration_)\n",
    "    y_pred += model_sk.predict(\n",
    "        X_pred, num_iteration=model_sk.best_iteration_) / folds.n_splits\n",
    "    print('Fold {}, AUC score: {}'.format(\n",
    "        n_fold + 1, roc_auc_score(validation_y, validation_pred[val_idx])))\n",
    "    valid_score += roc_auc_score(validation_y, validation_pred[val_idx])\n",
    "\n",
    "print('mean of valid score: {}'.format(round(valid_score/folds.n_splits,4)))\n",
    "\n",
    "end = time.time()\n",
    "print('training time:', str(round((end - start)/60)), 'mins')"
   ]
  },
  {
   "cell_type": "markdown",
   "metadata": {},
   "source": [
    "# Problem 3"
   ]
  },
  {
   "cell_type": "code",
   "execution_count": 25,
   "metadata": {},
   "outputs": [],
   "source": [
    "output = pd.DataFrame({'SK_ID_CURR':np.int32(application_test.SK_ID_CURR), 'TARGET': y_pred})\n",
    "output.to_csv('only_application_pred.csv', index=False)"
   ]
  },
  {
   "cell_type": "markdown",
   "metadata": {},
   "source": [
    "My submission to **Kaggle** is scored 0.50361"
   ]
  },
  {
   "cell_type": "markdown",
   "metadata": {},
   "source": [
    "![title](img/pic.png)"
   ]
  },
  {
   "cell_type": "markdown",
   "metadata": {},
   "source": [
    "# Problem 4"
   ]
  },
  {
   "cell_type": "markdown",
   "metadata": {},
   "source": [
    "**Feature selection**"
   ]
  },
  {
   "cell_type": "code",
   "execution_count": 23,
   "metadata": {},
   "outputs": [
    {
     "data": {
      "text/plain": [
       "SelectFromModel(estimator=LGBMClassifier(colsample_bytree=0.2,\n",
       "                                         learning_rate=0.05,\n",
       "                                         min_child_weight=40,\n",
       "                                         min_split_gain=0.01, n_estimators=500,\n",
       "                                         num_leaves=32, reg_alpha=3,\n",
       "                                         reg_lambda=1),\n",
       "                threshold='1.25*median')"
      ]
     },
     "execution_count": 23,
     "metadata": {},
     "output_type": "execute_result"
    }
   ],
   "source": [
    "from sklearn.feature_selection import SelectFromModel\n",
    "lgbClassifier = LGBMClassifier(n_estimators=500, learning_rate=0.05, num_leaves=32, colsample_bytree=0.2,\n",
    "            reg_alpha=3, reg_lambda=1, min_split_gain=0.01, min_child_weight=40)\n",
    "\n",
    "lgb_selector = SelectFromModel(lgbClassifier, threshold='1.25*median')\n",
    "lgb_selector.fit(X_train, y_train)"
   ]
  },
  {
   "cell_type": "code",
   "execution_count": 24,
   "metadata": {},
   "outputs": [
    {
     "name": "stdout",
     "output_type": "stream",
     "text": [
      "46 features are selected\n"
     ]
    }
   ],
   "source": [
    "lgb_selected_feature = X_train.loc[:,lgb_selector.get_support()].columns.tolist()\n",
    "print('{} features are selected'.format(len(lgb_selected_feature)))"
   ]
  },
  {
   "cell_type": "code",
   "execution_count": 25,
   "metadata": {},
   "outputs": [],
   "source": [
    "# Perform training again\n",
    "X_train_final = X_train[lgb_selected_feature]\n",
    "X_pred_final = X_pred[lgb_selected_feature]"
   ]
  },
  {
   "cell_type": "code",
   "execution_count": 26,
   "metadata": {},
   "outputs": [],
   "source": [
    "folds = StratifiedKFold(n_splits=5)\n",
    "validation_pred = np.zeros(X_train_final.shape[0])\n",
    "y_pred = np.zeros(X_pred.shape[0])"
   ]
  },
  {
   "cell_type": "code",
   "execution_count": 27,
   "metadata": {},
   "outputs": [
    {
     "name": "stderr",
     "output_type": "stream",
     "text": [
      "/home/billdao/anaconda3/lib/python3.8/site-packages/lightgbm/engine.py:156: UserWarning: Found `early_stopping_rounds` in params. Will use it instead of argument\n",
      "  warnings.warn(\"Found `{}` in params. Will use it instead of argument\".format(alias))\n"
     ]
    },
    {
     "name": "stdout",
     "output_type": "stream",
     "text": [
      "Training until validation scores don't improve for 100 rounds\n",
      "[200]\tvalid_0's auc: 0.756667\tvalid_0's binary_logloss: 0.246431\n",
      "[400]\tvalid_0's auc: 0.757919\tvalid_0's binary_logloss: 0.24598\n",
      "Early stopping, best iteration is:\n",
      "[392]\tvalid_0's auc: 0.758074\tvalid_0's binary_logloss: 0.245945\n",
      "Fold 1, AUC score: 0.5090397774338655\n",
      "[LightGBM] [Warning] early_stopping_round is set=100, early_stopping_rounds=100 will be ignored. Current value: early_stopping_round=100\n"
     ]
    },
    {
     "name": "stderr",
     "output_type": "stream",
     "text": [
      "/home/billdao/anaconda3/lib/python3.8/site-packages/lightgbm/engine.py:156: UserWarning: Found `early_stopping_rounds` in params. Will use it instead of argument\n",
      "  warnings.warn(\"Found `{}` in params. Will use it instead of argument\".format(alias))\n"
     ]
    },
    {
     "name": "stdout",
     "output_type": "stream",
     "text": [
      "Training until validation scores don't improve for 100 rounds\n",
      "[200]\tvalid_0's auc: 0.756532\tvalid_0's binary_logloss: 0.246818\n",
      "[400]\tvalid_0's auc: 0.758131\tvalid_0's binary_logloss: 0.246301\n",
      "[600]\tvalid_0's auc: 0.758469\tvalid_0's binary_logloss: 0.246219\n",
      "Early stopping, best iteration is:\n",
      "[590]\tvalid_0's auc: 0.75851\tvalid_0's binary_logloss: 0.246204\n",
      "Fold 2, AUC score: 0.511579927490381\n",
      "[LightGBM] [Warning] early_stopping_round is set=100, early_stopping_rounds=100 will be ignored. Current value: early_stopping_round=100\n"
     ]
    },
    {
     "name": "stderr",
     "output_type": "stream",
     "text": [
      "/home/billdao/anaconda3/lib/python3.8/site-packages/lightgbm/engine.py:156: UserWarning: Found `early_stopping_rounds` in params. Will use it instead of argument\n",
      "  warnings.warn(\"Found `{}` in params. Will use it instead of argument\".format(alias))\n"
     ]
    },
    {
     "name": "stdout",
     "output_type": "stream",
     "text": [
      "Training until validation scores don't improve for 100 rounds\n",
      "[200]\tvalid_0's auc: 0.749861\tvalid_0's binary_logloss: 0.248418\n",
      "[400]\tvalid_0's auc: 0.750843\tvalid_0's binary_logloss: 0.248095\n",
      "Early stopping, best iteration is:\n",
      "[415]\tvalid_0's auc: 0.750954\tvalid_0's binary_logloss: 0.248061\n",
      "Fold 3, AUC score: 0.5078258868556184\n",
      "[LightGBM] [Warning] early_stopping_round is set=100, early_stopping_rounds=100 will be ignored. Current value: early_stopping_round=100\n"
     ]
    },
    {
     "name": "stderr",
     "output_type": "stream",
     "text": [
      "/home/billdao/anaconda3/lib/python3.8/site-packages/lightgbm/engine.py:156: UserWarning: Found `early_stopping_rounds` in params. Will use it instead of argument\n",
      "  warnings.warn(\"Found `{}` in params. Will use it instead of argument\".format(alias))\n"
     ]
    },
    {
     "name": "stdout",
     "output_type": "stream",
     "text": [
      "Training until validation scores don't improve for 100 rounds\n",
      "[200]\tvalid_0's auc: 0.756889\tvalid_0's binary_logloss: 0.246605\n",
      "[400]\tvalid_0's auc: 0.758139\tvalid_0's binary_logloss: 0.246259\n",
      "Early stopping, best iteration is:\n",
      "[490]\tvalid_0's auc: 0.758557\tvalid_0's binary_logloss: 0.246132\n",
      "Fold 4, AUC score: 0.5096596867176485\n",
      "[LightGBM] [Warning] early_stopping_round is set=100, early_stopping_rounds=100 will be ignored. Current value: early_stopping_round=100\n"
     ]
    },
    {
     "name": "stderr",
     "output_type": "stream",
     "text": [
      "/home/billdao/anaconda3/lib/python3.8/site-packages/lightgbm/engine.py:156: UserWarning: Found `early_stopping_rounds` in params. Will use it instead of argument\n",
      "  warnings.warn(\"Found `{}` in params. Will use it instead of argument\".format(alias))\n"
     ]
    },
    {
     "name": "stdout",
     "output_type": "stream",
     "text": [
      "Training until validation scores don't improve for 100 rounds\n",
      "[200]\tvalid_0's auc: 0.75743\tvalid_0's binary_logloss: 0.246556\n",
      "[400]\tvalid_0's auc: 0.759682\tvalid_0's binary_logloss: 0.245901\n",
      "[600]\tvalid_0's auc: 0.760079\tvalid_0's binary_logloss: 0.245738\n",
      "Early stopping, best iteration is:\n",
      "[637]\tvalid_0's auc: 0.760424\tvalid_0's binary_logloss: 0.245657\n",
      "Fold 5, AUC score: 0.5106436282731975\n",
      "mean of valid score: 0.5097\n",
      "training time: 2 mins\n"
     ]
    }
   ],
   "source": [
    "import time\n",
    "start = time.time()\n",
    "valid_score = 0\n",
    "for n_fold, (trn_idx, val_idx) in enumerate(folds.split(X_train_final, y_train)):\n",
    "    train_x, train_y = X_train_final.iloc[trn_idx], y_train[trn_idx]\n",
    "    validation_x, validation_y = X_train_final.iloc[val_idx], y_train[val_idx]    \n",
    "    \n",
    "    model_sk = lgb.LGBMClassifier(max_depth=7, learning_rate=0.05, min_split_gain=0.01, \n",
    "                                  early_stopping_rounds = 100, n_estimators= 2000,\n",
    "                                  min_child_weight=40, num_leaves=24)\n",
    "    \n",
    "    \n",
    "    model_sk.fit(train_x, train_y, early_stopping_rounds=100, \n",
    "                 eval_set = [(validation_x, validation_y)], eval_metric = 'auc', verbose = 200)\n",
    "    # Estimation\n",
    "    validation_pred[val_idx] = model_sk.predict(validation_x, num_iteration=model_sk.best_iteration_)\n",
    "    y_pred += model_sk.predict(\n",
    "        X_pred_final, num_iteration=model_sk.best_iteration_) / folds.n_splits\n",
    "    print('Fold {}, AUC score: {}'.format(\n",
    "        n_fold + 1, roc_auc_score(validation_y, validation_pred[val_idx])))\n",
    "    valid_score += roc_auc_score(validation_y, validation_pred[val_idx])\n",
    "\n",
    "print('mean of valid score: {}'.format(round(valid_score/folds.n_splits,4)))\n",
    "\n",
    "end = time.time()\n",
    "print('training time:', str(round((end - start)/60)), 'mins')"
   ]
  },
  {
   "cell_type": "code",
   "execution_count": 20,
   "metadata": {},
   "outputs": [],
   "source": [
    "output = pd.DataFrame({'SK_ID_CURR':np.int32(application_test.SK_ID_CURR), 'TARGET': y_pred})\n",
    "output.to_csv('only_application_pred_new.csv', index=False)"
   ]
  },
  {
   "cell_type": "markdown",
   "metadata": {},
   "source": [
    "For feature engineering, I have used <code>SelectFromModel</code>, a transformer for selecting features based on important weights. After fitting the transformer with the training dataset, I tried to pick out all the features whose important weights are greater than 1.25 times the median. 46 features are selected and fitted again to the **LGBMC Classifier**. **KFold** is used when splitting the data. However, the ROC AUC score at each iteration do not impove much. The mean of AUC score after five iterations is 0.5097, even less than before doing feature engineering, 0.5101. "
   ]
  }
 ],
 "metadata": {
  "colab": {
   "collapsed_sections": [],
   "name": "Class_Asignment_Week 4.ipynb",
   "provenance": []
  },
  "kernelspec": {
   "display_name": "Python 3",
   "language": "python",
   "name": "python3"
  },
  "language_info": {
   "codemirror_mode": {
    "name": "ipython",
    "version": 3
   },
   "file_extension": ".py",
   "mimetype": "text/x-python",
   "name": "python",
   "nbconvert_exporter": "python",
   "pygments_lexer": "ipython3",
   "version": "3.8.5"
  }
 },
 "nbformat": 4,
 "nbformat_minor": 1
}
