{
 "cells": [
  {
   "cell_type": "markdown",
   "id": "44b7e845-6b74-463f-baa7-e33767b56ce4",
   "metadata": {},
   "source": [
    "# [Problem 1 to 7]"
   ]
  },
  {
   "cell_type": "code",
   "execution_count": 2,
   "id": "886496b5-c66f-4960-9e5b-963b99c33bf5",
   "metadata": {},
   "outputs": [],
   "source": [
    "import numpy as np\n",
    "import matplotlib.pyplot as plt"
   ]
  },
  {
   "cell_type": "code",
   "execution_count": 158,
   "id": "5d4ab3b5-39c9-4a1b-993d-1d81f795d8f8",
   "metadata": {},
   "outputs": [],
   "source": [
    "class ScratchKMeans():\n",
    "    \"\"\"\n",
    "    K-means scratch implementation\n",
    "    Parameters\n",
    "    ----------\n",
    "    n_clusters : int\n",
    "      Number of clusters\n",
    "    n_init : int\n",
    "      How many times to change the initial value of the center point for calculation\n",
    "    max_iter : int\n",
    "      Maximum number of iterations in one calculation\n",
    "    tol : float\n",
    "      Margin of error between the center point and the center of gravity, which is the reference for ending the iteration\n",
    "    verbose : bool\n",
    "      True to output the learning process\n",
    "    \"\"\"\n",
    "    def __init__(self, n_clusters, n_init, max_iter, tol, verbose=False):\n",
    "        # Record hyperparameters as attributes\n",
    "        self.n_clusters = n_clusters\n",
    "        self.n_init = n_init\n",
    "        self.max_iter = max_iter\n",
    "        self.tol = tol\n",
    "        self.verbose = verbose\n",
    "    def fit(self, X):\n",
    "        \"\"\"\n",
    "        Calculate clustering by K-means\n",
    "        Parameters\n",
    "        ----------\n",
    "        X : The following forms of ndarray, shape (n_samples, n_features)\n",
    "            Features of training data\n",
    "        \"\"\"\n",
    "        self.best_sse = 10**10\n",
    "        for i in range(self.n_init):\n",
    "            \n",
    "            # Initialize centers\n",
    "            self.centroids = self._initialize_centers(X)\n",
    "            \n",
    "            # Setup the clusters by assigning labels\n",
    "            X_labeled = np.zeros((X.shape[0],X.shape[1]+1))\n",
    "            X_labeled[:,:-1] = X\n",
    "            \n",
    "            for j in range(self.max_iter):\n",
    "                self._reclustering(X_labeled)\n",
    "                \n",
    "                old_centroids = self.centroids\n",
    "                self._centroids_update(X_labeled)\n",
    "                \n",
    "                # Output learning process\n",
    "                if self.verbose:\n",
    "                    fig = plt.subplots(figsize=(20,8))\n",
    "                    plt.rcParams[\"font.size\"] = 16\n",
    "                    \n",
    "                    for k in range(self.n_clusters):\n",
    "                        plt.scatter(X[X_labeled[:,-1] == k,0],X[X_labeled[:,-1] == k,1],label=k)\n",
    "                    plt.scatter(self.centroids[:,0],self.centroids[:,1],s=110,label=\"centroids\")\n",
    "                    plt.legend()\n",
    "                    plt.show()\n",
    "                \n",
    "                # Stop iteration\n",
    "                if np.sum(old_centroids - self.centroids) <= self.tol:\n",
    "                    sse = self._sse(X_labeled)\n",
    "                    if self.best_sse > sse:\n",
    "                        self.best_sse = sse\n",
    "                        self.best_centroids = self.centroids\n",
    "                    break\n",
    "            \n",
    "    def predict(self, X):\n",
    "        \"\"\"\n",
    "        Calculate which cluster the input data belongs to\n",
    "        \"\"\"\n",
    "        y_pred = np.zeros(len(X))\n",
    "        \n",
    "        for i in range(len(X)):\n",
    "            max_dist = 10**10\n",
    "            for j in range(self.n_clusters):\n",
    "                dist = np.linalg.norm(X[i,:] - self.centroids[j])\n",
    "                if dist < max_dist:\n",
    "                    max_dist = dist\n",
    "                    y_pred[i] = j\n",
    "        \n",
    "        return y_pred\n",
    "\n",
    "    def _initialize_centers(self, X):\n",
    "        \"\"\"\n",
    "         Choose K points from samples set X, shape (n_samples, n_features)\n",
    "        \"\"\"\n",
    "        return X[np.random.choice(X.shape[0], self.n_clusters, replace=False), :]\n",
    "    \n",
    "    def _sse(self,X):\n",
    "        \"\"\"\n",
    "        Calculate SSE for the sample set X, shape(n_samples, n_features + 1)\n",
    "        \"\"\"\n",
    "        sse = 0\n",
    "        for i in range(len(X)):\n",
    "            for j in range(self.n_clusters): # Calculate SSE within cluster\n",
    "                if X[i,-1] == j:\n",
    "                    sse += np.linalg.norm(X[i,:-1] - self.centroids[j])**2\n",
    "        return sse\n",
    "    \n",
    "    def _reclustering(self, X):\n",
    "        \"\"\"\n",
    "        Reassigning all points to nearest centroids based on Euclidean distance, X, shape(n_samples, n_features + 1)\n",
    "        \"\"\"\n",
    "        for i in range(len(X)):\n",
    "            max_dist = 10**10\n",
    "            for j in range(self.n_clusters):\n",
    "                # Calculate distance to each centroid\n",
    "                dist = np.linalg.norm(X[i,:-1] - self.centroids[j])\n",
    "                if dist < max_dist:\n",
    "                    max_dist = dist\n",
    "                    X[i,-1] = j\n",
    "    def _centroids_update(self, X):\n",
    "        \"\"\"\n",
    "        Moves the center point to the mean (centroid) of all data points assigned to the cluster.\n",
    "        \"\"\"\n",
    "        for i in range(self.n_clusters):\n",
    "            self.centroids[i] = np.mean(X[ X[:,-1] == i, :-1 ],axis=0)"
   ]
  },
  {
   "cell_type": "markdown",
   "id": "6256afa1-0c56-4248-8698-7f4fba6082f7",
   "metadata": {},
   "source": [
    "## Testing with sample data"
   ]
  },
  {
   "cell_type": "code",
   "execution_count": 56,
   "id": "f5065b8f-886b-4e53-a6d0-6a27d14239fa",
   "metadata": {},
   "outputs": [],
   "source": [
    "from sklearn.datasets import make_blobs\n",
    "X, _ = make_blobs(n_samples=100, n_features=2, centers=4, cluster_std=0.5, shuffle=True, random_state=0)"
   ]
  },
  {
   "cell_type": "code",
   "execution_count": 57,
   "id": "b4123fb9-19d7-45d4-908c-1867f625b94a",
   "metadata": {},
   "outputs": [
    {
     "data": {
      "image/png": "[encoded data removed]",
      "text/plain": [
       "<Figure size 432x288 with 1 Axes>"
      ]
     },
     "metadata": {
      "needs_background": "light"
     },
     "output_type": "display_data"
    }
   ],
   "source": [
    "plt.scatter(X[:,0],X[:,1])\n",
    "plt.show()"
   ]
  },
  {
   "cell_type": "code",
   "execution_count": 58,
   "id": "e95d3263-5d90-4872-b61a-451631fb391c",
   "metadata": {},
   "outputs": [],
   "source": [
    "model = ScratchKMeans(n_clusters=4,n_init=4,max_iter=500,tol=1e-5,verbose=True)"
   ]
  },
  {
   "cell_type": "code",
   "execution_count": 59,
   "id": "690f4447-046c-491c-82a4-cf4f2ec87c56",
   "metadata": {},
   "outputs": [
    {
     "data": {
      "image/png": "[encoded data removed]",
      "text/plain": [
       "<Figure size 1440x576 with 1 Axes>"
      ]
     },
     "metadata": {
      "needs_background": "light"
     },
     "output_type": "display_data"
    },
    {
     "data": {
      "image/png": "[encoded data removed]",
      "text/plain": [
       "<Figure size 1440x576 with 1 Axes>"
      ]
     },
     "metadata": {
      "needs_background": "light"
     },
     "output_type": "display_data"
    },
    {
     "data": {
      "image/png": "[encoded data removed]",
      "text/plain": [
       "<Figure size 1440x576 with 1 Axes>"
      ]
     },
     "metadata": {
      "needs_background": "light"
     },
     "output_type": "display_data"
    },
    {
     "data": {
      "image/png": "[encoded data removed]",
      "text/plain": [
       "<Figure size 1440x576 with 1 Axes>"
      ]
     },
     "metadata": {
      "needs_background": "light"
     },
     "output_type": "display_data"
    }
   ],
   "source": [
    "model.fit(X)"
   ]
  },
  {
   "cell_type": "markdown",
   "id": "5d04ae8e-5032-4a16-a424-f394889beb4e",
   "metadata": {},
   "source": [
    "# [Problem 8]"
   ]
  },
  {
   "cell_type": "code",
   "execution_count": 69,
   "id": "1f776cc3-c6bc-476f-b1fd-972e8d3e7319",
   "metadata": {},
   "outputs": [
    {
     "data": {
      "text/plain": [
       "[<matplotlib.lines.Line2D at 0x7f9c10d05f70>]"
      ]
     },
     "execution_count": 69,
     "metadata": {},
     "output_type": "execute_result"
    },
    {
     "data": {
      "image/png": "[encoded data removed]",
      "text/plain": [
       "<Figure size 432x288 with 1 Axes>"
      ]
     },
     "metadata": {
      "needs_background": "light"
     },
     "output_type": "display_data"
    }
   ],
   "source": [
    "# Implementation of Elbow method\n",
    "elbow = []\n",
    "for i in range(1,10):\n",
    "    model = ScratchKMeans(n_clusters=i,n_init=7,max_iter=1000,tol=1e-5,verbose=False)\n",
    "    model.fit(X)\n",
    "    elbow.append(model.best_sse)\n",
    "plt.plot(elbow)"
   ]
  },
  {
   "cell_type": "markdown",
   "id": "512d3175-a027-4bb7-b4dc-655f334aeb2c",
   "metadata": {},
   "source": [
    "# [Problem 10]"
   ]
  },
  {
   "cell_type": "code",
   "execution_count": 121,
   "id": "052a78b4-b13f-42e2-8a1b-9fba88fd0848",
   "metadata": {},
   "outputs": [
    {
     "data": {
      "text/html": [
       "<div>\n",
       "<style scoped>\n",
       "    .dataframe tbody tr th:only-of-type {\n",
       "        vertical-align: middle;\n",
       "    }\n",
       "\n",
       "    .dataframe tbody tr th {\n",
       "        vertical-align: top;\n",
       "    }\n",
       "\n",
       "    .dataframe thead th {\n",
       "        text-align: right;\n",
       "    }\n",
       "</style>\n",
       "<table border=\"1\" class=\"dataframe\">\n",
       "  <thead>\n",
       "    <tr style=\"text-align: right;\">\n",
       "      <th></th>\n",
       "      <th>Channel</th>\n",
       "      <th>Region</th>\n",
       "      <th>Fresh</th>\n",
       "      <th>Milk</th>\n",
       "      <th>Grocery</th>\n",
       "      <th>Frozen</th>\n",
       "      <th>Detergents_Paper</th>\n",
       "      <th>Delicassen</th>\n",
       "    </tr>\n",
       "  </thead>\n",
       "  <tbody>\n",
       "    <tr>\n",
       "      <th>count</th>\n",
       "      <td>440.000000</td>\n",
       "      <td>440.000000</td>\n",
       "      <td>440.000000</td>\n",
       "      <td>440.000000</td>\n",
       "      <td>440.000000</td>\n",
       "      <td>440.000000</td>\n",
       "      <td>440.000000</td>\n",
       "      <td>440.000000</td>\n",
       "    </tr>\n",
       "    <tr>\n",
       "      <th>mean</th>\n",
       "      <td>1.322727</td>\n",
       "      <td>2.543182</td>\n",
       "      <td>12000.297727</td>\n",
       "      <td>5796.265909</td>\n",
       "      <td>7951.277273</td>\n",
       "      <td>3071.931818</td>\n",
       "      <td>2881.493182</td>\n",
       "      <td>1524.870455</td>\n",
       "    </tr>\n",
       "    <tr>\n",
       "      <th>std</th>\n",
       "      <td>0.468052</td>\n",
       "      <td>0.774272</td>\n",
       "      <td>12647.328865</td>\n",
       "      <td>7380.377175</td>\n",
       "      <td>9503.162829</td>\n",
       "      <td>4854.673333</td>\n",
       "      <td>4767.854448</td>\n",
       "      <td>2820.105937</td>\n",
       "    </tr>\n",
       "    <tr>\n",
       "      <th>min</th>\n",
       "      <td>1.000000</td>\n",
       "      <td>1.000000</td>\n",
       "      <td>3.000000</td>\n",
       "      <td>55.000000</td>\n",
       "      <td>3.000000</td>\n",
       "      <td>25.000000</td>\n",
       "      <td>3.000000</td>\n",
       "      <td>3.000000</td>\n",
       "    </tr>\n",
       "    <tr>\n",
       "      <th>25%</th>\n",
       "      <td>1.000000</td>\n",
       "      <td>2.000000</td>\n",
       "      <td>3127.750000</td>\n",
       "      <td>1533.000000</td>\n",
       "      <td>2153.000000</td>\n",
       "      <td>742.250000</td>\n",
       "      <td>256.750000</td>\n",
       "      <td>408.250000</td>\n",
       "    </tr>\n",
       "    <tr>\n",
       "      <th>50%</th>\n",
       "      <td>1.000000</td>\n",
       "      <td>3.000000</td>\n",
       "      <td>8504.000000</td>\n",
       "      <td>3627.000000</td>\n",
       "      <td>4755.500000</td>\n",
       "      <td>1526.000000</td>\n",
       "      <td>816.500000</td>\n",
       "      <td>965.500000</td>\n",
       "    </tr>\n",
       "    <tr>\n",
       "      <th>75%</th>\n",
       "      <td>2.000000</td>\n",
       "      <td>3.000000</td>\n",
       "      <td>16933.750000</td>\n",
       "      <td>7190.250000</td>\n",
       "      <td>10655.750000</td>\n",
       "      <td>3554.250000</td>\n",
       "      <td>3922.000000</td>\n",
       "      <td>1820.250000</td>\n",
       "    </tr>\n",
       "    <tr>\n",
       "      <th>max</th>\n",
       "      <td>2.000000</td>\n",
       "      <td>3.000000</td>\n",
       "      <td>112151.000000</td>\n",
       "      <td>73498.000000</td>\n",
       "      <td>92780.000000</td>\n",
       "      <td>60869.000000</td>\n",
       "      <td>40827.000000</td>\n",
       "      <td>47943.000000</td>\n",
       "    </tr>\n",
       "  </tbody>\n",
       "</table>\n",
       "</div>"
      ],
      "text/plain": [
       "          Channel      Region          Fresh          Milk       Grocery  \\\n",
       "count  440.000000  440.000000     440.000000    440.000000    440.000000   \n",
       "mean     1.322727    2.543182   12000.297727   5796.265909   7951.277273   \n",
       "std      0.468052    0.774272   12647.328865   7380.377175   9503.162829   \n",
       "min      1.000000    1.000000       3.000000     55.000000      3.000000   \n",
       "25%      1.000000    2.000000    3127.750000   1533.000000   2153.000000   \n",
       "50%      1.000000    3.000000    8504.000000   3627.000000   4755.500000   \n",
       "75%      2.000000    3.000000   16933.750000   7190.250000  10655.750000   \n",
       "max      2.000000    3.000000  112151.000000  73498.000000  92780.000000   \n",
       "\n",
       "             Frozen  Detergents_Paper    Delicassen  \n",
       "count    440.000000        440.000000    440.000000  \n",
       "mean    3071.931818       2881.493182   1524.870455  \n",
       "std     4854.673333       4767.854448   2820.105937  \n",
       "min       25.000000          3.000000      3.000000  \n",
       "25%      742.250000        256.750000    408.250000  \n",
       "50%     1526.000000        816.500000    965.500000  \n",
       "75%     3554.250000       3922.000000   1820.250000  \n",
       "max    60869.000000      40827.000000  47943.000000  "
      ]
     },
     "execution_count": 121,
     "metadata": {},
     "output_type": "execute_result"
    }
   ],
   "source": [
    "import pandas as pd\n",
    "df = pd.read_csv(\"WholesalerData.csv\")\n",
    "df.describe()"
   ]
  },
  {
   "cell_type": "code",
   "execution_count": 153,
   "id": "0fce7e93-8d97-4439-bde0-94ea6f1c810d",
   "metadata": {},
   "outputs": [
    {
     "data": {
      "image/png": "[encoded data removed]",
      "text/plain": [
       "<Figure size 432x288 with 1 Axes>"
      ]
     },
     "metadata": {
      "needs_background": "light"
     },
     "output_type": "display_data"
    }
   ],
   "source": [
    "# Reduce the dimensions of the dataset\n",
    "from sklearn.decomposition import PCA\n",
    "data = df.iloc[:,2:7]\n",
    "pca = PCA(n_components = 2)\n",
    "pca = pca.fit(data)\n",
    "data_pca = pca.transform(data) \n",
    "plt.scatter(data_pca[:,0],data_pca[:,1])\n",
    "plt.show()"
   ]
  },
  {
   "cell_type": "markdown",
   "id": "3412b84d-959c-4435-b93a-826bcf6d465e",
   "metadata": {},
   "source": [
    "It seems like we need to normalize the data "
   ]
  },
  {
   "cell_type": "code",
   "execution_count": 131,
   "id": "aafb345e-8ccf-4b10-b15e-cc49b8a2ade6",
   "metadata": {},
   "outputs": [
    {
     "data": {
      "image/png": "[encoded data removed]",
      "text/plain": [
       "<Figure size 432x288 with 1 Axes>"
      ]
     },
     "metadata": {
      "needs_background": "light"
     },
     "output_type": "display_data"
    }
   ],
   "source": [
    "from sklearn.preprocessing import PowerTransformer\n",
    "scaler = PowerTransformer()\n",
    "data_scaled = scaler.fit_transform(data_pca)\n",
    "plt.scatter(data_scaled[:,0],data_scaled[:,1])\n",
    "plt.show()"
   ]
  },
  {
   "cell_type": "code",
   "execution_count": 132,
   "id": "f6bd4551-73cd-4131-afd1-6c782d9d183e",
   "metadata": {},
   "outputs": [],
   "source": [
    "from sklearn.decomposition import PCA\n",
    "import matplotlib.pyplot as plt\n",
    "def plot_pca(data,n):\n",
    "    pca = PCA(n_components=n)\n",
    "    pca = pca.fit(data)\n",
    "    var_exp = pca.explained_variance_ratio_\n",
    "    cum_var_exp = np.cumsum(var_exp)\n",
    "    print(cum_var_exp)\n",
    "    plt.bar(range(1,n+1), var_exp, alpha=0.5, align='center', label='individual explained variance')\n",
    "    plt.step(range(1,n+1), cum_var_exp, where='mid', label='cumulative explained variance')\n",
    "    plt.ylabel = 'Explained variance ratio'\n",
    "    plt.xlabel = 'Principal components'\n",
    "    plt.hlines(0.7, 0, 6,  \"blue\", linestyles='dashed')\n",
    "    plt.legend(loc='best')\n",
    "    plt.grid()\n",
    "    plt.show()"
   ]
  },
  {
   "cell_type": "code",
   "execution_count": 135,
   "id": "b5ae1976-292d-41f5-b410-0bf3b3f8c9f9",
   "metadata": {},
   "outputs": [
    {
     "name": "stdout",
     "output_type": "stream",
     "text": [
      "[0.46798756 0.88100566 0.9480229  0.99302841 1.        ]\n"
     ]
    },
    {
     "data": {
      "image/png": "[encoded data removed]",
      "text/plain": [
       "<Figure size 432x288 with 1 Axes>"
      ]
     },
     "metadata": {
      "needs_background": "light"
     },
     "output_type": "display_data"
    }
   ],
   "source": [
    "data = df.iloc[:,2:7] # Remove channel and region from list of features\n",
    "plot_pca(data,5)"
   ]
  },
  {
   "cell_type": "markdown",
   "id": "a6b1c873-2b60-4e1b-a998-5d81a8302116",
   "metadata": {},
   "source": [
    "From the graph depicting distributed explanation rate of PCA, 3 or 4 are ideal number of features to be chosen as it will contain around 90% to 95% variance of the original data."
   ]
  },
  {
   "cell_type": "code",
   "execution_count": 137,
   "id": "0351cc7c-e117-4a64-9f94-25e35fb8241b",
   "metadata": {},
   "outputs": [
    {
     "data": {
      "text/plain": [
       "[<matplotlib.lines.Line2D at 0x7f9c07542820>]"
      ]
     },
     "execution_count": 137,
     "metadata": {},
     "output_type": "execute_result"
    },
    {
     "data": {
      "image/png": "[encoded data removed]",
      "text/plain": [
       "<Figure size 432x288 with 1 Axes>"
      ]
     },
     "metadata": {
      "needs_background": "light"
     },
     "output_type": "display_data"
    }
   ],
   "source": [
    "# Implementation of Elbow method\n",
    "elbow = []\n",
    "for i in range(1,7):\n",
    "    model = ScratchKMeans(n_clusters=i,n_init=7,max_iter=1000,tol=1e-5,verbose=False)\n",
    "    model.fit(data_scaled)\n",
    "    elbow.append(model.best_sse)\n",
    "plt.plot(elbow)"
   ]
  },
  {
   "cell_type": "markdown",
   "id": "e36dfa32-c995-4a56-b11e-e7588f341b1f",
   "metadata": {},
   "source": [
    "Using the elbow method, we can choose 3 as the number of clusters when training a K-means model."
   ]
  },
  {
   "cell_type": "markdown",
   "id": "916b71dc-8c25-488d-b67d-9b033c84705c",
   "metadata": {},
   "source": [
    "# [Problem 11]"
   ]
  },
  {
   "cell_type": "code",
   "execution_count": 141,
   "id": "ea3a569a-44ab-4f3f-8049-93ed42ac105c",
   "metadata": {},
   "outputs": [
    {
     "data": {
      "text/plain": [
       "<seaborn.axisgrid.FacetGrid at 0x7f9c070049a0>"
      ]
     },
     "execution_count": 141,
     "metadata": {},
     "output_type": "execute_result"
    },
    {
     "data": {
      "image/png": "[encoded data removed]",
      "text/plain": [
       "<Figure size 360x360 with 1 Axes>"
      ]
     },
     "metadata": {
      "needs_background": "light"
     },
     "output_type": "display_data"
    }
   ],
   "source": [
    "# Visualizing the distribution of data regarding channel\n",
    "import seaborn as sns\n",
    "sns.displot(data=df[\"Channel\"], kde=True)"
   ]
  },
  {
   "cell_type": "code",
   "execution_count": 142,
   "id": "eafb8fb0-dede-46e1-8414-20be1d5814e5",
   "metadata": {},
   "outputs": [
    {
     "data": {
      "text/plain": [
       "<seaborn.axisgrid.FacetGrid at 0x7f9bf20daf40>"
      ]
     },
     "execution_count": 142,
     "metadata": {},
     "output_type": "execute_result"
    },
    {
     "data": {
      "image/png": "[encoded data removed]",
      "text/plain": [
       "<Figure size 360x360 with 1 Axes>"
      ]
     },
     "metadata": {
      "needs_background": "light"
     },
     "output_type": "display_data"
    }
   ],
   "source": [
    "# Visualizing the distribution of data regarding region\n",
    "sns.displot(data=df[\"Region\"], kde=True)"
   ]
  },
  {
   "cell_type": "markdown",
   "id": "3517a89b-240c-4f30-b9cb-19319af6bae1",
   "metadata": {},
   "source": [
    "The distribution of data based on these features are not clearly separable since the values are measured with respect to similarity. Hence, these features can not be used for K-means.  "
   ]
  },
  {
   "cell_type": "markdown",
   "id": "73a21751-70a7-4cba-a0a7-70b8c7d767c0",
   "metadata": {},
   "source": [
    "# [Problem 12]"
   ]
  },
  {
   "cell_type": "code",
   "execution_count": 184,
   "id": "6af8e808-6a92-45a5-9550-2289e2510772",
   "metadata": {},
   "outputs": [],
   "source": [
    "model = ScratchKMeans(n_clusters=3,n_init=7,max_iter=1000,tol=1e-5,verbose=False)\n",
    "model.fit(data.values)\n",
    "cluster = model.predict(data.values)"
   ]
  },
  {
   "cell_type": "code",
   "execution_count": 185,
   "id": "66145382-8c3a-42c3-aad4-3752e8e63e98",
   "metadata": {},
   "outputs": [
    {
     "data": {
      "text/html": [
       "<div>\n",
       "<style scoped>\n",
       "    .dataframe tbody tr th:only-of-type {\n",
       "        vertical-align: middle;\n",
       "    }\n",
       "\n",
       "    .dataframe tbody tr th {\n",
       "        vertical-align: top;\n",
       "    }\n",
       "\n",
       "    .dataframe thead th {\n",
       "        text-align: right;\n",
       "    }\n",
       "</style>\n",
       "<table border=\"1\" class=\"dataframe\">\n",
       "  <thead>\n",
       "    <tr style=\"text-align: right;\">\n",
       "      <th></th>\n",
       "      <th></th>\n",
       "      <th></th>\n",
       "      <th>Fresh</th>\n",
       "      <th>Milk</th>\n",
       "      <th>Grocery</th>\n",
       "      <th>Frozen</th>\n",
       "      <th>Detergents_Paper</th>\n",
       "      <th>Delicassen</th>\n",
       "    </tr>\n",
       "    <tr>\n",
       "      <th>Cluster</th>\n",
       "      <th>Channel</th>\n",
       "      <th>Region</th>\n",
       "      <th></th>\n",
       "      <th></th>\n",
       "      <th></th>\n",
       "      <th></th>\n",
       "      <th></th>\n",
       "      <th></th>\n",
       "    </tr>\n",
       "  </thead>\n",
       "  <tbody>\n",
       "    <tr>\n",
       "      <th rowspan=\"5\" valign=\"top\">0.0</th>\n",
       "      <th rowspan=\"2\" valign=\"top\">1</th>\n",
       "      <th>1</th>\n",
       "      <td>4357.500000</td>\n",
       "      <td>17146.000000</td>\n",
       "      <td>14618.500000</td>\n",
       "      <td>5764.500000</td>\n",
       "      <td>3329.000000</td>\n",
       "      <td>3012.000000</td>\n",
       "    </tr>\n",
       "    <tr>\n",
       "      <th>3</th>\n",
       "      <td>5688.500000</td>\n",
       "      <td>15195.500000</td>\n",
       "      <td>12959.000000</td>\n",
       "      <td>2039.000000</td>\n",
       "      <td>3594.500000</td>\n",
       "      <td>2638.000000</td>\n",
       "    </tr>\n",
       "    <tr>\n",
       "      <th rowspan=\"3\" valign=\"top\">2</th>\n",
       "      <th>1</th>\n",
       "      <td>4302.166667</td>\n",
       "      <td>13440.833333</td>\n",
       "      <td>23713.250000</td>\n",
       "      <td>2153.000000</td>\n",
       "      <td>10679.750000</td>\n",
       "      <td>2188.833333</td>\n",
       "    </tr>\n",
       "    <tr>\n",
       "      <th>2</th>\n",
       "      <td>4780.727273</td>\n",
       "      <td>12067.272727</td>\n",
       "      <td>22680.454545</td>\n",
       "      <td>1050.363636</td>\n",
       "      <td>12007.909091</td>\n",
       "      <td>1211.181818</td>\n",
       "    </tr>\n",
       "    <tr>\n",
       "      <th>3</th>\n",
       "      <td>7188.208333</td>\n",
       "      <td>16363.395833</td>\n",
       "      <td>23889.500000</td>\n",
       "      <td>1524.687500</td>\n",
       "      <td>10585.250000</td>\n",
       "      <td>1985.000000</td>\n",
       "    </tr>\n",
       "    <tr>\n",
       "      <th rowspan=\"4\" valign=\"top\">1.0</th>\n",
       "      <th rowspan=\"3\" valign=\"top\">1</th>\n",
       "      <th>1</th>\n",
       "      <td>43803.800000</td>\n",
       "      <td>3957.400000</td>\n",
       "      <td>3926.200000</td>\n",
       "      <td>7326.000000</td>\n",
       "      <td>679.800000</td>\n",
       "      <td>1976.600000</td>\n",
       "    </tr>\n",
       "    <tr>\n",
       "      <th>2</th>\n",
       "      <td>32717.000000</td>\n",
       "      <td>16784.000000</td>\n",
       "      <td>13626.000000</td>\n",
       "      <td>60869.000000</td>\n",
       "      <td>1272.000000</td>\n",
       "      <td>5609.000000</td>\n",
       "    </tr>\n",
       "    <tr>\n",
       "      <th>3</th>\n",
       "      <td>44764.960000</td>\n",
       "      <td>7176.200000</td>\n",
       "      <td>6384.440000</td>\n",
       "      <td>7883.240000</td>\n",
       "      <td>828.080000</td>\n",
       "      <td>4220.040000</td>\n",
       "    </tr>\n",
       "    <tr>\n",
       "      <th>2</th>\n",
       "      <th>3</th>\n",
       "      <td>37371.333333</td>\n",
       "      <td>6726.333333</td>\n",
       "      <td>7529.333333</td>\n",
       "      <td>727.666667</td>\n",
       "      <td>2330.333333</td>\n",
       "      <td>2148.000000</td>\n",
       "    </tr>\n",
       "    <tr>\n",
       "      <th rowspan=\"6\" valign=\"top\">2.0</th>\n",
       "      <th rowspan=\"3\" valign=\"top\">1</th>\n",
       "      <th>1</th>\n",
       "      <td>10259.596154</td>\n",
       "      <td>3351.211538</td>\n",
       "      <td>3628.346154</td>\n",
       "      <td>2622.173077</td>\n",
       "      <td>885.076923</td>\n",
       "      <td>1052.403846</td>\n",
       "    </tr>\n",
       "    <tr>\n",
       "      <th>2</th>\n",
       "      <td>10870.296296</td>\n",
       "      <td>1767.962963</td>\n",
       "      <td>4053.629630</td>\n",
       "      <td>3703.407407</td>\n",
       "      <td>453.481481</td>\n",
       "      <td>939.111111</td>\n",
       "    </tr>\n",
       "    <tr>\n",
       "      <th>3</th>\n",
       "      <td>9770.478261</td>\n",
       "      <td>2858.461957</td>\n",
       "      <td>3448.760870</td>\n",
       "      <td>3100.255435</td>\n",
       "      <td>750.538043</td>\n",
       "      <td>1139.027174</td>\n",
       "    </tr>\n",
       "    <tr>\n",
       "      <th rowspan=\"3\" valign=\"top\">2</th>\n",
       "      <th>1</th>\n",
       "      <td>6995.666667</td>\n",
       "      <td>5470.333333</td>\n",
       "      <td>7989.333333</td>\n",
       "      <td>3446.333333</td>\n",
       "      <td>3316.333333</td>\n",
       "      <td>1238.166667</td>\n",
       "    </tr>\n",
       "    <tr>\n",
       "      <th>2</th>\n",
       "      <td>10739.750000</td>\n",
       "      <td>5235.625000</td>\n",
       "      <td>7589.375000</td>\n",
       "      <td>2214.625000</td>\n",
       "      <td>3463.500000</td>\n",
       "      <td>1277.250000</td>\n",
       "    </tr>\n",
       "    <tr>\n",
       "      <th>3</th>\n",
       "      <td>10651.111111</td>\n",
       "      <td>6433.037037</td>\n",
       "      <td>9367.888889</td>\n",
       "      <td>1546.629630</td>\n",
       "      <td>3876.611111</td>\n",
       "      <td>1667.185185</td>\n",
       "    </tr>\n",
       "  </tbody>\n",
       "</table>\n",
       "</div>"
      ],
      "text/plain": [
       "                               Fresh          Milk       Grocery  \\\n",
       "Cluster Channel Region                                             \n",
       "0.0     1       1        4357.500000  17146.000000  14618.500000   \n",
       "                3        5688.500000  15195.500000  12959.000000   \n",
       "        2       1        4302.166667  13440.833333  23713.250000   \n",
       "                2        4780.727273  12067.272727  22680.454545   \n",
       "                3        7188.208333  16363.395833  23889.500000   \n",
       "1.0     1       1       43803.800000   3957.400000   3926.200000   \n",
       "                2       32717.000000  16784.000000  13626.000000   \n",
       "                3       44764.960000   7176.200000   6384.440000   \n",
       "        2       3       37371.333333   6726.333333   7529.333333   \n",
       "2.0     1       1       10259.596154   3351.211538   3628.346154   \n",
       "                2       10870.296296   1767.962963   4053.629630   \n",
       "                3        9770.478261   2858.461957   3448.760870   \n",
       "        2       1        6995.666667   5470.333333   7989.333333   \n",
       "                2       10739.750000   5235.625000   7589.375000   \n",
       "                3       10651.111111   6433.037037   9367.888889   \n",
       "\n",
       "                              Frozen  Detergents_Paper   Delicassen  \n",
       "Cluster Channel Region                                               \n",
       "0.0     1       1        5764.500000       3329.000000  3012.000000  \n",
       "                3        2039.000000       3594.500000  2638.000000  \n",
       "        2       1        2153.000000      10679.750000  2188.833333  \n",
       "                2        1050.363636      12007.909091  1211.181818  \n",
       "                3        1524.687500      10585.250000  1985.000000  \n",
       "1.0     1       1        7326.000000        679.800000  1976.600000  \n",
       "                2       60869.000000       1272.000000  5609.000000  \n",
       "                3        7883.240000        828.080000  4220.040000  \n",
       "        2       3         727.666667       2330.333333  2148.000000  \n",
       "2.0     1       1        2622.173077        885.076923  1052.403846  \n",
       "                2        3703.407407        453.481481   939.111111  \n",
       "                3        3100.255435        750.538043  1139.027174  \n",
       "        2       1        3446.333333       3316.333333  1238.166667  \n",
       "                2        2214.625000       3463.500000  1277.250000  \n",
       "                3        1546.629630       3876.611111  1667.185185  "
      ]
     },
     "execution_count": 185,
     "metadata": {},
     "output_type": "execute_result"
    }
   ],
   "source": [
    "df[\"Cluster\"] = cluster\n",
    "df.groupby([\"Cluster\",\"Channel\",\"Region\"]).mean()"
   ]
  },
  {
   "cell_type": "code",
   "execution_count": 187,
   "id": "9fb7e807-3f27-48ef-91b8-e19ffdd62766",
   "metadata": {},
   "outputs": [],
   "source": [
    "model2 = ScratchKMeans(n_clusters=3,n_init=7,max_iter=1000,tol=1e-5,verbose=False)\n",
    "model.fit(data_scaled)\n",
    "cluster = model.predict(data_scaled)"
   ]
  },
  {
   "cell_type": "code",
   "execution_count": 190,
   "id": "35928bdc-a754-4ed5-8c3c-4cef83501acb",
   "metadata": {},
   "outputs": [
    {
     "data": {
      "text/html": [
       "<div>\n",
       "<style scoped>\n",
       "    .dataframe tbody tr th:only-of-type {\n",
       "        vertical-align: middle;\n",
       "    }\n",
       "\n",
       "    .dataframe tbody tr th {\n",
       "        vertical-align: top;\n",
       "    }\n",
       "\n",
       "    .dataframe thead th {\n",
       "        text-align: right;\n",
       "    }\n",
       "</style>\n",
       "<table border=\"1\" class=\"dataframe\">\n",
       "  <thead>\n",
       "    <tr style=\"text-align: right;\">\n",
       "      <th></th>\n",
       "      <th></th>\n",
       "      <th></th>\n",
       "      <th>Fresh</th>\n",
       "      <th>Milk</th>\n",
       "      <th>Grocery</th>\n",
       "      <th>Frozen</th>\n",
       "      <th>Detergents_Paper</th>\n",
       "      <th>Delicassen</th>\n",
       "    </tr>\n",
       "    <tr>\n",
       "      <th>Cluster</th>\n",
       "      <th>Channel</th>\n",
       "      <th>Region</th>\n",
       "      <th></th>\n",
       "      <th></th>\n",
       "      <th></th>\n",
       "      <th></th>\n",
       "      <th></th>\n",
       "      <th></th>\n",
       "    </tr>\n",
       "  </thead>\n",
       "  <tbody>\n",
       "    <tr>\n",
       "      <th rowspan=\"6\" valign=\"top\">0.0</th>\n",
       "      <th rowspan=\"3\" valign=\"top\">Horeca</th>\n",
       "      <th>Lisbon</th>\n",
       "      <td>13761.727273</td>\n",
       "      <td>8525.545455</td>\n",
       "      <td>8614.181818</td>\n",
       "      <td>3475.909091</td>\n",
       "      <td>1282.181818</td>\n",
       "      <td>2197.545455</td>\n",
       "    </tr>\n",
       "    <tr>\n",
       "      <th>Orpoeto</th>\n",
       "      <td>19491.750000</td>\n",
       "      <td>5384.000000</td>\n",
       "      <td>9854.000000</td>\n",
       "      <td>16044.000000</td>\n",
       "      <td>1154.750000</td>\n",
       "      <td>2317.250000</td>\n",
       "    </tr>\n",
       "    <tr>\n",
       "      <th>Others</th>\n",
       "      <td>20271.652174</td>\n",
       "      <td>9082.521739</td>\n",
       "      <td>8886.434783</td>\n",
       "      <td>5523.956522</td>\n",
       "      <td>1240.782609</td>\n",
       "      <td>4474.695652</td>\n",
       "    </tr>\n",
       "    <tr>\n",
       "      <th rowspan=\"3\" valign=\"top\">Retail</th>\n",
       "      <th>Lisbon</th>\n",
       "      <td>7875.500000</td>\n",
       "      <td>14010.000000</td>\n",
       "      <td>23263.800000</td>\n",
       "      <td>3211.900000</td>\n",
       "      <td>10708.800000</td>\n",
       "      <td>1697.200000</td>\n",
       "    </tr>\n",
       "    <tr>\n",
       "      <th>Orpoeto</th>\n",
       "      <td>10367.200000</td>\n",
       "      <td>10303.700000</td>\n",
       "      <td>20032.100000</td>\n",
       "      <td>1162.200000</td>\n",
       "      <td>9740.100000</td>\n",
       "      <td>1211.000000</td>\n",
       "    </tr>\n",
       "    <tr>\n",
       "      <th>Others</th>\n",
       "      <td>12505.521127</td>\n",
       "      <td>13051.591549</td>\n",
       "      <td>17366.450704</td>\n",
       "      <td>1738.478873</td>\n",
       "      <td>7546.943662</td>\n",
       "      <td>2067.816901</td>\n",
       "    </tr>\n",
       "    <tr>\n",
       "      <th rowspan=\"6\" valign=\"top\">1.0</th>\n",
       "      <th rowspan=\"3\" valign=\"top\">Horeca</th>\n",
       "      <th>Lisbon</th>\n",
       "      <td>4914.966667</td>\n",
       "      <td>3041.566667</td>\n",
       "      <td>3213.166667</td>\n",
       "      <td>2598.000000</td>\n",
       "      <td>1146.933333</td>\n",
       "      <td>687.133333</td>\n",
       "    </tr>\n",
       "    <tr>\n",
       "      <th>Orpoeto</th>\n",
       "      <td>5444.812500</td>\n",
       "      <td>1608.375000</td>\n",
       "      <td>3559.250000</td>\n",
       "      <td>4541.625000</td>\n",
       "      <td>332.562500</td>\n",
       "      <td>845.062500</td>\n",
       "    </tr>\n",
       "    <tr>\n",
       "      <th>Others</th>\n",
       "      <td>4581.495495</td>\n",
       "      <td>2929.567568</td>\n",
       "      <td>3396.351351</td>\n",
       "      <td>2001.369369</td>\n",
       "      <td>864.747748</td>\n",
       "      <td>933.234234</td>\n",
       "    </tr>\n",
       "    <tr>\n",
       "      <th rowspan=\"3\" valign=\"top\">Retail</th>\n",
       "      <th>Lisbon</th>\n",
       "      <td>1855.625000</td>\n",
       "      <td>6751.500000</td>\n",
       "      <td>12482.125000</td>\n",
       "      <td>1799.375000</td>\n",
       "      <td>5120.875000</td>\n",
       "      <td>2090.375000</td>\n",
       "    </tr>\n",
       "    <tr>\n",
       "      <th>Orpoeto</th>\n",
       "      <td>2251.375000</td>\n",
       "      <td>8832.500000</td>\n",
       "      <td>13392.000000</td>\n",
       "      <td>761.250000</td>\n",
       "      <td>7757.750000</td>\n",
       "      <td>993.125000</td>\n",
       "    </tr>\n",
       "    <tr>\n",
       "      <th>Others</th>\n",
       "      <td>1640.967742</td>\n",
       "      <td>7011.580645</td>\n",
       "      <td>13767.032258</td>\n",
       "      <td>1036.709677</td>\n",
       "      <td>5965.419355</td>\n",
       "      <td>1320.225806</td>\n",
       "    </tr>\n",
       "    <tr>\n",
       "      <th rowspan=\"5\" valign=\"top\">2.0</th>\n",
       "      <th rowspan=\"3\" valign=\"top\">Horeca</th>\n",
       "      <th>Lisbon</th>\n",
       "      <td>25689.166667</td>\n",
       "      <td>2406.333333</td>\n",
       "      <td>2577.277778</td>\n",
       "      <td>3796.500000</td>\n",
       "      <td>420.500000</td>\n",
       "      <td>1435.833333</td>\n",
       "    </tr>\n",
       "    <tr>\n",
       "      <th>Orpoeto</th>\n",
       "      <td>20141.375000</td>\n",
       "      <td>2156.125000</td>\n",
       "      <td>3338.750000</td>\n",
       "      <td>3002.375000</td>\n",
       "      <td>447.000000</td>\n",
       "      <td>1021.875000</td>\n",
       "    </tr>\n",
       "    <tr>\n",
       "      <th>Others</th>\n",
       "      <td>25369.805195</td>\n",
       "      <td>2619.129870</td>\n",
       "      <td>3100.233766</td>\n",
       "      <td>5485.753247</td>\n",
       "      <td>538.506494</td>\n",
       "      <td>1478.584416</td>\n",
       "    </tr>\n",
       "    <tr>\n",
       "      <th rowspan=\"2\" valign=\"top\">Retail</th>\n",
       "      <th>Orpoeto</th>\n",
       "      <td>16823.000000</td>\n",
       "      <td>928.000000</td>\n",
       "      <td>2743.000000</td>\n",
       "      <td>11559.000000</td>\n",
       "      <td>332.000000</td>\n",
       "      <td>3486.000000</td>\n",
       "    </tr>\n",
       "    <tr>\n",
       "      <th>Others</th>\n",
       "      <td>31182.000000</td>\n",
       "      <td>2994.666667</td>\n",
       "      <td>5118.000000</td>\n",
       "      <td>1105.333333</td>\n",
       "      <td>1219.666667</td>\n",
       "      <td>1336.666667</td>\n",
       "    </tr>\n",
       "  </tbody>\n",
       "</table>\n",
       "</div>"
      ],
      "text/plain": [
       "                                Fresh          Milk       Grocery  \\\n",
       "Cluster Channel Region                                              \n",
       "0.0     Horeca  Lisbon   13761.727273   8525.545455   8614.181818   \n",
       "                Orpoeto  19491.750000   5384.000000   9854.000000   \n",
       "                Others   20271.652174   9082.521739   8886.434783   \n",
       "        Retail  Lisbon    7875.500000  14010.000000  23263.800000   \n",
       "                Orpoeto  10367.200000  10303.700000  20032.100000   \n",
       "                Others   12505.521127  13051.591549  17366.450704   \n",
       "1.0     Horeca  Lisbon    4914.966667   3041.566667   3213.166667   \n",
       "                Orpoeto   5444.812500   1608.375000   3559.250000   \n",
       "                Others    4581.495495   2929.567568   3396.351351   \n",
       "        Retail  Lisbon    1855.625000   6751.500000  12482.125000   \n",
       "                Orpoeto   2251.375000   8832.500000  13392.000000   \n",
       "                Others    1640.967742   7011.580645  13767.032258   \n",
       "2.0     Horeca  Lisbon   25689.166667   2406.333333   2577.277778   \n",
       "                Orpoeto  20141.375000   2156.125000   3338.750000   \n",
       "                Others   25369.805195   2619.129870   3100.233766   \n",
       "        Retail  Orpoeto  16823.000000    928.000000   2743.000000   \n",
       "                Others   31182.000000   2994.666667   5118.000000   \n",
       "\n",
       "                               Frozen  Detergents_Paper   Delicassen  \n",
       "Cluster Channel Region                                                \n",
       "0.0     Horeca  Lisbon    3475.909091       1282.181818  2197.545455  \n",
       "                Orpoeto  16044.000000       1154.750000  2317.250000  \n",
       "                Others    5523.956522       1240.782609  4474.695652  \n",
       "        Retail  Lisbon    3211.900000      10708.800000  1697.200000  \n",
       "                Orpoeto   1162.200000       9740.100000  1211.000000  \n",
       "                Others    1738.478873       7546.943662  2067.816901  \n",
       "1.0     Horeca  Lisbon    2598.000000       1146.933333   687.133333  \n",
       "                Orpoeto   4541.625000        332.562500   845.062500  \n",
       "                Others    2001.369369        864.747748   933.234234  \n",
       "        Retail  Lisbon    1799.375000       5120.875000  2090.375000  \n",
       "                Orpoeto    761.250000       7757.750000   993.125000  \n",
       "                Others    1036.709677       5965.419355  1320.225806  \n",
       "2.0     Horeca  Lisbon    3796.500000        420.500000  1435.833333  \n",
       "                Orpoeto   3002.375000        447.000000  1021.875000  \n",
       "                Others    5485.753247        538.506494  1478.584416  \n",
       "        Retail  Orpoeto  11559.000000        332.000000  3486.000000  \n",
       "                Others    1105.333333       1219.666667  1336.666667  "
      ]
     },
     "execution_count": 190,
     "metadata": {},
     "output_type": "execute_result"
    }
   ],
   "source": [
    "df[\"Cluster\"] = cluster\n",
    "df[\"Channel\"].replace({1: \"Horeca\", 2: \"Retail\"}, inplace=True)\n",
    "df[\"Region\"].replace({1: \"Lisbon\", 2: \"Orpoeto\", 3: \"Others\"}, inplace=True)\n",
    "df.groupby([\"Cluster\",\"Channel\",\"Region\"]).mean()"
   ]
  },
  {
   "cell_type": "markdown",
   "id": "9fa90b76-c19e-4465-8110-6748954ceea6",
   "metadata": {},
   "source": [
    "From the statistic obtained above, we can see that:\n",
    " - Grocery is always one of the fields wholesaler's customer spend the most of their money\n",
    " - Every hotel, cafe and restaurant spend a lot of their revenues on fresh commodity which is reasonable as their services involves food and beverages"
   ]
  },
  {
   "cell_type": "code",
   "execution_count": null,
   "id": "29a112d9-3d3d-42e8-9e20-a48daa8b65d7",
   "metadata": {},
   "outputs": [],
   "source": []
  }
 ],
 "metadata": {
  "kernelspec": {
   "display_name": "Python 3",
   "language": "python",
   "name": "python3"
  },
  "language_info": {
   "codemirror_mode": {
    "name": "ipython",
    "version": 3
   },
   "file_extension": ".py",
   "mimetype": "text/x-python",
   "name": "python",
   "nbconvert_exporter": "python",
   "pygments_lexer": "ipython3",
   "version": "3.8.8"
  }
 },
 "nbformat": 4,
 "nbformat_minor": 5
}
