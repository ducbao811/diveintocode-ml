{
 "cells": [
  {
   "cell_type": "markdown",
   "id": "7522f655-8bad-402b-8ed7-d7431e297fea",
   "metadata": {},
   "source": [
    "# [Problem 1 to 6]"
   ]
  },
  {
   "cell_type": "code",
   "execution_count": 102,
   "id": "1ec6be8a-93f3-4689-8185-1ee2bf0c6501",
   "metadata": {},
   "outputs": [],
   "source": [
    "import numpy as np\n",
    "import matplotlib.pyplot as plt\n",
    "import statistics\n",
    "import seaborn as sns"
   ]
  },
  {
   "cell_type": "code",
   "execution_count": 103,
   "id": "fc70bd6c-d0b9-4a14-98d6-476b012c7b4e",
   "metadata": {},
   "outputs": [],
   "source": [
    "class ScratchDecesionTreeClassifierDepth1():\n",
    "    \"\"\"\n",
    "    Depth 1 decision tree classifier scratch implementation\n",
    "    Parameters\n",
    "    ----------\n",
    "    verbose : bool\n",
    "      True to output the learning process\n",
    "    \"\"\"\n",
    "    def __init__(self, verbose=False):\n",
    "        # Record hyperparameters as attributes\n",
    "        self.verbose = verbose\n",
    "    def fit(self, X, y):\n",
    "        \"\"\"\n",
    "        Learn the decision tree classifier\n",
    "        Parameters\n",
    "        ----------\n",
    "        X : The following forms of ndarray, shape (n_samples, n_features)\n",
    "            Features of training data\n",
    "        y : The following form of ndarray, shape (n_samples,)\n",
    "            Correct answer value of training data\n",
    "        \"\"\"\n",
    "        number_of_features = X.shape[1]\n",
    "        self.best_gain = 0\n",
    "        for i in range(number_of_features):\n",
    "            candidate_threshold = np.unique(X[:,i])\n",
    "            \n",
    "            for threshold in candidate_threshold:\n",
    "                left = y[X[:,i] < threshold]\n",
    "                right = y[X[:,i] >= threshold]\n",
    "                \n",
    "                split_info_gain = self._information_gain(y,left,right)\n",
    "                \n",
    "                if split_info_gain > self.best_gain:\n",
    "                    self.left_label = statistics.mode(left)\n",
    "                    self.right_label = statistics.mode(right)\n",
    "                    self.threshold = threshold\n",
    "                    self.feature_chosen = i\n",
    "                    self.best_gain = split_info_gain\n",
    "                    \n",
    "                    if self.verbose:\n",
    "                        print(\"feature: {}, information_gain: {}\".format(self.feature_chosen,self.best_gain))\n",
    "        \n",
    "    def predict(self, X):\n",
    "        \"\"\"\n",
    "        Estimate the label using a decision tree classifier\n",
    "        \"\"\"\n",
    "        return np.where(X[:,self.feature_chosen] < self.threshold,self.left_label,self.right_label)\n",
    "    \n",
    "    def _gini(self,node):\n",
    "        \"\"\"\n",
    "        Function to calculate gini impurity of a node\n",
    "        Parameters\n",
    "        -------\n",
    "        node: nd_array shape(n_smaples,1)\n",
    "        Output\n",
    "        --------\n",
    "        Gini impurity of a node\n",
    "        \"\"\"\n",
    "        samples,counts = np.unique(node, return_counts=True)\n",
    "        result = 1\n",
    "        node_count = len(node)\n",
    "        for count in counts:\n",
    "            result -= (count / node_count)**2\n",
    "        return result\n",
    "    \n",
    "    def _information_gain(self, parent, left, right):\n",
    "        \"\"\"\n",
    "        Calculate information gain of a specific division using gini impurity\n",
    "        Parameters\n",
    "        ---------\n",
    "        parent, left,right: parent, left, right node of the split, ndarray shape (number_of_samples,1)\n",
    "        Output\n",
    "        ---------\n",
    "        Information gain of the division\n",
    "        \"\"\"\n",
    "        parent_gini = self._gini(parent)\n",
    "        left_gini = (self._gini(left) * len(left)) / len(parent)\n",
    "        right_gini = (self._gini(right) * len(right)) / len(parent)\n",
    "        return parent_gini - left_gini - right_gini"
   ]
  },
  {
   "cell_type": "code",
   "execution_count": 104,
   "id": "d3c19eba-438c-41bc-b4c0-3c8b7a4610a7",
   "metadata": {},
   "outputs": [],
   "source": [
    "X = np.array([\n",
    "    [-0.44699 , -2.8073  ],[-1.4621  , -2.4586  ],\n",
    "    [ 0.10645 ,  1.9242  ],[-3.5944  , -4.0112  ],\n",
    "    [-0.9888  ,  4.5718  ],[-3.1625  , -3.9606  ],\n",
    "    [ 0.56421 ,  0.72888 ],[-0.60216 ,  8.4636  ],\n",
    "    [-0.61251 , -0.75345 ],[-0.73535 , -2.2718  ],\n",
    "    [-0.80647 , -2.2135  ],[ 0.86291 ,  2.3946  ],\n",
    "    [-3.1108  ,  0.15394 ],[-2.9362  ,  2.5462  ],\n",
    "    [-0.57242 , -2.9915  ],[ 1.4771  ,  3.4896  ],\n",
    "    [ 0.58619 ,  0.37158 ],[ 0.6017  ,  4.3439  ],\n",
    "    [-2.1086  ,  8.3428  ],[-4.1013  , -4.353   ],\n",
    "    [-1.9948  , -1.3927  ],[ 0.35084 , -0.031994],\n",
    "    [ 0.96765 ,  7.8929  ],[-1.281   , 15.6824  ],\n",
    "    [ 0.96765 , 10.083   ],[ 1.3763  ,  1.3347  ],\n",
    "    [-2.234   , -2.5323  ],[-2.9452  , -1.8219  ],\n",
    "    [ 0.14654 , -0.28733 ],[ 0.5461  ,  5.8245  ],\n",
    "    [-0.65259 ,  9.3444  ],[ 0.59912 ,  5.3524  ],\n",
    "    [ 0.50214 , -0.31818 ],[-3.0603  , -3.6461  ],\n",
    "    [-6.6797  ,  0.67661 ],[-2.353   , -0.72261 ],\n",
    "    [ 1.1319  ,  2.4023  ],[-0.12243 ,  9.0162  ],\n",
    "    [-2.5677  , 13.1779  ],[ 0.057313,  5.4681  ],\n",
    "])\n",
    "y = np.array([0, 0, 0, 0, 0, 0, 0, 0, 0, 0, 0, 0, 0, 0, 0, 0, 0, 0, 0, 0, 1, 1,\n",
    "       1, 1, 1, 1, 1, 1, 1, 1, 1, 1, 1, 1, 1, 1, 1, 1, 1, 1])"
   ]
  },
  {
   "cell_type": "code",
   "execution_count": 105,
   "id": "dc7ec641-c478-4328-b829-54914d72dfa9",
   "metadata": {},
   "outputs": [
    {
     "data": {
      "text/plain": [
       "<AxesSubplot:>"
      ]
     },
     "execution_count": 105,
     "metadata": {},
     "output_type": "execute_result"
    },
    {
     "data": {
      "image/png": "[encoded data removed]",
      "text/plain": [
       "<Figure size 432x288 with 1 Axes>"
      ]
     },
     "metadata": {
      "needs_background": "light"
     },
     "output_type": "display_data"
    }
   ],
   "source": [
    "# Visualize data distribution\n",
    "sns.scatterplot(x=X[:,0],y=X[:,1],hue=y)"
   ]
  },
  {
   "cell_type": "markdown",
   "id": "0140a911-6108-4e2d-b9a5-468d74d6e0ae",
   "metadata": {},
   "source": [
    "**Learning and estimation using the scratch class**"
   ]
  },
  {
   "cell_type": "code",
   "execution_count": 106,
   "id": "8074f995-68ec-4b6f-9a12-bb522b44a982",
   "metadata": {},
   "outputs": [],
   "source": [
    "# Split the data\n",
    "from sklearn.model_selection import train_test_split\n",
    "\n",
    "X_train, X_test, y_train, y_test = train_test_split(X,y,random_state=42,train_size =0.75)"
   ]
  },
  {
   "cell_type": "code",
   "execution_count": 107,
   "id": "28bc487d-3349-498d-88f8-bb3cb604c520",
   "metadata": {},
   "outputs": [
    {
     "name": "stdout",
     "output_type": "stream",
     "text": [
      "feature: 0, information_gain: 0.01501915708812257\n",
      "feature: 0, information_gain: 0.020992063492063423\n",
      "feature: 0, information_gain: 0.03865258924082446\n",
      "feature: 0, information_gain: 0.06259259259259262\n",
      "feature: 0, information_gain: 0.09395002658160546\n",
      "feature: 1, information_gain: 0.12126262626262618\n",
      "[0 1 1 0 1 1 1 0 1 1]\n"
     ]
    }
   ],
   "source": [
    "model = ScratchDecesionTreeClassifierDepth1(verbose=True)\n",
    "model.fit(X_train,y_train)\n",
    "y_pred = model.predict(X_test)\n",
    "print(y_pred)"
   ]
  },
  {
   "cell_type": "code",
   "execution_count": 143,
   "id": "ab83a335-9143-4220-9dab-5131376465dd",
   "metadata": {},
   "outputs": [],
   "source": [
    "# Evaluation metrics\n",
    "from sklearn.metrics import accuracy_score, precision_score, recall_score, f1_score\n",
    "def evaluate(y_pred, y_test):\n",
    "  print(\"accuracy: {}\".format(accuracy_score(y_test,y_pred)))\n",
    "  print(\"precision: {}\".format(precision_score(y_test,y_pred)))\n",
    "  print(\"recall: {}\".format(recall_score(y_test,y_pred)))\n",
    "  print(\"f1: {}\".format(f1_score(y_test,y_pred)))"
   ]
  },
  {
   "cell_type": "code",
   "execution_count": 144,
   "id": "240d7370-fcde-4bc6-a7b9-e60f3a071154",
   "metadata": {},
   "outputs": [
    {
     "name": "stdout",
     "output_type": "stream",
     "text": [
      "accuracy: 0.3\n",
      "precision: 0.2857142857142857\n",
      "recall: 0.5\n",
      "f1: 0.36363636363636365\n"
     ]
    }
   ],
   "source": [
    "evaluate(y_pred,y_test)"
   ]
  },
  {
   "cell_type": "code",
   "execution_count": 12,
   "id": "7386d609-06cf-46cd-9881-07a32fde8c28",
   "metadata": {},
   "outputs": [
    {
     "name": "stdout",
     "output_type": "stream",
     "text": [
      "accuracy: 0.3\n",
      "precision: 0.2857142857142857\n",
      "recall: 0.5\n",
      "f1: 0.36363636363636365\n"
     ]
    }
   ],
   "source": [
    "# Skcit-learn implementation with depth 1\n",
    "from sklearn.tree import DecisionTreeClassifier\n",
    "model_sk = DecisionTreeClassifier(max_depth=1)\n",
    "model_sk.fit(X_train,y_train)\n",
    "y_pred_sk = model_sk.predict(X_test)\n",
    "evaluate(y_pred_sk,y_test)"
   ]
  },
  {
   "cell_type": "markdown",
   "id": "4fb9131f-f761-42bc-b96a-d966a513a68d",
   "metadata": {},
   "source": [
    "As can be seen from above output, there is no difference between the result generated from scratch model and model imported from sklearn. Since max_depth hyperparameter is set to 1, the performance of skcit-learn model is the same with our model. Both perform not well as the trees generated only branch once."
   ]
  },
  {
   "cell_type": "code",
   "execution_count": 13,
   "id": "a061aca2-6210-44bc-86c9-fc319bd8df2c",
   "metadata": {},
   "outputs": [],
   "source": [
    "# Visualizing decision area\n",
    "from matplotlib.colors import ListedColormap\n",
    "import matplotlib.patches as mpatches\n",
    "def decision_region(X, y, model, step=0.01, title='decision region', xlabel='xlabel', ylabel='ylabel', target_names=['1', '-1']):\n",
    "    \"\"\"\n",
    "    Draw the determination area of the model that learned binary classification with two-dimensional features.\n",
    "    The background color is drawn from the estimated values of the trained model.\n",
    "    The points on the scatter plot are training or validation data.\n",
    "    Parameters\n",
    "    ----------------\n",
    "    X : ndarray, shape(n_samples, 2)\n",
    "        Feature value\n",
    "    y : ndarray, shape(n_samples,)\n",
    "        label\n",
    "    model : object\n",
    "        Insert the installed model of the learned model\n",
    "    step : float, (default : 0.1)\n",
    "        Set the interval to calculate the estimate\n",
    "    title : str\n",
    "        Give the text of the graph Title\n",
    "    xlabel, ylabel : str\n",
    "        Give the text of the axis label\n",
    "    target_names= : list of str\n",
    "        Give a list of legends\n",
    "    \"\"\"\n",
    "    # setting\n",
    "    scatter_color = ['red', 'blue']\n",
    "    contourf_color = ['pink', 'green']\n",
    "    n_class = 2\n",
    "    # pred\n",
    "    mesh_f0, mesh_f1  = np.meshgrid(np.arange(np.min(X[:,0])-0.5, np.max(X[:,0])+0.5, step), np.arange(np.min(X[:,1])-0.5, np.max(X[:,1])+0.5, step))\n",
    "    mesh = np.c_[np.ravel(mesh_f0),np.ravel(mesh_f1)]\n",
    "    y_pred = model.predict(mesh).reshape(mesh_f0.shape)\n",
    "    # plot\n",
    "    plt.title(title)\n",
    "    plt.xlabel(xlabel)\n",
    "    plt.ylabel(ylabel)\n",
    "    plt.contourf(mesh_f0, mesh_f1, y_pred, n_class-1, cmap=ListedColormap(contourf_color))\n",
    "    plt.contour(mesh_f0, mesh_f1, y_pred, n_class-1, colors='y', linewidths=3, alpha=0.5)\n",
    "    for i, target in enumerate(set(y)):\n",
    "        plt.scatter(X[y==target][:, 0], X[y==target][:, 1], s=80, color=scatter_color[i], label=target_names[i], marker='o')\n",
    "    patches = [mpatches.Patch(color=scatter_color[i], label=target_names[i]) for i in range(n_class)]\n",
    "    plt.legend(handles=patches)\n",
    "    plt.legend()"
   ]
  },
  {
   "cell_type": "code",
   "execution_count": 14,
   "id": "f027d3af-0dae-4aee-b878-79c1f67224fc",
   "metadata": {},
   "outputs": [
    {
     "data": {
      "image/png": "[encoded data removed]",
      "text/plain": [
       "<Figure size 1152x648 with 1 Axes>"
      ]
     },
     "metadata": {
      "needs_background": "light"
     },
     "output_type": "display_data"
    }
   ],
   "source": [
    "fig, ax = plt.subplots(figsize=(16,9))\n",
    "decision_region(X_train,y_train,model)\n",
    "plt.scatter(X_test[:,0], X_test[:,1], s=80, label=\"Test\")\n",
    "plt.legend();"
   ]
  },
  {
   "cell_type": "markdown",
   "id": "119468f3-f32e-4deb-9a8e-e7641776548a",
   "metadata": {},
   "source": [
    "# [Problem 7 and 8]"
   ]
  },
  {
   "cell_type": "code",
   "execution_count": 121,
   "id": "aa9cc5d3-0b23-490b-ba6f-3f23953b1218",
   "metadata": {},
   "outputs": [],
   "source": [
    "class DecisionTreeNode():\n",
    "    \"\"\"\n",
    "    Data structure to represent a node in a decision tree\n",
    "    \"\"\"\n",
    "    def __init__(self, verbose=False,max_depth=None):\n",
    "        self.verbose = verbose\n",
    "        self.max_depth = max_depth   \n",
    "    def _tree_contruct(self,X,y,depth=None):\n",
    "        \"\"\"\n",
    "        Determine the split and generate two node left and right\n",
    "        Parameters\n",
    "        ----------\n",
    "        X : The following forms of ndarray, shape (n_samples, n_features)\n",
    "            Features of training data\n",
    "        y : The following form of ndarray, shape (n_samples,)\n",
    "            Correct answer value of training data\n",
    "        \"\"\"\n",
    "        \n",
    "        if len(np.unique(y)) == 1 or depth == self.max_depth:\n",
    "            self.label = statistics.mode(y)\n",
    "            return\n",
    "            \n",
    "        number_of_features = X.shape[1]\n",
    "        self.best_gain = 0\n",
    "        for i in range(number_of_features):\n",
    "            candidate_threshold = np.unique(X[:,i])\n",
    "            \n",
    "            for threshold in candidate_threshold:\n",
    "                left = y[X[:,i] < threshold]\n",
    "                right = y[X[:,i] >= threshold]\n",
    "                \n",
    "                split_info_gain = self._information_gain(y,left,right)\n",
    "                \n",
    "                if split_info_gain > self.best_gain:\n",
    "                    self.threshold = threshold\n",
    "                    self.feature_chosen = i\n",
    "                    self.best_gain = split_info_gain\n",
    "                    \n",
    "                    if self.verbose:\n",
    "                        print(\"depth: {}, feature: {}, information_gain: {}\".format(depth,self.feature_chosen,self.best_gain))\n",
    "                        \n",
    "        self.label = None\n",
    "        self.left_node = DecisionTreeNode(verbose=self.verbose, max_depth=self.max_depth)\n",
    "        self.left_node._tree_contruct(X=X[X[:,self.feature_chosen] < self.threshold],y=y[X[:,self.feature_chosen] < self.threshold],depth=depth+1)\n",
    "        self.right_node = DecisionTreeNode(verbose=self.verbose,  max_depth=self.max_depth)\n",
    "        self.right_node._tree_contruct(X=X[X[:,self.feature_chosen] >= self.threshold],y=y[X[:,self.feature_chosen] >= self.threshold],depth=depth+1)\n",
    "        \n",
    "        \n",
    "    def predict(self, X):\n",
    "        \"\"\"\n",
    "        Estimate the label of a sample by traverse node in a decision tree classifier\n",
    "        \"\"\"\n",
    "        if self.label is None:\n",
    "            if X[self.feature_chosen] < self.threshold:\n",
    "                return self.left_node.predict(X)\n",
    "            else:\n",
    "                return self.right_node.predict(X)\n",
    "        else:\n",
    "            return self.label\n",
    "        \n",
    "    def _gini(self,node):\n",
    "        \"\"\"\n",
    "        Function to calculate gini impurity of a node\n",
    "        Parameters\n",
    "        -------\n",
    "        node: nd_array shape(n_smaples,1)\n",
    "        Output\n",
    "        --------\n",
    "        Gini impurity of a node\n",
    "        \"\"\"\n",
    "        samples,counts = np.unique(node, return_counts=True)\n",
    "        result = 1\n",
    "        node_count = len(node)\n",
    "        for count in counts:\n",
    "            result -= (count / node_count)**2\n",
    "        return result\n",
    "    \n",
    "    def _information_gain(self, parent, left, right):\n",
    "        \"\"\"\n",
    "        Calculate information gain of a specific division using gini impurity\n",
    "        Parameters\n",
    "        ---------\n",
    "        parent, left,right: parent, left, right node of the split, ndarray shape (number_of_samples,1)\n",
    "        Output\n",
    "        ---------\n",
    "        Information gain of the division\n",
    "        \"\"\"\n",
    "        parent_gini = self._gini(parent)\n",
    "        left_gini = (self._gini(left) * len(left)) / len(parent)\n",
    "        right_gini = (self._gini(right) * len(right)) / len(parent)\n",
    "        return parent_gini - left_gini - right_gini\n",
    "        "
   ]
  },
  {
   "cell_type": "code",
   "execution_count": 124,
   "id": "56e6dfd0-d991-4cd0-8d9e-1d1cebcb10da",
   "metadata": {},
   "outputs": [],
   "source": [
    "class ScratchDecesionTreeClassifier():\n",
    "    \"\"\"\n",
    "    Decision tree classifier scratch implementation\n",
    "    Parameters\n",
    "    ----------\n",
    "    verbose : bool\n",
    "      True to output the learning process\n",
    "    \"\"\"\n",
    "    def __init__(self, verbose=False,max_depth=None):\n",
    "        # Record hyperparameters as attributes\n",
    "        self.verbose = verbose\n",
    "        self.max_depth = max_depth\n",
    "    def fit(self, X, y):\n",
    "        \"\"\"\n",
    "        Learn the decision tree classifier\n",
    "        Parameters\n",
    "        ----------\n",
    "        X : The following forms of ndarray, shape (n_samples, n_features)\n",
    "            Features of training data\n",
    "        y : The following form of ndarray, shape (n_samples,)\n",
    "            Correct answer value of training data\n",
    "        \"\"\"\n",
    "        self.root = DecisionTreeNode(verbose=self.verbose,max_depth=self.max_depth)\n",
    "        self.root._tree_contruct(X,y,0)\n",
    "        \n",
    "        \n",
    "    def predict(self, X):\n",
    "        \"\"\"\n",
    "        Estimate the label using a decision tree classifier\n",
    "        \"\"\"\n",
    "        result = np.zeros(len(X))\n",
    "        for i,sample in enumerate(X):\n",
    "            result[i] = self.root.predict(sample)\n",
    "        return result"
   ]
  },
  {
   "cell_type": "markdown",
   "id": "6368d0fc-c828-4d17-9ee2-ae95d22a4977",
   "metadata": {},
   "source": [
    "**Learning and estimation with depth = 2**"
   ]
  },
  {
   "cell_type": "code",
   "execution_count": 135,
   "id": "0c7b299c-0fc5-4755-9d16-25af8599f7e7",
   "metadata": {},
   "outputs": [
    {
     "name": "stdout",
     "output_type": "stream",
     "text": [
      "depth: 0, feature: 0, information_gain: 0.01501915708812257\n",
      "depth: 0, feature: 0, information_gain: 0.020992063492063423\n",
      "depth: 0, feature: 0, information_gain: 0.03865258924082446\n",
      "depth: 0, feature: 0, information_gain: 0.06259259259259262\n",
      "depth: 0, feature: 0, information_gain: 0.09395002658160546\n",
      "depth: 0, feature: 1, information_gain: 0.12126262626262618\n",
      "depth: 1, feature: 0, information_gain: 0.004464285714285643\n",
      "depth: 1, feature: 0, information_gain: 0.01041666666666674\n",
      "depth: 1, feature: 0, information_gain: 0.052083333333333315\n",
      "depth: 1, feature: 0, information_gain: 0.009641873278236957\n",
      "depth: 1, feature: 0, information_gain: 0.011157024793388426\n",
      "depth: 1, feature: 0, information_gain: 0.037190082644628114\n",
      "depth: 1, feature: 0, information_gain: 0.04499540863177226\n",
      "[0. 1. 1. 0. 1. 1. 1. 0. 1. 1.]\n"
     ]
    }
   ],
   "source": [
    "model = ScratchDecesionTreeClassifier(verbose=True,max_depth=2)\n",
    "model.fit(X_train,y_train)\n",
    "y_pred = model.predict(X_test)\n",
    "print(y_pred)"
   ]
  },
  {
   "cell_type": "code",
   "execution_count": 136,
   "id": "0d44de85-d06f-4c74-9fd7-010207bb18b2",
   "metadata": {},
   "outputs": [
    {
     "name": "stdout",
     "output_type": "stream",
     "text": [
      "accuracy: 0.3\n",
      "precision: 0.2857142857142857\n",
      "recall: 0.5\n",
      "f1: 0.36363636363636365\n"
     ]
    }
   ],
   "source": [
    "evaluate(y_pred,y_test)"
   ]
  },
  {
   "cell_type": "code",
   "execution_count": 137,
   "id": "9d9d5308-d313-47b0-a7a1-a71b90a16814",
   "metadata": {},
   "outputs": [
    {
     "data": {
      "image/png": "[encoded data removed]",
      "text/plain": [
       "<Figure size 1152x648 with 1 Axes>"
      ]
     },
     "metadata": {
      "needs_background": "light"
     },
     "output_type": "display_data"
    }
   ],
   "source": [
    "# Decision Tree \n",
    "fig, ax = plt.subplots(figsize=(16,9))\n",
    "decision_region(X_train,y_train,model)\n",
    "plt.scatter(X_test[:,0], X_test[:,1], s=80, label=\"Test\")\n",
    "plt.legend();"
   ]
  },
  {
   "cell_type": "markdown",
   "id": "bf919669-6a9e-4b3a-892b-54fa4dd3720c",
   "metadata": {},
   "source": [
    "**Learning and Estimation with unlimited depth**"
   ]
  },
  {
   "cell_type": "code",
   "execution_count": 140,
   "id": "faddf495-9917-4393-ade4-da1f1729b887",
   "metadata": {},
   "outputs": [
    {
     "name": "stdout",
     "output_type": "stream",
     "text": [
      "depth: 0, feature: 0, information_gain: 0.01501915708812257\n",
      "depth: 0, feature: 0, information_gain: 0.020992063492063423\n",
      "depth: 0, feature: 0, information_gain: 0.03865258924082446\n",
      "depth: 0, feature: 0, information_gain: 0.06259259259259262\n",
      "depth: 0, feature: 0, information_gain: 0.09395002658160546\n",
      "depth: 0, feature: 1, information_gain: 0.12126262626262618\n",
      "depth: 1, feature: 0, information_gain: 0.004464285714285643\n",
      "depth: 1, feature: 0, information_gain: 0.01041666666666674\n",
      "depth: 1, feature: 0, information_gain: 0.052083333333333315\n",
      "depth: 2, feature: 0, information_gain: 0.11111111111111116\n",
      "depth: 2, feature: 0, information_gain: 0.4444444444444445\n",
      "depth: 1, feature: 0, information_gain: 0.009641873278236957\n",
      "depth: 1, feature: 0, information_gain: 0.011157024793388426\n",
      "depth: 1, feature: 0, information_gain: 0.037190082644628114\n",
      "depth: 1, feature: 0, information_gain: 0.04499540863177226\n",
      "depth: 2, feature: 0, information_gain: 0.017792302106027502\n",
      "depth: 2, feature: 0, information_gain: 0.030864197530864113\n",
      "depth: 2, feature: 0, information_gain: 0.030864197530864154\n",
      "depth: 2, feature: 0, information_gain: 0.09336419753086417\n",
      "depth: 3, feature: 0, information_gain: 0.01302083333333337\n",
      "depth: 3, feature: 0, information_gain: 0.02552083333333338\n",
      "depth: 3, feature: 0, information_gain: 0.08877840909090906\n",
      "depth: 4, feature: 0, information_gain: 0.04132231404958686\n",
      "depth: 4, feature: 0, information_gain: 0.0478158205430933\n",
      "depth: 4, feature: 0, information_gain: 0.09976387249114527\n",
      "depth: 4, feature: 0, information_gain: 0.22314049586776868\n",
      "depth: 5, feature: 0, information_gain: 0.01785714285714285\n",
      "depth: 5, feature: 0, information_gain: 0.04166666666666674\n",
      "depth: 5, feature: 0, information_gain: 0.07500000000000001\n",
      "depth: 6, feature: 0, information_gain: 0.07999999999999996\n",
      "depth: 6, feature: 0, information_gain: 0.18\n",
      "depth: 6, feature: 1, information_gain: 0.21333333333333326\n",
      "depth: 7, feature: 0, information_gain: 0.11111111111111116\n",
      "depth: 7, feature: 1, information_gain: 0.4444444444444445\n",
      "[0. 1. 1. 1. 1. 1. 0. 1. 0. 1.]\n"
     ]
    }
   ],
   "source": [
    "model = ScratchDecesionTreeClassifier(verbose=True)\n",
    "model.fit(X_train,y_train)\n",
    "y_pred = model.predict(X_test)\n",
    "print(y_pred)"
   ]
  },
  {
   "cell_type": "code",
   "execution_count": 141,
   "id": "ed53bea1-ede4-49ca-a207-48719a74e8b9",
   "metadata": {},
   "outputs": [
    {
     "name": "stdout",
     "output_type": "stream",
     "text": [
      "accuracy: 0.3\n",
      "precision: 0.2857142857142857\n",
      "recall: 0.5\n",
      "f1: 0.36363636363636365\n"
     ]
    }
   ],
   "source": [
    "evaluate(y_pred,y_test)"
   ]
  },
  {
   "cell_type": "code",
   "execution_count": 142,
   "id": "14a27c41-9500-43f7-9acf-8377374f88df",
   "metadata": {},
   "outputs": [
    {
     "data": {
      "image/png": "[encoded data removed]",
      "text/plain": [
       "<Figure size 1152x648 with 1 Axes>"
      ]
     },
     "metadata": {
      "needs_background": "light"
     },
     "output_type": "display_data"
    }
   ],
   "source": [
    "fig, ax = plt.subplots(figsize=(16,9))\n",
    "decision_region(X_train,y_train,model)\n",
    "plt.scatter(X_test[:,0], X_test[:,1], s=80, label=\"Test\")\n",
    "plt.legend();"
   ]
  }
 ],
 "metadata": {
  "kernelspec": {
   "display_name": "Python 3",
   "language": "python",
   "name": "python3"
  },
  "language_info": {
   "codemirror_mode": {
    "name": "ipython",
    "version": 3
   },
   "file_extension": ".py",
   "mimetype": "text/x-python",
   "name": "python",
   "nbconvert_exporter": "python",
   "pygments_lexer": "ipython3",
   "version": "3.8.8"
  }
 },
 "nbformat": 4,
 "nbformat_minor": 5
}
