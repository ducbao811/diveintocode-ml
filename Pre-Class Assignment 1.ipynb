{
 "cells": [
  {
   "cell_type": "markdown",
   "id": "mechanical-vacuum",
   "metadata": {},
   "source": [
    "# Problem 1\n",
    "Below is the code to calculate the thickness when folded 43 times"
   ]
  },
  {
   "cell_type": "code",
   "execution_count": 2,
   "id": "proprietary-budapest",
   "metadata": {},
   "outputs": [
    {
     "name": "stdout",
     "output_type": "stream",
     "text": [
      "Thickness: 7036874417.7664 meters\n"
     ]
    }
   ],
   "source": [
    "THICKNESS = 0.0008\n",
    "folded_thickness = THICKNESS*(2**43)\n",
    "print(\"Thickness: {} meters\".format(folded_thickness))"
   ]
  },
  {
   "cell_type": "markdown",
   "id": "union-disposal",
   "metadata": {},
   "source": [
    "# Problem 2\n",
    "Covert the thickness from meters to 10000 kilometers. The distance to the moon is 1.5 times less than the thickness "
   ]
  },
  {
   "cell_type": "code",
   "execution_count": 5,
   "id": "tight-priest",
   "metadata": {
    "scrolled": false
   },
   "outputs": [
    {
     "name": "stdout",
     "output_type": "stream",
     "text": [
      "Thickness: 7036874.42 ten thousands kilometers\n"
     ]
    }
   ],
   "source": [
    "print(\"Thickness: {:.2f} ten thousands kilometers\".format(folded_thickness/1000))"
   ]
  },
  {
   "cell_type": "markdown",
   "id": "nasty-slovenia",
   "metadata": {},
   "source": [
    "# Problem 3\n",
    "Using for loop to calculate the thickness"
   ]
  },
  {
   "cell_type": "code",
   "execution_count": 4,
   "id": "hungarian-portland",
   "metadata": {},
   "outputs": [
    {
     "name": "stdout",
     "output_type": "stream",
     "text": [
      "Thickness: 7036874417.7664 meters\n"
     ]
    }
   ],
   "source": [
    "folded_thicknessprime = THICKNESS\n",
    "for i in range(43):\n",
    "    folded_thicknessprime *= 2\n",
    "print(\"Thickness: {} meters\".format(folded_thicknessprime))"
   ]
  },
  {
   "cell_type": "markdown",
   "id": "agreed-bulgaria",
   "metadata": {},
   "source": [
    "# Problem 4"
   ]
  },
  {
   "cell_type": "markdown",
   "id": "wound-front",
   "metadata": {},
   "source": [
    "The code to compare the execution time of two methods using increase repetitions technique. The number of repetitions is 1000. It seems that the total time of using exponential operator is much smaller than that of for loop, about 10 times."
   ]
  },
  {
   "cell_type": "code",
   "execution_count": 25,
   "id": "protected-jason",
   "metadata": {},
   "outputs": [
    {
     "name": "stdout",
     "output_type": "stream",
     "text": [
      "Time using for loop: 0.00034332275390625[s]\n",
      "Time using exponetial operation: 0.00010156631469726562[s]\n"
     ]
    }
   ],
   "source": [
    "import time\n",
    "start = time.time()\n",
    "folded_thicknessprime = THICKNESS\n",
    "for i in range(1000):\n",
    "    folded_thicknessprime *= 2\n",
    "elapsed_time = time.time() - start\n",
    "print(\"Time using for loop: {}[s]\".format(elapsed_time))\n",
    "start = time.time()\n",
    "folded_thickness = THICKNESS*(2**1000)\n",
    "elapsed_time = time.time() - start\n",
    "print(\"Time using exponetial operation: {}[s]\".format(elapsed_time))"
   ]
  },
  {
   "cell_type": "markdown",
   "id": "classified-motel",
   "metadata": {},
   "source": [
    "Using the magic command, the results are a little bit different. Using exponential operator is also more efficient in terms of computation times. However, the efficiency is appoximately 40 times greater."
   ]
  },
  {
   "cell_type": "code",
   "execution_count": 29,
   "id": "alternate-ferry",
   "metadata": {},
   "outputs": [
    {
     "name": "stdout",
     "output_type": "stream",
     "text": [
      "1.97 µs ± 39.5 ns per loop (mean ± std. dev. of 7 runs, 1000000 loops each)\n"
     ]
    }
   ],
   "source": [
    "%%timeit \n",
    "folded_thicknessprime = THICKNESS\n",
    "for i in range(43):\n",
    "    folded_thicknessprime *= 2"
   ]
  },
  {
   "cell_type": "code",
   "execution_count": 30,
   "id": "resistant-technology",
   "metadata": {},
   "outputs": [
    {
     "name": "stdout",
     "output_type": "stream",
     "text": [
      "61.5 ns ± 2.32 ns per loop (mean ± std. dev. of 7 runs, 10000000 loops each)\n"
     ]
    }
   ],
   "source": [
    "%%timeit\n",
    "THICKNESS = 0.0008\n",
    "folded_thickness = THICKNESS*(2**43)"
   ]
  },
  {
   "cell_type": "markdown",
   "id": "behavioral-concept",
   "metadata": {},
   "source": [
    "# Problem 5|\n",
    "A new record will be added to the list every time the for loop execute."
   ]
  },
  {
   "cell_type": "code",
   "execution_count": 34,
   "id": "crucial-world",
   "metadata": {},
   "outputs": [
    {
     "name": "stdout",
     "output_type": "stream",
     "text": [
      "44\n"
     ]
    }
   ],
   "source": [
    "folded_thicknes_list = []\n",
    "for i in range(44):\n",
    "    folded_thicknes_list.append(THICKNESS*(2**i))\n",
    "print(len(folded_thicknes_list))"
   ]
  },
  {
   "cell_type": "markdown",
   "id": "charged-composer",
   "metadata": {},
   "source": [
    "# Problem 6\n",
    "The graph plotted shows the increasing feature of the thickness. It looks like a graph of an exponential function which is reasonable because the thickness increased twice everytime the paper is folded."
   ]
  },
  {
   "cell_type": "code",
   "execution_count": 35,
   "id": "opposite-watson",
   "metadata": {},
   "outputs": [
    {
     "data": {
      "image/png": "[encoded data removed]",
      "text/plain": [
       "<Figure size 432x288 with 1 Axes>"
      ]
     },
     "metadata": {
      "needs_background": "light"
     },
     "output_type": "display_data"
    }
   ],
   "source": [
    "import matplotlib.pyplot as plt\n",
    "%matplotlib inline\n",
    "plt.title(\"thickness of folded paper\")\n",
    "plt.xlabel(\"# of folds\")\n",
    "plt.ylabel(\"thickness[i]\")\n",
    "plt.plot(folded_thicknes_list)\n",
    "plt.show()"
   ]
  },
  {
   "cell_type": "markdown",
   "id": "random-spanking",
   "metadata": {},
   "source": [
    "# Problem 7"
   ]
  },
  {
   "cell_type": "code",
   "execution_count": 51,
   "id": "gothic-proposition",
   "metadata": {
    "scrolled": false
   },
   "outputs": [
    {
     "data": {
      "image/png": "[encoded data removed]",
      "text/plain": [
       "<Figure size 432x288 with 1 Axes>"
      ]
     },
     "metadata": {
      "needs_background": "light"
     },
     "output_type": "display_data"
    }
   ],
   "source": [
    "import matplotlib.pyplot as plt\n",
    "%matplotlib inline\n",
    "plt.title(\"thickness of folded paper\")\n",
    "plt.xlabel(\"# of folds\")\n",
    "plt.ylabel(\"thickness[i]\")\n",
    "plt.plot(folded_thicknes_list, marker=1)\n",
    "plt.tick_params(direction='out',labelsize=20, length=10)\n",
    "plt.show()"
   ]
  },
  {
   "cell_type": "code",
   "execution_count": null,
   "id": "communist-birthday",
   "metadata": {},
   "outputs": [],
   "source": []
  }
 ],
 "metadata": {
  "kernelspec": {
   "display_name": "Python 3",
   "language": "python",
   "name": "python3"
  },
  "language_info": {
   "codemirror_mode": {
    "name": "ipython",
    "version": 3
   },
   "file_extension": ".py",
   "mimetype": "text/x-python",
   "name": "python",
   "nbconvert_exporter": "python",
   "pygments_lexer": "ipython3",
   "version": "3.8.5"
  }
 },
 "nbformat": 4,
 "nbformat_minor": 5
}
