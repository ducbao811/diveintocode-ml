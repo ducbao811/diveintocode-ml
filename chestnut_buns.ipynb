{
 "cells": [
  {
   "cell_type": "markdown",
   "id": "executive-mortality",
   "metadata": {},
   "source": [
    "# Chestnut bun problem\n",
    "With some research on the internet, I find that the diameter of our solar system is 287.46 billion km. I will assume the overall space of our solar system has the circle shape for my calculation\n",
    "There is no information on the internet about the actual size of a chestnut bun. Therefore, my assumption of the volume of a chestnut bun is that its diameter equals to the breadth of an adult (from some youtube videos). According to https://www.healthline.com/health/average-hand-size#children, the average hand size of an man adult is 3.5 inches ~ 8.89 centimeters\n",
    "The implementation of the solution of this problem will follow these assumptions."
   ]
  },
  {
   "cell_type": "code",
   "execution_count": 15,
   "id": "under-dover",
   "metadata": {},
   "outputs": [
    {
     "name": "stdout",
     "output_type": "stream",
     "text": [
      "The size of a chestnut bun is 7.357561498988704e-13 kilometers cubic\n",
      "The size of our solar system is 3.109359193661766e+33 kilometers cubic\n",
      "Within 760 minutes, If we sprinkle a chestnut bun with vine, our solar system will be entirely covered\n"
     ]
    },
    {
     "data": {
      "image/png": "[encoded data removed]",
      "text/plain": [
       "<Figure size 432x288 with 1 Axes>"
      ]
     },
     "metadata": {
      "needs_background": "light"
     },
     "output_type": "display_data"
    }
   ],
   "source": [
    "import math\n",
    "import matplotlib.pyplot as plt\n",
    "# calculate the total volume of our solar system in kilometer cubic\n",
    "solar_sys_radius = 143.73*(10**9)\n",
    "solar_sys = 1/3 * math.pi * (solar_sys_radius**3)\n",
    "chestnut_bun_radius = 8.89 * (10**(-5))\n",
    "# calculate the total volume of a chestnut bun in kilometer cubic\n",
    "chestnut_bun = 1/3 * math.pi * (chestnut_bun_radius**3)\n",
    "\n",
    "def time_to_cover(thing_volume,space_volume,double_time=5):\n",
    "    \"\"\"\n",
    "        This function is used to calculate total times needed for a particular thing\n",
    "        to cover a space; Supposed that, the quantity of the thing doubles every 5 minute\n",
    "        -------\n",
    "        Parameter:\n",
    "            thing_volume: volume of the thing in meter cube\n",
    "            space_volume: volume of the space in meter cube\n",
    "            double_time: the total number of the thing will double every double_time\n",
    "        ------\n",
    "        Output:\n",
    "            time needed to cover the entire space\n",
    "            a list of total volume will be covered every 5 minutes\n",
    "    \"\"\"\n",
    "    n_times = 0\n",
    "    thing_volume_list = [thing_volume]\n",
    "    while (thing_volume < space_volume):\n",
    "        n_times += 1\n",
    "        thing_volume *= 2\n",
    "        thing_volume_list.append(thing_volume)\n",
    "    return double_time*n_times, thing_volume_list\n",
    "\n",
    "result = time_to_cover(chestnut_bun,solar_sys)\n",
    "print('The size of a chestnut bun is {} kilometers cubic'.format(chestnut_bun))\n",
    "print('The size of our solar system is {} kilometers cubic'.format(solar_sys))\n",
    "print('Within {} minutes, If we sprinkle a chestnut bun with vine, our solar system will be entirely covered'.\n",
    "      format(result[0]))\n",
    "\n",
    "# A graph is displayed to illustrate the total size of all chestnut buns every five minutes\n",
    "plt.title('All chestnut buns size')\n",
    "plt.xlabel('5 minutes')\n",
    "plt.ylabel('total volume')\n",
    "plt.plot(range(0,len(result[1])),result[1], ls='--')\n",
    "plt.show()"
   ]
  },
  {
   "cell_type": "markdown",
   "id": "higher-shanghai",
   "metadata": {},
   "source": [
    "Applying the above function, we can find how long it takes for the Tokyo Dome to fill up when you sprinkle a baseball with Byvine"
   ]
  },
  {
   "cell_type": "code",
   "execution_count": 16,
   "id": "round-harbor",
   "metadata": {},
   "outputs": [
    {
     "name": "stdout",
     "output_type": "stream",
     "text": [
      "The size of a baseball is 0.0002194228 cubic meters\n",
      "The size of the Tokyo Dome is 1240000 cubic meters\n",
      "Within 165 minutes, If we sprinkle a baseball with vine, the Tokyo Dome will be entirely covered\n"
     ]
    }
   ],
   "source": [
    "# According to Wikipedia, Tokyo Dome has the capacity of 1,240,000 meter cubic \n",
    "TD_volume = 1240000\n",
    "# A volume of a baseball is 0.0002194228 m³\n",
    "baseball_volume = 0.0002194228\n",
    "TD_result = time_to_cover(baseball_volume,TD_volume)\n",
    "print('The size of a baseball is {} cubic meters'.format(baseball_volume))\n",
    "print('The size of the Tokyo Dome is {} cubic meters'.format(TD_volume))\n",
    "print('Within {} minutes, If we sprinkle a baseball with vine, the Tokyo Dome will be entirely covered'.\n",
    "      format(TD_result[0]))"
   ]
  }
 ],
 "metadata": {
  "kernelspec": {
   "display_name": "Python 3",
   "language": "python",
   "name": "python3"
  },
  "language_info": {
   "codemirror_mode": {
    "name": "ipython",
    "version": 3
   },
   "file_extension": ".py",
   "mimetype": "text/x-python",
   "name": "python",
   "nbconvert_exporter": "python",
   "pygments_lexer": "ipython3",
   "version": "3.8.5"
  }
 },
 "nbformat": 4,
 "nbformat_minor": 5
}
