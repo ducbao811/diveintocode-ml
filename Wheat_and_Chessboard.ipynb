{
  "nbformat": 4,
  "nbformat_minor": 0,
  "metadata": {
    "colab": {
      "name": "Wheat and Chessboard.ipynb",
      "provenance": [],
      "collapsed_sections": [],
      "authorship_tag": "ABX9TyOIx6D5OrH9BagFBFUyzNIk",
      "include_colab_link": true
    },
    "kernelspec": {
      "name": "python3",
      "display_name": "Python 3"
    }
  },
  "cells": [
    {
      "cell_type": "markdown",
      "metadata": {
        "id": "view-in-github",
        "colab_type": "text"
      },
      "source": [
        "<a href=\"https://colab.research.google.com/github/ducbao811/diveintocode-ml/blob/master/Wheat_and_Chessboard.ipynb\" target=\"_parent\"><img src=\"https://colab.research.google.com/assets/colab-badge.svg\" alt=\"Open In Colab\"/></a>"
      ]
    },
    {
      "cell_type": "markdown",
      "metadata": {
        "id": "kANVYNaOdCEu"
      },
      "source": [
        "# Problem 1\n"
      ]
    },
    {
      "cell_type": "code",
      "metadata": {
        "colab": {
          "base_uri": "https://localhost:8080/"
        },
        "id": "t0gHtshJc8Ib",
        "outputId": "e999b878-7a15-4f79-aab7-423b0a20aa8a"
      },
      "source": [
        "import numpy as np\n",
        "n_squares = 4\n",
        "small_board_list = [1]\n",
        "for _ in range(n_squares - 1):\n",
        "    small_board_list.append(2*small_board_list[-1]) \n",
        "two_x_two_array = np.reshape(small_board_list,[2,2])\n",
        "print(\"Number of wheat in 2x2 chessboard can be displayed:\\n{}\".format(two_x_two_array))"
      ],
      "execution_count": 1,
      "outputs": [
        {
          "output_type": "stream",
          "text": [
            "Number of wheat in 2x2 chessboard can be displayed:\n",
            "[[1 2]\n",
            " [4 8]]\n"
          ],
          "name": "stdout"
        }
      ]
    },
    {
      "cell_type": "markdown",
      "metadata": {
        "id": "oJkdOUgNxAVC"
      },
      "source": [
        "# Problem 2"
      ]
    },
    {
      "cell_type": "code",
      "metadata": {
        "colab": {
          "base_uri": "https://localhost:8080/"
        },
        "id": "ZvT3HS9ycjzv",
        "outputId": "93a69645-2031-4814-df60-ceaf8dc5a2ef"
      },
      "source": [
        "def chess_board_array_generation(m, n, init_wheat=1):\n",
        "  board_list = [init_wheat]\n",
        "  for _ in range (m*n-1):\n",
        "    board_list.append(2*board_list[-1])\n",
        "  return np.reshape(board_list,(m,n))\n",
        "\n",
        "print(\"Number of wheat in 2x2 chessboard can be displayed: \\n {}\".format(chess_board_array_generation(8,8)))"
      ],
      "execution_count": 2,
      "outputs": [
        {
          "output_type": "stream",
          "text": [
            "Number of wheat in 2x2 chessboard can be displayed: \n",
            " [[1.00000000e+00 2.00000000e+00 4.00000000e+00 8.00000000e+00\n",
            "  1.60000000e+01 3.20000000e+01 6.40000000e+01 1.28000000e+02]\n",
            " [2.56000000e+02 5.12000000e+02 1.02400000e+03 2.04800000e+03\n",
            "  4.09600000e+03 8.19200000e+03 1.63840000e+04 3.27680000e+04]\n",
            " [6.55360000e+04 1.31072000e+05 2.62144000e+05 5.24288000e+05\n",
            "  1.04857600e+06 2.09715200e+06 4.19430400e+06 8.38860800e+06]\n",
            " [1.67772160e+07 3.35544320e+07 6.71088640e+07 1.34217728e+08\n",
            "  2.68435456e+08 5.36870912e+08 1.07374182e+09 2.14748365e+09]\n",
            " [4.29496730e+09 8.58993459e+09 1.71798692e+10 3.43597384e+10\n",
            "  6.87194767e+10 1.37438953e+11 2.74877907e+11 5.49755814e+11]\n",
            " [1.09951163e+12 2.19902326e+12 4.39804651e+12 8.79609302e+12\n",
            "  1.75921860e+13 3.51843721e+13 7.03687442e+13 1.40737488e+14]\n",
            " [2.81474977e+14 5.62949953e+14 1.12589991e+15 2.25179981e+15\n",
            "  4.50359963e+15 9.00719925e+15 1.80143985e+16 3.60287970e+16]\n",
            " [7.20575940e+16 1.44115188e+17 2.88230376e+17 5.76460752e+17\n",
            "  1.15292150e+18 2.30584301e+18 4.61168602e+18 9.22337204e+18]]\n"
          ],
          "name": "stdout"
        }
      ]
    },
    {
      "cell_type": "markdown",
      "metadata": {
        "id": "A_tQtvGyzZBD"
      },
      "source": [
        "# Problem 3"
      ]
    },
    {
      "cell_type": "code",
      "metadata": {
        "colab": {
          "base_uri": "https://localhost:8080/",
          "height": 312
        },
        "id": "mOxV50w6yNGW",
        "outputId": "5584bbb0-dd65-4a65-9843-50e8e91caf1a"
      },
      "source": [
        "import matplotlib.pyplot as plt\n",
        "%matplotlib inline\n",
        "eight_x_eight_array = chess_board_array_generation(8,8)\n",
        "print(\"Total number of wheat in the chessboard is {}\".format(eight_x_eight_array.sum()))\n",
        "list_sum_by_column = eight_x_eight_array.sum(axis=0)\n",
        "plt.xlabel(\"column\")\n",
        "plt.ylabel(\"number\")\n",
        "plt.title(\"sum in each column\")\n",
        "plt.bar(np.arange(0,8), list_sum_by_column)\n",
        "plt.show()"
      ],
      "execution_count": 3,
      "outputs": [
        {
          "output_type": "stream",
          "text": [
            "Total number of wheat in the chessboard is 1.8446744073709552e+19\n"
          ],
          "name": "stdout"
        },
        {
          "output_type": "display_data",
          "data": {
            "image/png": "[encoded data removed]",
            "text/plain": [
              "<Figure size 432x288 with 1 Axes>"
            ]
          },
          "metadata": {
            "tags": [],
            "needs_background": "light"
          }
        }
      ]
    },
    {
      "cell_type": "markdown",
      "metadata": {
        "id": "SF52QIqj3Tim"
      },
      "source": [
        "# Problem 4"
      ]
    },
    {
      "cell_type": "code",
      "metadata": {
        "colab": {
          "base_uri": "https://localhost:8080/",
          "height": 283
        },
        "id": "xSM0iI0BzjqA",
        "outputId": "1069e90d-4b51-4211-ffef-7fc3a84f4cae"
      },
      "source": [
        "plt.xlabel(\"column\")\n",
        "plt.ylabel(\"row\")\n",
        "plt.title(\"\")\n",
        "plt.pcolor(eight_x_eight_array)\n",
        "plt.show()"
      ],
      "execution_count": 4,
      "outputs": [
        {
          "output_type": "display_data",
          "data": {
            "image/png": "[encoded data removed]",
            "text/plain": [
              "<Figure size 432x288 with 1 Axes>"
            ]
          },
          "metadata": {
            "tags": [],
            "needs_background": "light"
          }
        }
      ]
    },
    {
      "cell_type": "markdown",
      "metadata": {
        "id": "59UJcqn5L9fZ"
      },
      "source": [
        "# Problem 5"
      ]
    },
    {
      "cell_type": "markdown",
      "metadata": {
        "id": "_kgIyMlCRvg9"
      },
      "source": [
        "In this problem, firsly, I get the sum in every row of the board and put it in a 2*4 array whose first row contains sum of row 0 to 3 of the board and second row contains sum of row 4 to 7 of the board. Next, I perform another sum by row operation on the array having been obtained to calculate total number of wheats in the first half and second half of the board."
      ]
    },
    {
      "cell_type": "code",
      "metadata": {
        "id": "_eFeNbr_3VbM",
        "colab": {
          "base_uri": "https://localhost:8080/"
        },
        "outputId": "8d0e73dd-6288-4afc-d9dc-a14400ee2b6f"
      },
      "source": [
        "list_sum_by_row = eight_x_eight_array.sum(axis=1).reshape([2,4])\n",
        "list_sum_by_row = list_sum_by_row.sum(axis=1)\n",
        "n_times =  list_sum_by_row[1] / list_sum_by_row[0]\n",
        "print('The number of wheat in the second half of the board is {} greater than this of the first half'.format(n_times))"
      ],
      "execution_count": 5,
      "outputs": [
        {
          "output_type": "stream",
          "text": [
            "The number of wheat in the second half of the board is 4294967296.0 greater than this of the first half\n"
          ],
          "name": "stdout"
        }
      ]
    },
    {
      "cell_type": "markdown",
      "metadata": {
        "id": "lBlzkWtGL2Pr"
      },
      "source": [
        "# Problem 6"
      ]
    },
    {
      "cell_type": "markdown",
      "metadata": {
        "id": "lqdw_4UoRbCh"
      },
      "source": [
        "Method using appending method of numpy array"
      ]
    },
    {
      "cell_type": "code",
      "metadata": {
        "colab": {
          "base_uri": "https://localhost:8080/"
        },
        "id": "L7_aHKeAHC4n",
        "outputId": "259577dd-df4b-4e30-8717-4e26b474fc60"
      },
      "source": [
        "def chess_board_array_generation_append(m,n, init_wheat=1):\n",
        "  n_squares = m * n\n",
        "  board = np.array([init_wheat]).astype(np.uint64)\n",
        "  for _ in range(n_squares-1):\n",
        "    board = np.append(board, board[-1]*2)\n",
        "  return np.reshape(board,[m,n])\n",
        "\n",
        "print('Chessboard generation using appending method of numpy array: \\n{}'.format(chess_board_array_generation_append(8,8)))"
      ],
      "execution_count": 6,
      "outputs": [
        {
          "output_type": "stream",
          "text": [
            "Chessboard generation using appending method of numpy array: \n",
            "[[1.00000000e+00 2.00000000e+00 4.00000000e+00 8.00000000e+00\n",
            "  1.60000000e+01 3.20000000e+01 6.40000000e+01 1.28000000e+02]\n",
            " [2.56000000e+02 5.12000000e+02 1.02400000e+03 2.04800000e+03\n",
            "  4.09600000e+03 8.19200000e+03 1.63840000e+04 3.27680000e+04]\n",
            " [6.55360000e+04 1.31072000e+05 2.62144000e+05 5.24288000e+05\n",
            "  1.04857600e+06 2.09715200e+06 4.19430400e+06 8.38860800e+06]\n",
            " [1.67772160e+07 3.35544320e+07 6.71088640e+07 1.34217728e+08\n",
            "  2.68435456e+08 5.36870912e+08 1.07374182e+09 2.14748365e+09]\n",
            " [4.29496730e+09 8.58993459e+09 1.71798692e+10 3.43597384e+10\n",
            "  6.87194767e+10 1.37438953e+11 2.74877907e+11 5.49755814e+11]\n",
            " [1.09951163e+12 2.19902326e+12 4.39804651e+12 8.79609302e+12\n",
            "  1.75921860e+13 3.51843721e+13 7.03687442e+13 1.40737488e+14]\n",
            " [2.81474977e+14 5.62949953e+14 1.12589991e+15 2.25179981e+15\n",
            "  4.50359963e+15 9.00719925e+15 1.80143985e+16 3.60287970e+16]\n",
            " [7.20575940e+16 1.44115188e+17 2.88230376e+17 5.76460752e+17\n",
            "  1.15292150e+18 2.30584301e+18 4.61168602e+18 9.22337204e+18]]\n"
          ],
          "name": "stdout"
        }
      ]
    },
    {
      "cell_type": "markdown",
      "metadata": {
        "id": "K101p5DKRlOV"
      },
      "source": [
        "Method using broadcasting feature of numpy array"
      ]
    },
    {
      "cell_type": "code",
      "metadata": {
        "colab": {
          "base_uri": "https://localhost:8080/"
        },
        "id": "7uAyIJAXOUvL",
        "outputId": "dc3086a6-a9a7-43b0-c353-1e9a8f2dace2"
      },
      "source": [
        "def chess_board_array_generation_broadcast(m,n, init_wheat=1):\n",
        "  n_squares = m * n\n",
        "  indices_of_squares = np.arange(n_squares).astype(np.uint64)\n",
        "  board = 2**indices_of_squares\n",
        "  return np.reshape(board,[m,n])\n",
        "\n",
        "print('Chessboard generation using broadcasting feature of numpy array: \\n{}'.format(chess_board_array_generation_broadcast(8,8)))"
      ],
      "execution_count": 7,
      "outputs": [
        {
          "output_type": "stream",
          "text": [
            "Chessboard generation using broadcasting feature of numpy array: \n",
            "[[                  1                   2                   4\n",
            "                    8                  16                  32\n",
            "                   64                 128]\n",
            " [                256                 512                1024\n",
            "                 2048                4096                8192\n",
            "                16384               32768]\n",
            " [              65536              131072              262144\n",
            "               524288             1048576             2097152\n",
            "              4194304             8388608]\n",
            " [           16777216            33554432            67108864\n",
            "            134217728           268435456           536870912\n",
            "           1073741824          2147483648]\n",
            " [         4294967296          8589934592         17179869184\n",
            "          34359738368         68719476736        137438953472\n",
            "         274877906944        549755813888]\n",
            " [      1099511627776       2199023255552       4398046511104\n",
            "        8796093022208      17592186044416      35184372088832\n",
            "       70368744177664     140737488355328]\n",
            " [    281474976710656     562949953421312    1125899906842624\n",
            "     2251799813685248    4503599627370496    9007199254740992\n",
            "    18014398509481984   36028797018963968]\n",
            " [  72057594037927936  144115188075855872  288230376151711744\n",
            "   576460752303423488 1152921504606846976 2305843009213693952\n",
            "  4611686018427387904 9223372036854775808]]\n"
          ],
          "name": "stdout"
        }
      ]
    },
    {
      "cell_type": "markdown",
      "metadata": {
        "id": "2c2mxvliPFuD"
      },
      "source": [
        "# Problem 7"
      ]
    },
    {
      "cell_type": "markdown",
      "metadata": {
        "id": "0k-UR4j_QU90"
      },
      "source": [
        "It seems that the execution of all three calculations method are almost the same. \n",
        "\n",
        "---"
      ]
    },
    {
      "cell_type": "markdown",
      "metadata": {
        "id": "zs_2rjfJQwy1"
      },
      "source": [
        "Traditional method"
      ]
    },
    {
      "cell_type": "code",
      "metadata": {
        "colab": {
          "base_uri": "https://localhost:8080/"
        },
        "id": "gadsecV0NM4H",
        "outputId": "cec6f1aa-6394-44a1-9529-fc922529db46"
      },
      "source": [
        "%%timeit\n",
        "def chess_board_array_generation(m, n, init_wheat=1):\n",
        "  board_list = [init_wheat]\n",
        "  for _ in range (m*n-1):\n",
        "    board_list.append(2*board_list[-1])\n",
        "  return np.reshape(board_list,(m,n))"
      ],
      "execution_count": 8,
      "outputs": [
        {
          "output_type": "stream",
          "text": [
            "The slowest run took 18.48 times longer than the fastest. This could mean that an intermediate result is being cached.\n",
            "10000000 loops, best of 5: 63.1 ns per loop\n"
          ],
          "name": "stdout"
        }
      ]
    },
    {
      "cell_type": "markdown",
      "metadata": {
        "id": "HdoUzEK5Q8p5"
      },
      "source": [
        "Method using appending method of numpy array"
      ]
    },
    {
      "cell_type": "code",
      "metadata": {
        "colab": {
          "base_uri": "https://localhost:8080/"
        },
        "id": "3fVsCPELPQMe",
        "outputId": "dc2d611c-3072-454a-e683-5756d0e649ca"
      },
      "source": [
        "%%timeit\n",
        "def chess_board_array_generation_append(m,n, init_wheat=1):\n",
        "  n_squares = m * n\n",
        "  board = np.array([init_wheat]).astype(np.uint64)\n",
        "  for _ in range(n_squares-1):\n",
        "    board = np.append(board, board[-1]*2)\n",
        "  return np.reshape(board,[m,n])"
      ],
      "execution_count": 9,
      "outputs": [
        {
          "output_type": "stream",
          "text": [
            "The slowest run took 17.53 times longer than the fastest. This could mean that an intermediate result is being cached.\n",
            "10000000 loops, best of 5: 64.9 ns per loop\n"
          ],
          "name": "stdout"
        }
      ]
    },
    {
      "cell_type": "markdown",
      "metadata": {
        "id": "pVM-Ks8-RCB0"
      },
      "source": [
        "Method using broadcasting feature of numpy array"
      ]
    },
    {
      "cell_type": "code",
      "metadata": {
        "colab": {
          "base_uri": "https://localhost:8080/"
        },
        "id": "nJtW-et6P0TA",
        "outputId": "4bc6bf52-e205-44f6-9645-fbdf9d8f870d"
      },
      "source": [
        "%%timeit\n",
        "def chess_board_array_generation_broadcast(m,n, init_wheat=1):\n",
        "  n_squares = m * n\n",
        "  indices_of_squares = np.arange(n_squares).astype(np.uint64)\n",
        "  board = 2**indices_of_squares\n",
        "  return np.reshape(board,[m,n])"
      ],
      "execution_count": 10,
      "outputs": [
        {
          "output_type": "stream",
          "text": [
            "10000000 loops, best of 5: 63.5 ns per loop\n"
          ],
          "name": "stdout"
        }
      ]
    }
  ]
}