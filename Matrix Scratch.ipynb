{
 "cells": [
  {
   "cell_type": "markdown",
   "id": "emerging-broad",
   "metadata": {},
   "source": [
    "# Problem 1\n",
    "To calculate the multiplication of two given matrices, the process is to multiply each row in matrix A with each column in matrix B. The resulting matrix is a 3x3 matrix whose entries can be calculated with the following formula:\n",
    "$$\n",
    " C[i][j] = \\sum_{k=0}^{2} A[i][k] * B[k][j]\n",
    "$$\n",
    "With that formula, we have:\n",
    "$ C[0][0] = -1*0 + 2*0 + 3*2 = 6 \\\n",
    " C[0][1] = -1*2 + 2*2 + 3*9 = 29 \\\n",
    " C[0][2] = -1*1 + 2*(-8) + 3*(-1) = -20 \\\n",
    " C[1][0] =  4*0 + -5*0 + 6*2 = 12 \\\n",
    " C[1][1] =  4*2 + -5*2 + 6*9 = 52 \\\n",
    " C[1][2] =  4*1 + -5*(-8) + 6*(-1) = 38 \\\n",
    " C[2][0] =  7*0 + 8*0 + -9*2 = -18 \\\n",
    " C[2][1] =  7*2 + 8*2 + -9*9 = -51 \\\n",
    " C[2][2] =  7*1 + 8*(-8) + -9*(-1) = -48 $"
   ]
  },
  {
   "cell_type": "markdown",
   "id": "later-significance",
   "metadata": {},
   "source": [
    "# Problem 2\n",
    "I use np.matmul() for calculation"
   ]
  },
  {
   "cell_type": "code",
   "execution_count": 13,
   "id": "former-continuity",
   "metadata": {},
   "outputs": [
    {
     "name": "stdout",
     "output_type": "stream",
     "text": [
      "[[  6  29 -20]\n",
      " [ 12  52  38]\n",
      " [-18 -51 -48]]\n"
     ]
    }
   ],
   "source": [
    "import numpy as np\n",
    "a_ndarray = np.array([[-1, 2, 3], [4, -5, 6], [7, 8, -9]])\n",
    "b_ndarray = np.array([[0, 2, 1], [0, 2, -8], [2, 9, -1]])\n",
    "multiplication_matrix = np.matmul(a_ndarray,b_ndarray)\n",
    "print(multiplication_matrix)"
   ]
  },
  {
   "cell_type": "markdown",
   "id": "appreciated-official",
   "metadata": {},
   "source": [
    "# Problem 3"
   ]
  },
  {
   "cell_type": "code",
   "execution_count": 18,
   "id": "alleged-modification",
   "metadata": {},
   "outputs": [
    {
     "name": "stdout",
     "output_type": "stream",
     "text": [
      "6.0\n"
     ]
    }
   ],
   "source": [
    "result_array = np.zeros((3,3))\n",
    "for i in range(3):\n",
    "    result_array[0][0] += a_ndarray[0][i] * b_ndarray[i][0]\n",
    "print(result_array[0][0])"
   ]
  },
  {
   "cell_type": "markdown",
   "id": "sacred-mistress",
   "metadata": {},
   "source": [
    "# Problem 4"
   ]
  },
  {
   "cell_type": "code",
   "execution_count": 19,
   "id": "pressed-personality",
   "metadata": {},
   "outputs": [
    {
     "name": "stdout",
     "output_type": "stream",
     "text": [
      "[[  6.  29. -20.]\n",
      " [ 12.  52.  38.]\n",
      " [-18. -51. -48.]]\n"
     ]
    }
   ],
   "source": [
    "def matrix_multiplication(matA, matB):\n",
    "    result_array = np.zeros((len(matA),len(matB[0])))\n",
    "    for i in range(len(matA)):\n",
    "        for j in range(len(matB[0])):\n",
    "            for k in range(len(matB)):\n",
    "                   result_array[i][j] += a_ndarray[i][k] * b_ndarray[k][j]\n",
    "    return result_array\n",
    "print(matrix_multiplication(a_ndarray,b_ndarray))"
   ]
  },
  {
   "cell_type": "markdown",
   "id": "artificial-martial",
   "metadata": {},
   "source": [
    "# Problem 5"
   ]
  },
  {
   "cell_type": "code",
   "execution_count": 25,
   "id": "wired-robert",
   "metadata": {},
   "outputs": [
    {
     "name": "stdout",
     "output_type": "stream",
     "text": [
      "Invalid input, number of column of first matrix should be the same as number of row of second matrix\n"
     ]
    },
    {
     "data": {
      "text/plain": [
       "-1"
      ]
     },
     "execution_count": 25,
     "metadata": {},
     "output_type": "execute_result"
    }
   ],
   "source": [
    "def matrix_multiplication(matA, matB):\n",
    "    if len(matA[0]) != len(matB):\n",
    "        print(\"Invalid input, number of column of first matrix should be the same as number of row of second matrix\")\n",
    "        return -1\n",
    "    result_array = np.zeros((len(matA),len(matB[0])))\n",
    "    for i in range(len(matA)):\n",
    "        for j in range(len(matB[0])):\n",
    "            for k in range(len(matB)):\n",
    "                   result_array[i][j] += a_ndarray[i][k] * b_ndarray[k][j]\n",
    "    return result_array\n",
    "two_x_two = np.zeros((2,2))\n",
    "three_x_three = np.zeros((3,3))\n",
    "matrix_multiplication(two_x_two,three_x_three)"
   ]
  },
  {
   "cell_type": "markdown",
   "id": "collectible-genealogy",
   "metadata": {},
   "source": [
    "# Problem 6\n",
    "I use np.transpose() for solving this problem"
   ]
  },
  {
   "cell_type": "code",
   "execution_count": 26,
   "id": "hawaiian-academy",
   "metadata": {},
   "outputs": [
    {
     "name": "stdout",
     "output_type": "stream",
     "text": [
      "[[  6.  29. -20.]\n",
      " [ 12.  52.  38.]\n",
      " [-18. -51. -48.]]\n"
     ]
    }
   ],
   "source": [
    "a_trans = np.transpose(a_ndarray)\n",
    "b_trans = np.transpose(b_ndarray)\n",
    "print(matrix_multiplication(a_trans,b_trans))"
   ]
  }
 ],
 "metadata": {
  "kernelspec": {
   "display_name": "Python 3",
   "language": "python",
   "name": "python3"
  },
  "language_info": {
   "codemirror_mode": {
    "name": "ipython",
    "version": 3
   },
   "file_extension": ".py",
   "mimetype": "text/x-python",
   "name": "python",
   "nbconvert_exporter": "python",
   "pygments_lexer": "ipython3",
   "version": "3.8.5"
  }
 },
 "nbformat": 4,
 "nbformat_minor": 5
}
