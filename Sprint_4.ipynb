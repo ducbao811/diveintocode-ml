{
  "nbformat": 4,
  "nbformat_minor": 0,
  "metadata": {
    "colab": {
      "name": "Sprint_4.ipynb",
      "provenance": [],
      "collapsed_sections": [],
      "authorship_tag": "ABX9TyObdSRULUkBLcO7pc2OeP7d",
      "include_colab_link": true
    },
    "kernelspec": {
      "name": "python3",
      "display_name": "Python 3"
    },
    "language_info": {
      "name": "python"
    }
  },
  "cells": [
    {
      "cell_type": "markdown",
      "metadata": {
        "id": "view-in-github",
        "colab_type": "text"
      },
      "source": [
        "<a href=\"https://colab.research.google.com/github/ducbao811/diveintocode-ml/blob/master/Sprint_4.ipynb\" target=\"_parent\"><img src=\"https://colab.research.google.com/assets/colab-badge.svg\" alt=\"Open In Colab\"/></a>"
      ]
    },
    {
      "cell_type": "markdown",
      "metadata": {
        "id": "jkW1Jc6F0-MT"
      },
      "source": [
        "# [Problem 1 to 4]"
      ]
    },
    {
      "cell_type": "code",
      "metadata": {
        "id": "GPB3bnjbx1IE"
      },
      "source": [
        "import numpy as np\n",
        "import pandas as pd"
      ],
      "execution_count": 3,
      "outputs": []
    },
    {
      "cell_type": "code",
      "metadata": {
        "id": "B2OGPoFzmAIi"
      },
      "source": [
        "class ScratchLogisticRegression():\n",
        "    \"\"\"\n",
        "    Scratch implementation of logistic regression\n",
        "    Parameters\n",
        "    ----------\n",
        "    num_iter : int\n",
        "      Number of iterations\n",
        "    lr : float\n",
        "      Learning rate\n",
        "    no_bias : bool\n",
        "      True if no bias term is included\n",
        "    verbose : bool\n",
        "      True to output the learning process\n",
        "    Attributes\n",
        "    ----------\n",
        "    self.coef_ : The following form of ndarray, shape (n_features,)\n",
        "      Parameters\n",
        "    self.loss : The following form of ndarray, shape (self.iter,)\n",
        "      Record losses on training data\n",
        "    self.val_loss : The following form of ndarray, shape (self.iter,)\n",
        "      Record loss on validation data\n",
        "    \"\"\"\n",
        "    def __init__(self, num_iter, lr, bias, verbose):\n",
        "        # Record hyperparameters as attributes\n",
        "        self.iter = num_iter\n",
        "        self.lr = lr\n",
        "        self.bias = bias\n",
        "        self.verbose = verbose\n",
        "        # Prepare an array to record the loss\n",
        "        self.loss = np.zeros(self.iter)\n",
        "        self.val_loss = np.zeros(self.iter)\n",
        "        self.lamda = 0.1\n",
        "    def fit(self, X, y, X_val=None, y_val=None):\n",
        "        \"\"\"\n",
        "        Learn logistic regression. If validation data is entered, the loss and accuracy for it are also calculated for each iteration.\n",
        "        Parameters\n",
        "        ----------\n",
        "        X : The following forms of ndarray, shape (n_samples, n_features)\n",
        "            Features of training data\n",
        "        y : The following form of ndarray, shape (n_samples,)\n",
        "            Correct answer value of training data\n",
        "        X_val : The following forms of ndarray, shape (n_samples, n_features)\n",
        "            Features of verification data\n",
        "        y_val : The following form of ndarray, shape (n_samples,)\n",
        "            Correct value of verification data\n",
        "        \"\"\"\n",
        "        \n",
        "        self.y_label = np.unique(y)\n",
        "        \n",
        "        y = np.where(y == self.y_label[0],0,1)\n",
        "\n",
        "        if y_val is not None:\n",
        "          y_val = np.where(y_val == self.y_label[0], 0, 1)\n",
        "\n",
        "        X1 = self._logistic_hypothesis(X)\n",
        "        self.theta = np.random.rand(X1.shape[1])\n",
        "\n",
        "        for i in range(self.iter):\n",
        "          y1 = self._sigmoid_function(X1)\n",
        "          error = y1 - y\n",
        "          self.loss[i] += self._loss_function(y,y1)\n",
        "\n",
        "          if X_val is not None:\n",
        "            X2 = self._logistic_hypothesis(X_val)\n",
        "            y2 = self._sigmoid_function(X2)\n",
        "            self.val_loss[i] += self._loss_function(y_val,y2)\n",
        "\n",
        "          if self.verbose and i % 100 == 0:\n",
        "            print(\"n_iter: {} || loss: {} || val_loss: {}\\n\".format(i,self.loss[i],self.val_loss[i]))\n",
        "        \n",
        "          self._gradient_descent(error,X1)\n",
        "          \n",
        "\n",
        "    def predict(self, X):\n",
        "        \"\"\"\n",
        "        Estimate the label using logistic regression.\n",
        "        Parameters\n",
        "        ----------\n",
        "        X : The following forms of ndarray, shape (n_samples, n_features)\n",
        "            sample\n",
        "        Returns\n",
        "        -------\n",
        "            The following form of ndarray, shape (n_samples, 1)\n",
        "            Estimated result by logistic regression\n",
        "        \"\"\"\n",
        "        X = self._logistic_hypothesis(X)\n",
        "        y_pred = self._sigmoid_function(X)\n",
        "        return np.where(y_pred < 0.5, self.y_label[0], self.y_label[1])\n",
        "    def predict_proba(self, X):\n",
        "        \"\"\"\n",
        "        Estimate the probability using logistic regression.\n",
        "        Parameters\n",
        "        ----------\n",
        "        X : The following forms of ndarray, shape (n_samples, n_features)\n",
        "            sample\n",
        "        Returns\n",
        "        -------\n",
        "            The following form of ndarray, shape (n_samples, 1)\n",
        "            Estimated result by logistic regression\n",
        "        \"\"\"\n",
        "        X = self._logistic_hypothesis(X)\n",
        "        return self._sigmoid_function(X)\n",
        "    def _sigmoid_function(self, X):\n",
        "        \"\"\"\n",
        "        Calculate the result when applying the sigmoid function to X\n",
        "        Parameters:\n",
        "        ----------\n",
        "        X: The following forms of ndarray, shape (n_samples, n_features + 1)\n",
        "        sample\n",
        "        \"\"\"\n",
        "        return 1 / (1 + np.exp(-np.dot(X,self.theta)))\n",
        "    def _gradient_descent(self, error, X):\n",
        "        \"\"\"\n",
        "          Updating theta using gradient descent method\n",
        "          --------\n",
        "          Parameters:\n",
        "          error: Error between real value and estimated value, shape (n_samples,)\n",
        "          X: Features of training data, shape (n_samples, n_features)\n",
        "        \"\"\"\n",
        "        factor = (np.dot(error,X) + self.lamda * self.theta) / len(X)\n",
        "        self.theta = self.theta - self.lr * factor\n",
        "\n",
        "    def _logistic_hypothesis(self, X):\n",
        "        \"\"\"\n",
        "          Checking for bias term\n",
        "          Parameters\n",
        "          ----------\n",
        "          X : input data, shape (n_samples, n_features)\n",
        "            Training data\n",
        "        \"\"\"\n",
        "        if self.bias:\n",
        "            bias_cof = np.ones((X.shape[0],1))\n",
        "        else:\n",
        "            bias_cof = np.zeros((X.shape[0],1))\n",
        "\n",
        "        return np.hstack((X,bias_cof))\n",
        "\n",
        "    def _loss_function(self, y, y_pred):\n",
        "        \"\"\"\n",
        "          Calculate the loss function value\n",
        "          --------\n",
        "          Parameters:\n",
        "          y: actual value of data, shape (n_samples,)\n",
        "          y_pred: predicted value using sigmoid function, shape (n_samples,) \n",
        "        \"\"\" \n",
        "        return np.mean(-y*np.log(y_pred) - (1-y)*np.log(1-y_pred)) + 0.5*self.lamda*(self.theta[:1]**2)/len(y) "
      ],
      "execution_count": 50,
      "outputs": []
    },
    {
      "cell_type": "markdown",
      "metadata": {
        "id": "aDkw1daq1FvZ"
      },
      "source": [
        "# [Problem 5]"
      ]
    },
    {
      "cell_type": "code",
      "metadata": {
        "id": "4SpoUv5ay6X-"
      },
      "source": [
        "from sklearn import datasets\n",
        "\n",
        "iris = datasets.load_iris()\n",
        "df = pd.DataFrame(np.hstack((iris.data,iris.target.reshape(-1,1))))\n",
        "X = df.loc[df[4] != 0,2:3].values\n",
        "y = df.loc[df[4] != 0, 4].values"
      ],
      "execution_count": 93,
      "outputs": []
    },
    {
      "cell_type": "code",
      "metadata": {
        "id": "zFYhE-EizYxP"
      },
      "source": [
        "from sklearn.preprocessing import StandardScaler\n",
        "from sklearn.model_selection import train_test_split\n",
        "X_train, X_test, y_train, y_test = train_test_split(X,y, train_size = 0.75, random_state=42)\n",
        "scaler = StandardScaler()\n",
        "scaler.fit(X_train)\n",
        "X_train_std = scaler.transform(X_train)\n",
        "X_test_std = scaler.transform(X_test)"
      ],
      "execution_count": 94,
      "outputs": []
    },
    {
      "cell_type": "code",
      "metadata": {
        "colab": {
          "base_uri": "https://localhost:8080/"
        },
        "id": "FFOuXwGnS5o0",
        "outputId": "4b0d2a79-c6ca-4572-9d1a-32526732b764"
      },
      "source": [
        "model = ScratchLogisticRegression(num_iter=5000,lr = 0.001, bias=True,verbose=True)\n",
        "model.fit(X_train_std,y_train)"
      ],
      "execution_count": 95,
      "outputs": [
        {
          "output_type": "stream",
          "text": [
            "n_iter: 0 || loss: 0.3819335732623004 || val_loss: 0.0\n",
            "\n",
            "n_iter: 100 || loss: 0.3732520061203128 || val_loss: 0.0\n",
            "\n",
            "n_iter: 200 || loss: 0.36508025118707205 || val_loss: 0.0\n",
            "\n",
            "n_iter: 300 || loss: 0.35737561465677214 || val_loss: 0.0\n",
            "\n",
            "n_iter: 400 || loss: 0.35009980596355 || val_loss: 0.0\n",
            "\n",
            "n_iter: 500 || loss: 0.3432184237431459 || val_loss: 0.0\n",
            "\n",
            "n_iter: 600 || loss: 0.3367005051206638 || val_loss: 0.0\n",
            "\n",
            "n_iter: 700 || loss: 0.33051813083575965 || val_loss: 0.0\n",
            "\n",
            "n_iter: 800 || loss: 0.3246460793707576 || val_loss: 0.0\n",
            "\n",
            "n_iter: 900 || loss: 0.3190615239404776 || val_loss: 0.0\n",
            "\n",
            "n_iter: 1000 || loss: 0.31374376688698247 || val_loss: 0.0\n",
            "\n",
            "n_iter: 1100 || loss: 0.30867400667000033 || val_loss: 0.0\n",
            "\n",
            "n_iter: 1200 || loss: 0.30383513323961303 || val_loss: 0.0\n",
            "\n",
            "n_iter: 1300 || loss: 0.2992115481156793 || val_loss: 0.0\n",
            "\n",
            "n_iter: 1400 || loss: 0.2947890059774253 || val_loss: 0.0\n",
            "\n",
            "n_iter: 1500 || loss: 0.2905544749889965 || val_loss: 0.0\n",
            "\n",
            "n_iter: 1600 || loss: 0.2864960134564912 || val_loss: 0.0\n",
            "\n",
            "n_iter: 1700 || loss: 0.28260266073399853 || val_loss: 0.0\n",
            "\n",
            "n_iter: 1800 || loss: 0.2788643405754746 || val_loss: 0.0\n",
            "\n",
            "n_iter: 1900 || loss: 0.27527177537097763 || val_loss: 0.0\n",
            "\n",
            "n_iter: 2000 || loss: 0.27181640991446904 || val_loss: 0.0\n",
            "\n",
            "n_iter: 2100 || loss: 0.2684903435304055 || val_loss: 0.0\n",
            "\n",
            "n_iter: 2200 || loss: 0.2652862695415266 || val_loss: 0.0\n",
            "\n",
            "n_iter: 2300 || loss: 0.26219742119397166 || val_loss: 0.0\n",
            "\n",
            "n_iter: 2400 || loss: 0.25921752327113473 || val_loss: 0.0\n",
            "\n",
            "n_iter: 2500 || loss: 0.2563407487270642 || val_loss: 0.0\n",
            "\n",
            "n_iter: 2600 || loss: 0.25356167975598637 || val_loss: 0.0\n",
            "\n",
            "n_iter: 2700 || loss: 0.25087527278858845 || val_loss: 0.0\n",
            "\n",
            "n_iter: 2800 || loss: 0.24827682696973233 || val_loss: 0.0\n",
            "\n",
            "n_iter: 2900 || loss: 0.24576195572765586 || val_loss: 0.0\n",
            "\n",
            "n_iter: 3000 || loss: 0.24332656109273434 || val_loss: 0.0\n",
            "\n",
            "n_iter: 3100 || loss: 0.24096681046549406 || val_loss: 0.0\n",
            "\n",
            "n_iter: 3200 || loss: 0.23867911556974628 || val_loss: 0.0\n",
            "\n",
            "n_iter: 3300 || loss: 0.23646011335815834 || val_loss: 0.0\n",
            "\n",
            "n_iter: 3400 || loss: 0.23430664866498216 || val_loss: 0.0\n",
            "\n",
            "n_iter: 3500 || loss: 0.23221575842455297 || val_loss: 0.0\n",
            "\n",
            "n_iter: 3600 || loss: 0.2301846572950481 || val_loss: 0.0\n",
            "\n",
            "n_iter: 3700 || loss: 0.22821072454525573 || val_loss: 0.0\n",
            "\n",
            "n_iter: 3800 || loss: 0.22629149207809876 || val_loss: 0.0\n",
            "\n",
            "n_iter: 3900 || loss: 0.22442463347869437 || val_loss: 0.0\n",
            "\n",
            "n_iter: 4000 || loss: 0.22260795398706096 || val_loss: 0.0\n",
            "\n",
            "n_iter: 4100 || loss: 0.22083938130642983 || val_loss: 0.0\n",
            "\n",
            "n_iter: 4200 || loss: 0.21911695716768415 || val_loss: 0.0\n",
            "\n",
            "n_iter: 4300 || loss: 0.21743882957887747 || val_loss: 0.0\n",
            "\n",
            "n_iter: 4400 || loss: 0.21580324569624199 || val_loss: 0.0\n",
            "\n",
            "n_iter: 4500 || loss: 0.21420854525968944 || val_loss: 0.0\n",
            "\n",
            "n_iter: 4600 || loss: 0.2126531545416551 || val_loss: 0.0\n",
            "\n",
            "n_iter: 4700 || loss: 0.2111355807633183 || val_loss: 0.0\n",
            "\n",
            "n_iter: 4800 || loss: 0.2096544069368435 || val_loss: 0.0\n",
            "\n",
            "n_iter: 4900 || loss: 0.208208287096382 || val_loss: 0.0\n",
            "\n"
          ],
          "name": "stdout"
        }
      ]
    },
    {
      "cell_type": "code",
      "metadata": {
        "id": "AHh4xxEJS8N0"
      },
      "source": [
        "# Prediction\n",
        "y_pred = model.predict(X_test_std)\n",
        "y_pred_proba = model.predict_proba(X_test_std)"
      ],
      "execution_count": 96,
      "outputs": []
    },
    {
      "cell_type": "code",
      "metadata": {
        "colab": {
          "base_uri": "https://localhost:8080/"
        },
        "id": "P4Mo3pnL3JcI",
        "outputId": "4cb681a5-a2a9-4af6-f7cd-38c0c272c652"
      },
      "source": [
        "from sklearn.metrics import accuracy_score, precision_score, recall_score\n",
        "accuracy = accuracy_score(y_test,y_pred)\n",
        "precision = precision_score(y_test,y_pred,average=\"binary\")\n",
        "recall = recall_score(y_test,y_pred, average=\"binary\")\n",
        "print(\"Accuracy: {} \\nPrecision: {}\\nRecall: {}\\n\".format(accuracy,precision,recall))"
      ],
      "execution_count": 97,
      "outputs": [
        {
          "output_type": "stream",
          "text": [
            "Accuracy: 0.92 \n",
            "Precision: 0.875\n",
            "Recall: 1.0\n",
            "\n"
          ],
          "name": "stdout"
        }
      ]
    },
    {
      "cell_type": "code",
      "metadata": {
        "colab": {
          "base_uri": "https://localhost:8080/"
        },
        "id": "9HMdih0W5Fns",
        "outputId": "1ba944a3-a6d9-46e7-b093-bc405630cfd8"
      },
      "source": [
        "# Skcit-learn implementation\n",
        "from sklearn.linear_model import LogisticRegression\n",
        "sk_model = LogisticRegression(max_iter=5000)\n",
        "sk_model.fit(X_train_std,y_train)\n",
        "\n",
        "# Prediction\n",
        "y_pred_sk = sk_model.predict(X_test_std)\n",
        "y_pred_proba_sk = sk_model.predict_proba(X_test_std)\n",
        "\n",
        "# Metrics score\n",
        "accuracy_sk = accuracy_score(y_test,y_pred_sk)\n",
        "precision_sk = precision_score(y_test,y_pred_sk,average=\"binary\")\n",
        "recall_sk = recall_score(y_test,y_pred_sk, average=\"binary\")\n",
        "print(\"Accuracy: {} \\nPrecision: {}\\nRecall: {}\\n\".format(accuracy_sk,precision_sk,recall_sk))"
      ],
      "execution_count": 98,
      "outputs": [
        {
          "output_type": "stream",
          "text": [
            "Accuracy: 0.88 \n",
            "Precision: 0.8666666666666667\n",
            "Recall: 0.9285714285714286\n",
            "\n"
          ],
          "name": "stdout"
        }
      ]
    },
    {
      "cell_type": "markdown",
      "metadata": {
        "id": "d4D-0XHx6lJI"
      },
      "source": [
        "Surprisingly, the scratch model seems to perform better than model imported from sklearn with the 5000 iterations."
      ]
    },
    {
      "cell_type": "markdown",
      "metadata": {
        "id": "iyVFgy761MwP"
      },
      "source": [
        "#[Problem 6]"
      ]
    },
    {
      "cell_type": "code",
      "metadata": {
        "colab": {
          "base_uri": "https://localhost:8080/",
          "height": 554
        },
        "id": "0B71tQuo1QRL",
        "outputId": "52da34da-f575-4b68-9cdd-ad4b5411edff"
      },
      "source": [
        "# Plot the learning curve\n",
        "import matplotlib.pyplot as plt\n",
        "fig, ax = plt.subplots(figsize=(20,9))\n",
        "plt.scatter(range(len(model.loss)),model.loss,label=\"loss\")\n",
        "plt.legend()\n",
        "plt.plot()"
      ],
      "execution_count": 99,
      "outputs": [
        {
          "output_type": "execute_result",
          "data": {
            "text/plain": [
              "[]"
            ]
          },
          "metadata": {
            "tags": []
          },
          "execution_count": 99
        },
        {
          "output_type": "display_data",
          "data": {
            "image/png": "[encoded data removed]",
            "text/plain": [
              "<Figure size 1440x648 with 1 Axes>"
            ]
          },
          "metadata": {
            "tags": [],
            "needs_background": "light"
          }
        }
      ]
    },
    {
      "cell_type": "markdown",
      "metadata": {
        "id": "X1vTiNsH7QVy"
      },
      "source": [
        "# [Problem 7]"
      ]
    },
    {
      "cell_type": "markdown",
      "metadata": {
        "id": "kJL94s-y-y3P"
      },
      "source": [
        "For visualizing the decision region, I re-use the sample code from pre-class assignment in week 4."
      ]
    },
    {
      "cell_type": "code",
      "metadata": {
        "id": "AEHG_duy1ea_"
      },
      "source": [
        "# Visualization of decision area\n",
        "from matplotlib.colors import ListedColormap\n",
        "import matplotlib.patches as mpatches\n",
        "def decision_region(X, y, model, step=0.01, title='decision region', xlabel='xlabel', ylabel='ylabel', target_names=['versicolor', 'virginica']):\n",
        "    \"\"\"\n",
        "    Draw the determination area of the model that learned binary classification with two-dimensional features.\n",
        "    The background color is drawn from the estimated values of the trained model.\n",
        "    The points on the scatter plot are training or validation data.\n",
        "    Parameters\n",
        "    ----------------\n",
        "    X : ndarray, shape(n_samples, 2)\n",
        "        Feature value\n",
        "    y : ndarray, shape(n_samples,)\n",
        "        label\n",
        "    model : object\n",
        "        Insert the installed model of the learned model\n",
        "    step : float, (default : 0.1)\n",
        "        Set the interval to calculate the estimate\n",
        "    title : str\n",
        "        Give the text of the graph Title\n",
        "    xlabel, ylabel : str\n",
        "        Give the text of the axis label\n",
        "    target_names= : list of str\n",
        "        Give a list of legends\n",
        "    \"\"\"\n",
        "    # setting\n",
        "    scatter_color = ['red', 'blue']\n",
        "    contourf_color = ['pink', 'green']\n",
        "    n_class = 2\n",
        "    # pred\n",
        "    mesh_f0, mesh_f1  = np.meshgrid(np.arange(np.min(X[:,0])-0.5, np.max(X[:,0])+0.5, step), np.arange(np.min(X[:,1])-0.5, np.max(X[:,1])+0.5, step))\n",
        "    mesh = np.c_[np.ravel(mesh_f0),np.ravel(mesh_f1)]\n",
        "    y_pred = model.predict(mesh).reshape(mesh_f0.shape)\n",
        "    # plot\n",
        "    plt.title(title)\n",
        "    plt.xlabel(xlabel)\n",
        "    plt.ylabel(ylabel)\n",
        "    plt.contourf(mesh_f0, mesh_f1, y_pred, n_class-1, cmap=ListedColormap(contourf_color))\n",
        "    plt.contour(mesh_f0, mesh_f1, y_pred, n_class-1, colors='y', linewidths=3, alpha=0.5)\n",
        "    for i, target in enumerate(set(y)):\n",
        "        plt.scatter(X[y==target][:, 0], X[y==target][:, 1], s=80, color=scatter_color[i], label=target_names[i], marker='o')\n",
        "    patches = [mpatches.Patch(color=scatter_color[i], label=target_names[i]) for i in range(n_class)]\n",
        "    plt.legend(handles=patches)\n",
        "    plt.legend()\n",
        "    plt.show()"
      ],
      "execution_count": 102,
      "outputs": []
    },
    {
      "cell_type": "code",
      "metadata": {
        "colab": {
          "base_uri": "https://localhost:8080/",
          "height": 295
        },
        "id": "2m2i7CDK8AsR",
        "outputId": "d28b3b28-ebe6-44b7-f653-3af8ae90c552"
      },
      "source": [
        "decision_region(X_test_std,y_test,model)"
      ],
      "execution_count": 104,
      "outputs": [
        {
          "output_type": "display_data",
          "data": {
            "image/png": "[encoded data removed]",
            "text/plain": [
              "<Figure size 432x288 with 1 Axes>"
            ]
          },
          "metadata": {
            "tags": [],
            "needs_background": "light"
          }
        }
      ]
    }
  ]
}