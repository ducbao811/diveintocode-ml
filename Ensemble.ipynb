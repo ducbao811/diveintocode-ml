{
 "cells": [
  {
   "cell_type": "code",
   "execution_count": 2,
   "id": "37e3aff0-b698-49b2-ba97-c23159f0d5eb",
   "metadata": {},
   "outputs": [
    {
     "data": {
      "text/html": [
       "<div>\n",
       "<style scoped>\n",
       "    .dataframe tbody tr th:only-of-type {\n",
       "        vertical-align: middle;\n",
       "    }\n",
       "\n",
       "    .dataframe tbody tr th {\n",
       "        vertical-align: top;\n",
       "    }\n",
       "\n",
       "    .dataframe thead th {\n",
       "        text-align: right;\n",
       "    }\n",
       "</style>\n",
       "<table border=\"1\" class=\"dataframe\">\n",
       "  <thead>\n",
       "    <tr style=\"text-align: right;\">\n",
       "      <th></th>\n",
       "      <th>Id</th>\n",
       "      <th>MSSubClass</th>\n",
       "      <th>MSZoning</th>\n",
       "      <th>LotFrontage</th>\n",
       "      <th>LotArea</th>\n",
       "      <th>Street</th>\n",
       "      <th>Alley</th>\n",
       "      <th>LotShape</th>\n",
       "      <th>LandContour</th>\n",
       "      <th>Utilities</th>\n",
       "      <th>...</th>\n",
       "      <th>PoolArea</th>\n",
       "      <th>PoolQC</th>\n",
       "      <th>Fence</th>\n",
       "      <th>MiscFeature</th>\n",
       "      <th>MiscVal</th>\n",
       "      <th>MoSold</th>\n",
       "      <th>YrSold</th>\n",
       "      <th>SaleType</th>\n",
       "      <th>SaleCondition</th>\n",
       "      <th>SalePrice</th>\n",
       "    </tr>\n",
       "  </thead>\n",
       "  <tbody>\n",
       "    <tr>\n",
       "      <th>0</th>\n",
       "      <td>1</td>\n",
       "      <td>60</td>\n",
       "      <td>RL</td>\n",
       "      <td>65.0</td>\n",
       "      <td>8450</td>\n",
       "      <td>Pave</td>\n",
       "      <td>NaN</td>\n",
       "      <td>Reg</td>\n",
       "      <td>Lvl</td>\n",
       "      <td>AllPub</td>\n",
       "      <td>...</td>\n",
       "      <td>0</td>\n",
       "      <td>NaN</td>\n",
       "      <td>NaN</td>\n",
       "      <td>NaN</td>\n",
       "      <td>0</td>\n",
       "      <td>2</td>\n",
       "      <td>2008</td>\n",
       "      <td>WD</td>\n",
       "      <td>Normal</td>\n",
       "      <td>208500</td>\n",
       "    </tr>\n",
       "    <tr>\n",
       "      <th>1</th>\n",
       "      <td>2</td>\n",
       "      <td>20</td>\n",
       "      <td>RL</td>\n",
       "      <td>80.0</td>\n",
       "      <td>9600</td>\n",
       "      <td>Pave</td>\n",
       "      <td>NaN</td>\n",
       "      <td>Reg</td>\n",
       "      <td>Lvl</td>\n",
       "      <td>AllPub</td>\n",
       "      <td>...</td>\n",
       "      <td>0</td>\n",
       "      <td>NaN</td>\n",
       "      <td>NaN</td>\n",
       "      <td>NaN</td>\n",
       "      <td>0</td>\n",
       "      <td>5</td>\n",
       "      <td>2007</td>\n",
       "      <td>WD</td>\n",
       "      <td>Normal</td>\n",
       "      <td>181500</td>\n",
       "    </tr>\n",
       "    <tr>\n",
       "      <th>2</th>\n",
       "      <td>3</td>\n",
       "      <td>60</td>\n",
       "      <td>RL</td>\n",
       "      <td>68.0</td>\n",
       "      <td>11250</td>\n",
       "      <td>Pave</td>\n",
       "      <td>NaN</td>\n",
       "      <td>IR1</td>\n",
       "      <td>Lvl</td>\n",
       "      <td>AllPub</td>\n",
       "      <td>...</td>\n",
       "      <td>0</td>\n",
       "      <td>NaN</td>\n",
       "      <td>NaN</td>\n",
       "      <td>NaN</td>\n",
       "      <td>0</td>\n",
       "      <td>9</td>\n",
       "      <td>2008</td>\n",
       "      <td>WD</td>\n",
       "      <td>Normal</td>\n",
       "      <td>223500</td>\n",
       "    </tr>\n",
       "    <tr>\n",
       "      <th>3</th>\n",
       "      <td>4</td>\n",
       "      <td>70</td>\n",
       "      <td>RL</td>\n",
       "      <td>60.0</td>\n",
       "      <td>9550</td>\n",
       "      <td>Pave</td>\n",
       "      <td>NaN</td>\n",
       "      <td>IR1</td>\n",
       "      <td>Lvl</td>\n",
       "      <td>AllPub</td>\n",
       "      <td>...</td>\n",
       "      <td>0</td>\n",
       "      <td>NaN</td>\n",
       "      <td>NaN</td>\n",
       "      <td>NaN</td>\n",
       "      <td>0</td>\n",
       "      <td>2</td>\n",
       "      <td>2006</td>\n",
       "      <td>WD</td>\n",
       "      <td>Abnorml</td>\n",
       "      <td>140000</td>\n",
       "    </tr>\n",
       "    <tr>\n",
       "      <th>4</th>\n",
       "      <td>5</td>\n",
       "      <td>60</td>\n",
       "      <td>RL</td>\n",
       "      <td>84.0</td>\n",
       "      <td>14260</td>\n",
       "      <td>Pave</td>\n",
       "      <td>NaN</td>\n",
       "      <td>IR1</td>\n",
       "      <td>Lvl</td>\n",
       "      <td>AllPub</td>\n",
       "      <td>...</td>\n",
       "      <td>0</td>\n",
       "      <td>NaN</td>\n",
       "      <td>NaN</td>\n",
       "      <td>NaN</td>\n",
       "      <td>0</td>\n",
       "      <td>12</td>\n",
       "      <td>2008</td>\n",
       "      <td>WD</td>\n",
       "      <td>Normal</td>\n",
       "      <td>250000</td>\n",
       "    </tr>\n",
       "  </tbody>\n",
       "</table>\n",
       "<p>5 rows × 81 columns</p>\n",
       "</div>"
      ],
      "text/plain": [
       "   Id  MSSubClass MSZoning  LotFrontage  LotArea Street Alley LotShape  \\\n",
       "0   1          60       RL         65.0     8450   Pave   NaN      Reg   \n",
       "1   2          20       RL         80.0     9600   Pave   NaN      Reg   \n",
       "2   3          60       RL         68.0    11250   Pave   NaN      IR1   \n",
       "3   4          70       RL         60.0     9550   Pave   NaN      IR1   \n",
       "4   5          60       RL         84.0    14260   Pave   NaN      IR1   \n",
       "\n",
       "  LandContour Utilities  ... PoolArea PoolQC Fence MiscFeature MiscVal MoSold  \\\n",
       "0         Lvl    AllPub  ...        0    NaN   NaN         NaN       0      2   \n",
       "1         Lvl    AllPub  ...        0    NaN   NaN         NaN       0      5   \n",
       "2         Lvl    AllPub  ...        0    NaN   NaN         NaN       0      9   \n",
       "3         Lvl    AllPub  ...        0    NaN   NaN         NaN       0      2   \n",
       "4         Lvl    AllPub  ...        0    NaN   NaN         NaN       0     12   \n",
       "\n",
       "  YrSold  SaleType  SaleCondition  SalePrice  \n",
       "0   2008        WD         Normal     208500  \n",
       "1   2007        WD         Normal     181500  \n",
       "2   2008        WD         Normal     223500  \n",
       "3   2006        WD        Abnorml     140000  \n",
       "4   2008        WD         Normal     250000  \n",
       "\n",
       "[5 rows x 81 columns]"
      ]
     },
     "execution_count": 2,
     "metadata": {},
     "output_type": "execute_result"
    }
   ],
   "source": [
    "# Reading the data\n",
    "import pandas as pd\n",
    "import numpy as np\n",
    "\n",
    "df = pd.read_csv(\"train.csv\")\n",
    "df.head()"
   ]
  },
  {
   "cell_type": "code",
   "execution_count": 3,
   "id": "4a37ca28-6d2e-4342-8938-421c8a54bd1d",
   "metadata": {},
   "outputs": [],
   "source": [
    "X = df[[\"GrLivArea\",\"YearBuilt\"]]\n",
    "y = df[\"SalePrice\"]"
   ]
  },
  {
   "cell_type": "code",
   "execution_count": 4,
   "id": "c65a5a0b-fbf7-4511-afee-201b7f2b5984",
   "metadata": {},
   "outputs": [],
   "source": [
    "# Splitting the train and test data\n",
    "from sklearn.model_selection import train_test_split\n",
    "X_train, X_test, y_train, y_test = train_test_split(X,y, train_size=0.8,random_state=42)"
   ]
  },
  {
   "cell_type": "code",
   "execution_count": 5,
   "id": "57f538fd-58fd-45e0-9134-9233b021d3e8",
   "metadata": {},
   "outputs": [],
   "source": [
    "# Standardize the data\n",
    "from sklearn.preprocessing import StandardScaler\n",
    "scaler = StandardScaler()\n",
    "scaler.fit(X_train)\n",
    "X_train_std = scaler.transform(X_train)\n",
    "X_test_std = scaler.transform(X_test)"
   ]
  },
  {
   "cell_type": "code",
   "execution_count": 9,
   "id": "a86d1338-411d-4fb3-bf44-a34d8c251422",
   "metadata": {},
   "outputs": [],
   "source": [
    "# Importing sklearn models needed for blending\n",
    "from sklearn.linear_model import LinearRegression, Lasso, Ridge, ElasticNet\n",
    "from sklearn.tree import DecisionTreeRegressor\n",
    "from sklearn.ensemble import RandomForestRegressor, AdaBoostRegressor\n",
    "# Import metrics used for estimation\n",
    "from sklearn.metrics import mean_squared_error"
   ]
  },
  {
   "cell_type": "markdown",
   "id": "904b72f9-4356-4684-9bfb-7f6bc8760252",
   "metadata": {},
   "source": [
    "# [Problem 1]"
   ]
  },
  {
   "cell_type": "code",
   "execution_count": 7,
   "id": "995830cc-c653-4981-9420-9176267e2993",
   "metadata": {},
   "outputs": [],
   "source": [
    "def blending_model(models,weight,X_train, X_test, y_train, y_test):\n",
    "    y_pred_list = []\n",
    "    for model in models:\n",
    "        model.fit(X_train,y_train)\n",
    "        y_pred = model.predict(X_test)\n",
    "        y_pred_list.append(y_pred)\n",
    "        name = type(model).__name__\n",
    "        mse = mean_squared_error(y_test,y_pred)\n",
    "        print(\"MSE for {}: {}\".format(name,mse))\n",
    "    blending_pred = np.zeros((len(y_test)))\n",
    "    for i in range(len(y_pred_list)):\n",
    "        blending_pred += y_pred_list[i]*weight[i]\n",
    "    print(\"MSE for blending model is : {}\".format(mean_squared_error(y_test,blending_pred)))"
   ]
  },
  {
   "cell_type": "code",
   "execution_count": 71,
   "id": "05727433-26dd-486e-99be-48624f26153c",
   "metadata": {},
   "outputs": [
    {
     "name": "stdout",
     "output_type": "stream",
     "text": [
      "MSE for LinearRegression: 2495554898.6683207\n",
      "MSE for DecisionTreeRegressor: 2806312761.649392\n",
      "MSE for Lasso: 2495554865.425528\n",
      "MSE for blending model is : 2439504197.9325466\n"
     ]
    }
   ],
   "source": [
    "models = [LinearRegression(),DecisionTreeRegressor(max_depth=3),Lasso(alpha=0.1)]\n",
    "weight = [0.4, 0.3,0.3]\n",
    "blending_model(models,weight,X_train_std,X_test_std,y_train,y_test)"
   ]
  },
  {
   "cell_type": "code",
   "execution_count": 87,
   "id": "6cfdcc54-e85e-4cc0-acf4-6a1de31d00e8",
   "metadata": {},
   "outputs": [
    {
     "name": "stdout",
     "output_type": "stream",
     "text": [
      "MSE for DecisionTreeRegressor: 2245462576.40449\n",
      "MSE for Ridge: 2496340156.4585676\n",
      "MSE for ElasticNet: 3190751084.7226815\n",
      "MSE for blending model is : 1950251897.069018\n"
     ]
    }
   ],
   "source": [
    "models2 = [DecisionTreeRegressor(),Ridge(),ElasticNet()]\n",
    "weight2 = [0.6,0.3,0.1]\n",
    "blending_model(models2,weight2,X_train_std,X_test_std,y_train,y_test)"
   ]
  },
  {
   "cell_type": "code",
   "execution_count": 204,
   "id": "a4a367d9-cba2-47f7-b3af-735bf3c6b750",
   "metadata": {},
   "outputs": [
    {
     "name": "stdout",
     "output_type": "stream",
     "text": [
      "MSE for RandomForestRegressor: 2446547479.077316\n",
      "MSE for DecisionTreeRegressor: 2806312761.649392\n",
      "MSE for ElasticNet: 3190751084.7226815\n",
      "MSE for LinearRegression: 2495554898.6683207\n",
      "MSE for blending model is : 2440659076.8351493\n"
     ]
    }
   ],
   "source": [
    "models3 = [RandomForestRegressor(max_depth=3),DecisionTreeRegressor(max_depth=3),ElasticNet(),LinearRegression()]\n",
    "weight3 = [0.35,0.2,0.1,0.35]\n",
    "blending_model(models3,weight3,X_train_std,X_test_std,y_train,y_test)"
   ]
  },
  {
   "cell_type": "markdown",
   "id": "107dce7a-95b4-4fb1-b98c-9eb5807ca531",
   "metadata": {},
   "source": [
    "# [Problem 2]"
   ]
  },
  {
   "cell_type": "code",
   "execution_count": 11,
   "id": "1fb5a9bc-f76e-4410-8fb5-59fb1e70eee8",
   "metadata": {},
   "outputs": [],
   "source": [
    "def baggingFromScratch(models, X_train, y_train, X_test, y_test):\n",
    "    y_pred_final = np.zeros(len(X_test))\n",
    "    for model in models:\n",
    "        X_bagging, _ , y_bagging, _ = train_test_split(X_train,y_train, train_size=0.2,shuffle=True)\n",
    "        model.fit(X_bagging,y_bagging)\n",
    "        y_pred = model.predict(X_test)\n",
    "        \n",
    "        # Output the mse of single model\n",
    "        mse = mean_squared_error(y_test,y_pred)\n",
    "        name = type(model).__name__\n",
    "        print(\"MSE for {}: {}\".format(name,mse))\n",
    "        \n",
    "        # Adding up each model prediction to the final prediction\n",
    "        y_pred_final += y_pred/len(models)\n",
    "\n",
    "    print(\"MSE for the Bagging model: {}\".format(mean_squared_error(y_test,y_pred_final)))"
   ]
  },
  {
   "cell_type": "code",
   "execution_count": 13,
   "id": "53fd4886-e37f-4753-872b-3d10fbabce16",
   "metadata": {},
   "outputs": [
    {
     "name": "stdout",
     "output_type": "stream",
     "text": [
      "MSE for DecisionTreeRegressor: 2901991070.770548\n",
      "MSE for DecisionTreeRegressor: 3743849094.030822\n",
      "MSE for DecisionTreeRegressor: 3102761398.332192\n",
      "MSE for DecisionTreeRegressor: 4150162512.85274\n",
      "MSE for DecisionTreeRegressor: 4036881589.472603\n",
      "MSE for DecisionTreeRegressor: 3000367561.9528155\n",
      "MSE for DecisionTreeRegressor: 3815496423.339041\n",
      "MSE for DecisionTreeRegressor: 3402966252.3116436\n",
      "MSE for DecisionTreeRegressor: 2768236496.359589\n",
      "MSE for DecisionTreeRegressor: 2816452139.7089043\n",
      "MSE for DecisionTreeRegressor: 3008892853.0\n",
      "MSE for DecisionTreeRegressor: 3439989388.619863\n",
      "MSE for DecisionTreeRegressor: 3781118825.400685\n",
      "MSE for DecisionTreeRegressor: 2734420344.7636986\n",
      "MSE for DecisionTreeRegressor: 4375594083.356164\n",
      "MSE for DecisionTreeRegressor: 3354743756.202055\n",
      "MSE for DecisionTreeRegressor: 4269040441.941781\n",
      "MSE for DecisionTreeRegressor: 3315616582.8116436\n",
      "MSE for DecisionTreeRegressor: 3805288525.452055\n",
      "MSE for DecisionTreeRegressor: 3956005881.160198\n",
      "MSE for the Bagging model: 2114532842.7184558\n"
     ]
    }
   ],
   "source": [
    "models_for_Bagging = []\n",
    "for i in range(20):\n",
    "    models_for_Bagging.append(DecisionTreeRegressor())\n",
    "baggingFromScratch(models_for_Bagging,X_train_std,y_train,X_test_std,y_test)"
   ]
  },
  {
   "cell_type": "markdown",
   "id": "ba54d169-edb3-4213-9d41-b38f77e50f27",
   "metadata": {},
   "source": [
    "# [Problem 3]"
   ]
  },
  {
   "cell_type": "code",
   "execution_count": 14,
   "id": "f1d6d730-1390-48a6-af06-01d0238228af",
   "metadata": {},
   "outputs": [],
   "source": [
    "from sklearn.model_selection import KFold"
   ]
  },
  {
   "cell_type": "code",
   "execution_count": 38,
   "id": "0a3cdff9-f4b6-4370-8da2-3bebdd6de821",
   "metadata": {},
   "outputs": [],
   "source": [
    "class Stacking_Regressor():\n",
    "    \"\"\"\n",
    "    Class for creating a Stacking Model\n",
    "    \"\"\"\n",
    "    def __init__(self, models, final_model, K):\n",
    "        self.K = K\n",
    "        self.models = models\n",
    "        self.final_model = final_model\n",
    "        self.fit_models = [ [] for _ in range(K) ]\n",
    "    \n",
    "    def fit(self, X, y):\n",
    "        \n",
    "        X = np.array(X)\n",
    "        y = np.array(y)\n",
    "        \n",
    "        # Array to store estimated result of n-th depth\n",
    "        self.y_pred = np.zeros((len(X),len(self.models)))\n",
    "        \n",
    "        kf = KFold(n_splits=self.K, shuffle=False)\n",
    "        fold = 0\n",
    "        for i, model in enumerate(self.models):\n",
    "            for train_idx, valid_idx in kf.split(X):\n",
    "                self.fit_models[fold].append(model.fit(X[train_idx],y[train_idx]))\n",
    "                self.y_pred[valid_idx,i] = model.predict(X[valid_idx])\n",
    "                fold += 1\n",
    "            fold = 0\n",
    "        \n",
    "        self.final_model.fit(self.y_pred,y)\n",
    "            \n",
    "    def predict(self,X):\n",
    "        self.final_estimated_result = np.zeros((X.shape[0],self.K))\n",
    "        \n",
    "        for i, fold in enumerate(self.fit_models):\n",
    "            for model in fold:\n",
    "                self.final_estimated_result[:,i] += model.predict(X)/len(fold)\n",
    "        \n",
    "        return final_model.predict(self.final_estimated_result)\n",
    "        "
   ]
  },
  {
   "cell_type": "code",
   "execution_count": 50,
   "id": "ae1ced66-2996-484e-aa23-cb774e3d5009",
   "metadata": {},
   "outputs": [],
   "source": [
    "models = [ElasticNet(), Ridge(), LinearRegression()]\n",
    "K = 3\n",
    "final_model = DecisionTreeRegressor(max_depth=3)\n",
    "stack_mdl = Stacking_Regressor(models,final_model,K)\n",
    "stack_mdl.fit(X_train_std,y_train)"
   ]
  },
  {
   "cell_type": "code",
   "execution_count": 51,
   "id": "a36ce57f-db4b-4ebd-8de2-c61c2d34141e",
   "metadata": {},
   "outputs": [
    {
     "name": "stdout",
     "output_type": "stream",
     "text": [
      "MSE for stacking model: 2435224203.1911225\n"
     ]
    }
   ],
   "source": [
    "print(\"MSE for stacking model: {}\".format(mean_squared_error(y_test,y_pred)))"
   ]
  },
  {
   "cell_type": "code",
   "execution_count": 52,
   "id": "2db45d6a-d47f-4323-a140-9436d043998e",
   "metadata": {},
   "outputs": [
    {
     "name": "stdout",
     "output_type": "stream",
     "text": [
      "MSE for ElasticNet: 3190751084.7226815\n",
      "MSE for Ridge: 2496340156.4585676\n",
      "MSE for LinearRegression: 2495554898.6683207\n",
      "MSE for blending model is : 3622574335.88682\n"
     ]
    }
   ],
   "source": [
    "blending_model(models,[0.3,0.4,0.5],X_train_std,X_test_std,y_train,y_test)"
   ]
  }
 ],
 "metadata": {
  "kernelspec": {
   "display_name": "Python 3",
   "language": "python",
   "name": "python3"
  },
  "language_info": {
   "codemirror_mode": {
    "name": "ipython",
    "version": 3
   },
   "file_extension": ".py",
   "mimetype": "text/x-python",
   "name": "python",
   "nbconvert_exporter": "python",
   "pygments_lexer": "ipython3",
   "version": "3.8.8"
  }
 },
 "nbformat": 4,
 "nbformat_minor": 5
}
