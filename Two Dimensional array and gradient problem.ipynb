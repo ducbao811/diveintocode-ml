{
 "cells": [
  {
   "cell_type": "markdown",
   "id": "handed-synthesis",
   "metadata": {},
   "source": [
    "# Problem 1"
   ]
  },
  {
   "cell_type": "code",
   "execution_count": 1,
   "id": "twelve-bottom",
   "metadata": {},
   "outputs": [
    {
     "name": "stdout",
     "output_type": "stream",
     "text": [
      "(1001,)\n",
      "(1001,)\n"
     ]
    }
   ],
   "source": [
    "import numpy as np\n",
    "x = np.linspace(-50,50,1001)\n",
    "y = 1/2*x + 1\n",
    "print(x.shape)\n",
    "print(y.shape)"
   ]
  },
  {
   "cell_type": "markdown",
   "id": "becoming-listening",
   "metadata": {},
   "source": [
    "# Problem 2"
   ]
  },
  {
   "cell_type": "code",
   "execution_count": 2,
   "id": "dominican-garden",
   "metadata": {},
   "outputs": [
    {
     "data": {
      "text/plain": [
       "array([[-50.  , -24.  ],\n",
       "       [-49.9 , -23.95],\n",
       "       [-49.8 , -23.9 ],\n",
       "       ...,\n",
       "       [ 49.8 ,  25.9 ],\n",
       "       [ 49.9 ,  25.95],\n",
       "       [ 50.  ,  26.  ]])"
      ]
     },
     "execution_count": 2,
     "metadata": {},
     "output_type": "execute_result"
    }
   ],
   "source": [
    "x_temp = x.reshape(x.shape[0],1)\n",
    "y_temp = y.reshape(y.shape[0],1)\n",
    "arr = np.hstack((x_temp,y_temp))\n",
    "arr"
   ]
  },
  {
   "cell_type": "markdown",
   "id": "occasional-landscape",
   "metadata": {},
   "source": [
    "# Problem 3"
   ]
  },
  {
   "cell_type": "code",
   "execution_count": 3,
   "id": "breeding-alexander",
   "metadata": {},
   "outputs": [
    {
     "data": {
      "text/plain": [
       "array([0.5, 0.5, 0.5, 0.5, 0.5, 0.5, 0.5, 0.5, 0.5, 0.5, 0.5, 0.5, 0.5,\n",
       "       0.5, 0.5, 0.5, 0.5, 0.5, 0.5, 0.5, 0.5, 0.5, 0.5, 0.5, 0.5, 0.5,\n",
       "       0.5, 0.5, 0.5, 0.5, 0.5, 0.5, 0.5, 0.5, 0.5, 0.5, 0.5, 0.5, 0.5,\n",
       "       0.5, 0.5, 0.5, 0.5, 0.5, 0.5, 0.5, 0.5, 0.5, 0.5, 0.5, 0.5, 0.5,\n",
       "       0.5, 0.5, 0.5, 0.5, 0.5, 0.5, 0.5, 0.5, 0.5, 0.5, 0.5, 0.5, 0.5,\n",
       "       0.5, 0.5, 0.5, 0.5, 0.5, 0.5, 0.5, 0.5, 0.5, 0.5, 0.5, 0.5, 0.5,\n",
       "       0.5, 0.5, 0.5, 0.5, 0.5, 0.5, 0.5, 0.5, 0.5, 0.5, 0.5, 0.5, 0.5,\n",
       "       0.5, 0.5, 0.5, 0.5, 0.5, 0.5, 0.5, 0.5, 0.5, 0.5, 0.5, 0.5, 0.5,\n",
       "       0.5, 0.5, 0.5, 0.5, 0.5, 0.5, 0.5, 0.5, 0.5, 0.5, 0.5, 0.5, 0.5,\n",
       "       0.5, 0.5, 0.5, 0.5, 0.5, 0.5, 0.5, 0.5, 0.5, 0.5, 0.5, 0.5, 0.5,\n",
       "       0.5, 0.5, 0.5, 0.5, 0.5, 0.5, 0.5, 0.5, 0.5, 0.5, 0.5, 0.5, 0.5,\n",
       "       0.5, 0.5, 0.5, 0.5, 0.5, 0.5, 0.5, 0.5, 0.5, 0.5, 0.5, 0.5, 0.5,\n",
       "       0.5, 0.5, 0.5, 0.5, 0.5, 0.5, 0.5, 0.5, 0.5, 0.5, 0.5, 0.5, 0.5,\n",
       "       0.5, 0.5, 0.5, 0.5, 0.5, 0.5, 0.5, 0.5, 0.5, 0.5, 0.5, 0.5, 0.5,\n",
       "       0.5, 0.5, 0.5, 0.5, 0.5, 0.5, 0.5, 0.5, 0.5, 0.5, 0.5, 0.5, 0.5,\n",
       "       0.5, 0.5, 0.5, 0.5, 0.5, 0.5, 0.5, 0.5, 0.5, 0.5, 0.5, 0.5, 0.5,\n",
       "       0.5, 0.5, 0.5, 0.5, 0.5, 0.5, 0.5, 0.5, 0.5, 0.5, 0.5, 0.5, 0.5,\n",
       "       0.5, 0.5, 0.5, 0.5, 0.5, 0.5, 0.5, 0.5, 0.5, 0.5, 0.5, 0.5, 0.5,\n",
       "       0.5, 0.5, 0.5, 0.5, 0.5, 0.5, 0.5, 0.5, 0.5, 0.5, 0.5, 0.5, 0.5,\n",
       "       0.5, 0.5, 0.5, 0.5, 0.5, 0.5, 0.5, 0.5, 0.5, 0.5, 0.5, 0.5, 0.5,\n",
       "       0.5, 0.5, 0.5, 0.5, 0.5, 0.5, 0.5, 0.5, 0.5, 0.5, 0.5, 0.5, 0.5,\n",
       "       0.5, 0.5, 0.5, 0.5, 0.5, 0.5, 0.5, 0.5, 0.5, 0.5, 0.5, 0.5, 0.5,\n",
       "       0.5, 0.5, 0.5, 0.5, 0.5, 0.5, 0.5, 0.5, 0.5, 0.5, 0.5, 0.5, 0.5,\n",
       "       0.5, 0.5, 0.5, 0.5, 0.5, 0.5, 0.5, 0.5, 0.5, 0.5, 0.5, 0.5, 0.5,\n",
       "       0.5, 0.5, 0.5, 0.5, 0.5, 0.5, 0.5, 0.5, 0.5, 0.5, 0.5, 0.5, 0.5,\n",
       "       0.5, 0.5, 0.5, 0.5, 0.5, 0.5, 0.5, 0.5, 0.5, 0.5, 0.5, 0.5, 0.5,\n",
       "       0.5, 0.5, 0.5, 0.5, 0.5, 0.5, 0.5, 0.5, 0.5, 0.5, 0.5, 0.5, 0.5,\n",
       "       0.5, 0.5, 0.5, 0.5, 0.5, 0.5, 0.5, 0.5, 0.5, 0.5, 0.5, 0.5, 0.5,\n",
       "       0.5, 0.5, 0.5, 0.5, 0.5, 0.5, 0.5, 0.5, 0.5, 0.5, 0.5, 0.5, 0.5,\n",
       "       0.5, 0.5, 0.5, 0.5, 0.5, 0.5, 0.5, 0.5, 0.5, 0.5, 0.5, 0.5, 0.5,\n",
       "       0.5, 0.5, 0.5, 0.5, 0.5, 0.5, 0.5, 0.5, 0.5, 0.5, 0.5, 0.5, 0.5,\n",
       "       0.5, 0.5, 0.5, 0.5, 0.5, 0.5, 0.5, 0.5, 0.5, 0.5, 0.5, 0.5, 0.5,\n",
       "       0.5, 0.5, 0.5, 0.5, 0.5, 0.5, 0.5, 0.5, 0.5, 0.5, 0.5, 0.5, 0.5,\n",
       "       0.5, 0.5, 0.5, 0.5, 0.5, 0.5, 0.5, 0.5, 0.5, 0.5, 0.5, 0.5, 0.5,\n",
       "       0.5, 0.5, 0.5, 0.5, 0.5, 0.5, 0.5, 0.5, 0.5, 0.5, 0.5, 0.5, 0.5,\n",
       "       0.5, 0.5, 0.5, 0.5, 0.5, 0.5, 0.5, 0.5, 0.5, 0.5, 0.5, 0.5, 0.5,\n",
       "       0.5, 0.5, 0.5, 0.5, 0.5, 0.5, 0.5, 0.5, 0.5, 0.5, 0.5, 0.5, 0.5,\n",
       "       0.5, 0.5, 0.5, 0.5, 0.5, 0.5, 0.5, 0.5, 0.5, 0.5, 0.5, 0.5, 0.5,\n",
       "       0.5, 0.5, 0.5, 0.5, 0.5, 0.5, 0.5, 0.5, 0.5, 0.5, 0.5, 0.5, 0.5,\n",
       "       0.5, 0.5, 0.5, 0.5, 0.5, 0.5, 0.5, 0.5, 0.5, 0.5, 0.5, 0.5, 0.5,\n",
       "       0.5, 0.5, 0.5, 0.5, 0.5, 0.5, 0.5, 0.5, 0.5, 0.5, 0.5, 0.5, 0.5,\n",
       "       0.5, 0.5, 0.5, 0.5, 0.5, 0.5, 0.5, 0.5, 0.5, 0.5, 0.5, 0.5, 0.5,\n",
       "       0.5, 0.5, 0.5, 0.5, 0.5, 0.5, 0.5, 0.5, 0.5, 0.5, 0.5, 0.5, 0.5,\n",
       "       0.5, 0.5, 0.5, 0.5, 0.5, 0.5, 0.5, 0.5, 0.5, 0.5, 0.5, 0.5, 0.5,\n",
       "       0.5, 0.5, 0.5, 0.5, 0.5, 0.5, 0.5, 0.5, 0.5, 0.5, 0.5, 0.5, 0.5,\n",
       "       0.5, 0.5, 0.5, 0.5, 0.5, 0.5, 0.5, 0.5, 0.5, 0.5, 0.5, 0.5, 0.5,\n",
       "       0.5, 0.5, 0.5, 0.5, 0.5, 0.5, 0.5, 0.5, 0.5, 0.5, 0.5, 0.5, 0.5,\n",
       "       0.5, 0.5, 0.5, 0.5, 0.5, 0.5, 0.5, 0.5, 0.5, 0.5, 0.5, 0.5, 0.5,\n",
       "       0.5, 0.5, 0.5, 0.5, 0.5, 0.5, 0.5, 0.5, 0.5, 0.5, 0.5, 0.5, 0.5,\n",
       "       0.5, 0.5, 0.5, 0.5, 0.5, 0.5, 0.5, 0.5, 0.5, 0.5, 0.5, 0.5, 0.5,\n",
       "       0.5, 0.5, 0.5, 0.5, 0.5, 0.5, 0.5, 0.5, 0.5, 0.5, 0.5, 0.5, 0.5,\n",
       "       0.5, 0.5, 0.5, 0.5, 0.5, 0.5, 0.5, 0.5, 0.5, 0.5, 0.5, 0.5, 0.5,\n",
       "       0.5, 0.5, 0.5, 0.5, 0.5, 0.5, 0.5, 0.5, 0.5, 0.5, 0.5, 0.5, 0.5,\n",
       "       0.5, 0.5, 0.5, 0.5, 0.5, 0.5, 0.5, 0.5, 0.5, 0.5, 0.5, 0.5, 0.5,\n",
       "       0.5, 0.5, 0.5, 0.5, 0.5, 0.5, 0.5, 0.5, 0.5, 0.5, 0.5, 0.5, 0.5,\n",
       "       0.5, 0.5, 0.5, 0.5, 0.5, 0.5, 0.5, 0.5, 0.5, 0.5, 0.5, 0.5, 0.5,\n",
       "       0.5, 0.5, 0.5, 0.5, 0.5, 0.5, 0.5, 0.5, 0.5, 0.5, 0.5, 0.5, 0.5,\n",
       "       0.5, 0.5, 0.5, 0.5, 0.5, 0.5, 0.5, 0.5, 0.5, 0.5, 0.5, 0.5, 0.5,\n",
       "       0.5, 0.5, 0.5, 0.5, 0.5, 0.5, 0.5, 0.5, 0.5, 0.5, 0.5, 0.5, 0.5,\n",
       "       0.5, 0.5, 0.5, 0.5, 0.5, 0.5, 0.5, 0.5, 0.5, 0.5, 0.5, 0.5, 0.5,\n",
       "       0.5, 0.5, 0.5, 0.5, 0.5, 0.5, 0.5, 0.5, 0.5, 0.5, 0.5, 0.5, 0.5,\n",
       "       0.5, 0.5, 0.5, 0.5, 0.5, 0.5, 0.5, 0.5, 0.5, 0.5, 0.5, 0.5, 0.5,\n",
       "       0.5, 0.5, 0.5, 0.5, 0.5, 0.5, 0.5, 0.5, 0.5, 0.5, 0.5, 0.5, 0.5,\n",
       "       0.5, 0.5, 0.5, 0.5, 0.5, 0.5, 0.5, 0.5, 0.5, 0.5, 0.5, 0.5, 0.5,\n",
       "       0.5, 0.5, 0.5, 0.5, 0.5, 0.5, 0.5, 0.5, 0.5, 0.5, 0.5, 0.5, 0.5,\n",
       "       0.5, 0.5, 0.5, 0.5, 0.5, 0.5, 0.5, 0.5, 0.5, 0.5, 0.5, 0.5, 0.5,\n",
       "       0.5, 0.5, 0.5, 0.5, 0.5, 0.5, 0.5, 0.5, 0.5, 0.5, 0.5, 0.5, 0.5,\n",
       "       0.5, 0.5, 0.5, 0.5, 0.5, 0.5, 0.5, 0.5, 0.5, 0.5, 0.5, 0.5, 0.5,\n",
       "       0.5, 0.5, 0.5, 0.5, 0.5, 0.5, 0.5, 0.5, 0.5, 0.5, 0.5, 0.5, 0.5,\n",
       "       0.5, 0.5, 0.5, 0.5, 0.5, 0.5, 0.5, 0.5, 0.5, 0.5, 0.5, 0.5, 0.5,\n",
       "       0.5, 0.5, 0.5, 0.5, 0.5, 0.5, 0.5, 0.5, 0.5, 0.5, 0.5, 0.5, 0.5,\n",
       "       0.5, 0.5, 0.5, 0.5, 0.5, 0.5, 0.5, 0.5, 0.5, 0.5, 0.5, 0.5, 0.5,\n",
       "       0.5, 0.5, 0.5, 0.5, 0.5, 0.5, 0.5, 0.5, 0.5, 0.5, 0.5, 0.5, 0.5,\n",
       "       0.5, 0.5, 0.5, 0.5, 0.5, 0.5, 0.5, 0.5, 0.5, 0.5, 0.5, 0.5, 0.5,\n",
       "       0.5, 0.5, 0.5, 0.5, 0.5, 0.5, 0.5, 0.5, 0.5, 0.5, 0.5, 0.5, 0.5,\n",
       "       0.5, 0.5, 0.5, 0.5, 0.5, 0.5, 0.5, 0.5, 0.5, 0.5, 0.5, 0.5, 0.5,\n",
       "       0.5, 0.5, 0.5, 0.5, 0.5, 0.5, 0.5, 0.5, 0.5, 0.5, 0.5, 0.5])"
      ]
     },
     "execution_count": 3,
     "metadata": {},
     "output_type": "execute_result"
    }
   ],
   "source": [
    "d_x = x[1:] - x[:-1] # list of amount of change in x\n",
    "d_y = y[1:] - y[:-1] # list of amount of change in y\n",
    "gradient = d_y / d_x\n",
    "gradient"
   ]
  },
  {
   "cell_type": "markdown",
   "id": "declared-anderson",
   "metadata": {},
   "source": [
    "# Problem 4"
   ]
  },
  {
   "cell_type": "code",
   "execution_count": 4,
   "id": "intimate-confidence",
   "metadata": {},
   "outputs": [
    {
     "data": {
      "image/png": "[encoded data removed]",
      "text/plain": [
       "<Figure size 432x288 with 1 Axes>"
      ]
     },
     "metadata": {
      "needs_background": "light"
     },
     "output_type": "display_data"
    }
   ],
   "source": [
    "import matplotlib.pyplot as plt\n",
    "plt.title('Gradient and y')\n",
    "plt.xlabel('x')\n",
    "plt.ylabel('y')\n",
    "plt.plot(x,y, label='y', ls='--')\n",
    "plt.plot(x[1:],gradient, label='gradient', ls='--')\n",
    "plt.legend()\n",
    "plt.show()"
   ]
  },
  {
   "cell_type": "markdown",
   "id": "coral-polymer",
   "metadata": {},
   "source": [
    "# Problem 5"
   ]
  },
  {
   "cell_type": "code",
   "execution_count": 5,
   "id": "humanitarian-power",
   "metadata": {},
   "outputs": [],
   "source": [
    "def compute_gradient(function, x_range=(-50, 50.1, 0.1)):\n",
    "    \"\"\"\n",
    "    Calculate the gradient using the amount of change.\n",
    "    Parameters\n",
    "    ----------------\n",
    "    function : function\n",
    "      The function you want to find, the one that returns the ndarray of y when you put the ndarray of x.\n",
    "    x_range : tuple\n",
    "      Specify the range in the same way as the argument of np.arange ().\n",
    "    Returns\n",
    "    ----------------\n",
    "    array_xy : ndarray, shape(n, 2)\n",
    "      A combination of x and y. n depends on x_range.\n",
    "    gradient : ndarray, shape(n-1,)\n",
    "      Function gradient. One factor is reduced to make a difference\n",
    "    \"\"\"\n",
    "    x = np.arange(x_range[0],x_range[1],x_range[2])\n",
    "    y = function(x)\n",
    "    x_temp = x.reshape(x.shape[0],1)\n",
    "    y_temp = y.reshape(y.shape[0],1)\n",
    "    array_xy = np.hstack((x_temp,y_temp))\n",
    "    \n",
    "    d_x = x[1:] - x[:-1] \n",
    "    d_y = y[1:] - y[:-1] \n",
    "    gradient = d_y / d_x\n",
    "    return array_xy, gradient\n",
    "\n",
    "# y = x^2\n",
    "def func1(array_x):\n",
    "    return array_x**2\n",
    "# y = 2*x^2 + 2^x\n",
    "def func2(array_x):\n",
    "    return 2*(array_x**2) + 2**array_x\n",
    "# y = sin(x^(1/2))\n",
    "def func3(array_x):\n",
    "    return np.sin(np.sqrt(array_x))"
   ]
  },
  {
   "cell_type": "code",
   "execution_count": 6,
   "id": "deadly-ocean",
   "metadata": {},
   "outputs": [
    {
     "data": {
      "image/png": "[encoded data removed]",
      "text/plain": [
       "<Figure size 432x288 with 1 Axes>"
      ]
     },
     "metadata": {
      "needs_background": "light"
     },
     "output_type": "display_data"
    }
   ],
   "source": [
    "array_square, gradient_square = compute_gradient(func1)\n",
    "plt.title('y = x^2')\n",
    "plt.xlabel('x')\n",
    "plt.ylabel('y')\n",
    "plt.plot(array_square[:,0], array_square[:,1], label='y', ls='--')\n",
    "plt.plot(array_square[:,0][1:],gradient_square, label='gradient', ls='--')\n",
    "plt.legend()\n",
    "plt.show()"
   ]
  },
  {
   "cell_type": "code",
   "execution_count": 7,
   "id": "preliminary-topic",
   "metadata": {},
   "outputs": [
    {
     "data": {
      "image/png": "[encoded data removed]",
      "text/plain": [
       "<Figure size 432x288 with 1 Axes>"
      ]
     },
     "metadata": {
      "needs_background": "light"
     },
     "output_type": "display_data"
    }
   ],
   "source": [
    "array_exponential, gradient_exponential = compute_gradient(func2)\n",
    "plt.title('y = 2*x^2 + 2^x')\n",
    "plt.xlabel('x')\n",
    "plt.ylabel('y')\n",
    "plt.plot(array_exponential[:,0], array_exponential[:,1] , label='y', ls='--')\n",
    "plt.plot(array_exponential[:,0][1:],gradient_exponential, label='gradient', ls='--')\n",
    "plt.legend()\n",
    "plt.show()"
   ]
  },
  {
   "cell_type": "code",
   "execution_count": 8,
   "id": "brave-unknown",
   "metadata": {},
   "outputs": [
    {
     "data": {
      "image/png": "[encoded data removed]",
      "text/plain": [
       "<Figure size 432x288 with 1 Axes>"
      ]
     },
     "metadata": {
      "needs_background": "light"
     },
     "output_type": "display_data"
    }
   ],
   "source": [
    "array_sin, gradient_sin = compute_gradient(func3, x_range=(0,50.1,0.1))\n",
    "plt.title('y = sin(x^(1/2))')\n",
    "plt.xlabel('x')\n",
    "plt.ylabel('y')\n",
    "plt.plot(array_sin[:,0], array_sin[:,1],label='y', ls='--')\n",
    "plt.plot(array_sin[:,0][1:],gradient_sin, label='gradient', ls='--')\n",
    "plt.legend()\n",
    "plt.show()"
   ]
  },
  {
   "cell_type": "markdown",
   "id": "exterior-culture",
   "metadata": {},
   "source": [
    "# Problem 6"
   ]
  },
  {
   "cell_type": "markdown",
   "id": "original-trial",
   "metadata": {},
   "source": [
    "nparray.min method is used to find minimum value of y"
   ]
  },
  {
   "cell_type": "code",
   "execution_count": 9,
   "id": "violent-fortune",
   "metadata": {},
   "outputs": [
    {
     "name": "stdout",
     "output_type": "stream",
     "text": [
      "Minimum value of y in function y = x^2 is 0\n",
      "Minimum value of y in function y = 2*x^2 + 2^x is 0.9505505632959851\n",
      "Minimum value of y in function y = sin(x^(1/2)) is -0.9999997540298113\n"
     ]
    }
   ],
   "source": [
    "min_square_func = array_square.min(axis = 0)[1]\n",
    "min_exponential_func = array_exponential.min(axis = 0)[1]\n",
    "min_sin_func = array_sin.min(axis = 0)[1]\n",
    "print('Minimum value of y in function y = x^2 is {}'.format(np.int32(min_square_func)))\n",
    "print('Minimum value of y in function y = 2*x^2 + 2^x is {}'.format((min_exponential_func)))\n",
    "print('Minimum value of y in function y = sin(x^(1/2)) is {}'.format(min_sin_func))"
   ]
  },
  {
   "cell_type": "markdown",
   "id": "pressed-mother",
   "metadata": {},
   "source": [
    "nparray.argmin used to find the index of the smallest element of y"
   ]
  },
  {
   "cell_type": "code",
   "execution_count": 10,
   "id": "healthy-communication",
   "metadata": {},
   "outputs": [
    {
     "name": "stdout",
     "output_type": "stream",
     "text": [
      "Minimum value of y in function y = x^2 is 0\n",
      "Minimum value of y in function y = 2*x^2 + 2^x is 0.9505505632959851\n",
      "Minimum value of y in function y = sin(x^(1/2)) is -0.9999997540298113\n"
     ]
    }
   ],
   "source": [
    "# Find the index\n",
    "minidx_square_func = array_square.argmin(axis = 0)[1]\n",
    "minidx_exponential_func = array_exponential.argmin(axis = 0)[1]\n",
    "minidx_sin_func = array_sin.argmin(axis = 0)[1]\n",
    "# Locate the minimum using the index\n",
    "min_square_func = array_square[minidx_square_func][1]\n",
    "min_exponential_func = array_exponential[minidx_exponential_func][1]\n",
    "min_sin_func = array_sin[minidx_sin_func][1]\n",
    "print('Minimum value of y in function y = x^2 is {}'.format(np.int32(min_square_func)))\n",
    "print('Minimum value of y in function y = 2*x^2 + 2^x is {}'.format((min_exponential_func)))\n",
    "print('Minimum value of y in function y = sin(x^(1/2)) is {}'.format(min_sin_func))"
   ]
  },
  {
   "cell_type": "markdown",
   "id": "integrated-chapter",
   "metadata": {},
   "source": [
    "Suppose that the minimum point has the index i, the slope before the function reach the minimum point is (y[i] - y[i-1]) / (x[i] - x[i-1]) and after reaching the minimum point is (y[i+1] - y[i]) / (x[i+1] - x[i])"
   ]
  },
  {
   "cell_type": "code",
   "execution_count": 16,
   "id": "hollow-fishing",
   "metadata": {},
   "outputs": [],
   "source": [
    "def compute_slope(arr, minIdx):\n",
    "    \"\"\"\n",
    "        This function used to compute the slope of the function after and before reaching \n",
    "        the minimum point.\n",
    "        Input:\n",
    "            arr: numpy array of shape [n,2] where first column is the value of x, second\n",
    "            one is corresponding y\n",
    "            minIdx: the index of the row containing minimum of y\n",
    "        Output:\n",
    "            the slope after and before minimum point\n",
    "    \"\"\"\n",
    "    before_min = arr[minIdx - 1]\n",
    "    at_min = arr[minIdx]\n",
    "    after_min = arr[minIdx+1]\n",
    "    slope_before = (at_min[1] - before_min[1]) / (at_min[0] - before_min[0])\n",
    "    slope_after = (after_min[1] - at_min[1]) / (after_min[0] - at_min[0])\n",
    "    return slope_before,slope_after"
   ]
  },
  {
   "cell_type": "code",
   "execution_count": 18,
   "id": "duplicate-halloween",
   "metadata": {},
   "outputs": [
    {
     "name": "stdout",
     "output_type": "stream",
     "text": [
      "The slope before minimum point is: -0.09999999999858034\n",
      "The slope after minimum point is: 0.1000000000014225\n"
     ]
    }
   ],
   "source": [
    "# Compute the slope of y = x^2\n",
    "slope_square = compute_slope(array_square,minidx_square_func)\n",
    "print('The slope before minimum point is: {}'.format(slope_square[0]))\n",
    "print('The slope after minimum point is: {}'.format(slope_square[1]))"
   ]
  },
  {
   "cell_type": "code",
   "execution_count": 19,
   "id": "tutorial-conducting",
   "metadata": {},
   "outputs": [
    {
     "name": "stdout",
     "output_type": "stream",
     "text": [
      "The slope before minimum point is: -0.4170183305979998\n",
      "The slope after minimum point is: 0.024824282409972788\n"
     ]
    }
   ],
   "source": [
    "# Compute the slope of y = 2*x^2 + 2^x \n",
    "slope_exponential = compute_slope(array_exponential,minidx_exponential_func)\n",
    "print('The slope before minimum point is: {}'.format(slope_exponential[0]))\n",
    "print('The slope after minimum point is: {}'.format(slope_exponential[1]))"
   ]
  },
  {
   "cell_type": "code",
   "execution_count": 20,
   "id": "generic-dover",
   "metadata": {},
   "outputs": [
    {
     "name": "stdout",
     "output_type": "stream",
     "text": [
      "The slope before minimum point is: -0.0006388422559544435\n",
      "The slope after minimum point is: 0.0004874477930660974\n"
     ]
    }
   ],
   "source": [
    "slope_sin = compute_slope(array_sin,minidx_sin_func)\n",
    "print('The slope before minimum point is: {}'.format(slope_sin[0]))\n",
    "print('The slope after minimum point is: {}'.format(slope_sin[1]))"
   ]
  }
 ],
 "metadata": {
  "kernelspec": {
   "display_name": "Python 3",
   "language": "python",
   "name": "python3"
  },
  "language_info": {
   "codemirror_mode": {
    "name": "ipython",
    "version": 3
   },
   "file_extension": ".py",
   "mimetype": "text/x-python",
   "name": "python",
   "nbconvert_exporter": "python",
   "pygments_lexer": "ipython3",
   "version": "3.8.5"
  }
 },
 "nbformat": 4,
 "nbformat_minor": 5
}
