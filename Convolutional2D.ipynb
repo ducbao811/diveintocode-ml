{
  "nbformat": 4,
  "nbformat_minor": 0,
  "metadata": {
    "colab": {
      "name": "Convolutional2D.ipynb",
      "provenance": [],
      "authorship_tag": "ABX9TyNEeYJ89PjaicT67xJns+gS",
      "include_colab_link": true
    },
    "kernelspec": {
      "display_name": "Python 3",
      "name": "python3"
    },
    "language_info": {
      "name": "python"
    }
  },
  "cells": [
    {
      "cell_type": "markdown",
      "metadata": {
        "id": "view-in-github",
        "colab_type": "text"
      },
      "source": [
        "<a href=\"https://colab.research.google.com/github/ducbao811/diveintocode-ml/blob/master/Convolutional2D.ipynb\" target=\"_parent\"><img src=\"https://colab.research.google.com/assets/colab-badge.svg\" alt=\"Open In Colab\"/></a>"
      ]
    },
    {
      "cell_type": "markdown",
      "metadata": {
        "id": "0PNM7UPK0ibm"
      },
      "source": [
        "# [Problem 1 to 3]"
      ]
    },
    {
      "cell_type": "markdown",
      "metadata": {
        "id": "aAh0UYE40m31"
      },
      "source": [
        "**Preparing the MNIST dataset**"
      ]
    },
    {
      "cell_type": "code",
      "metadata": {
        "colab": {
          "base_uri": "https://localhost:8080/"
        },
        "id": "V-xWKZE8cRfg",
        "outputId": "12cee557-a6c4-4b6b-83d9-00db5b45cb61"
      },
      "source": [
        "# Importing dataset\n",
        "\n",
        "from keras.datasets import mnist\n",
        "import numpy as np\n",
        "(X_train, y_train), (X_test, y_test) = mnist.load_data()\n",
        "\n",
        "# Reshaping for fitting\n",
        "X_train = X_train.reshape(-1, 784)\n",
        "X_test = X_test.reshape(-1, 784)\n",
        "\n",
        "# Coverting value to 0 and 1\n",
        "X_train = X_train.astype(np.float)\n",
        "X_test = X_test.astype(np.float)\n",
        "X_train /= 255\n",
        "X_test /= 255\n",
        "\n",
        "from sklearn.preprocessing import OneHotEncoder\n",
        "enc = OneHotEncoder(handle_unknown='ignore', sparse=False)\n",
        "y_train_one_hot = enc.fit_transform(y_train[:, np.newaxis])\n",
        "y_test_one_hot = enc.transform(y_test[:, np.newaxis])\n",
        "\n",
        "# Splitting data for training and validation\n",
        "from sklearn.model_selection import train_test_split\n",
        "X_training, X_val, y_training, y_val = train_test_split(X_train, y_train_one_hot, test_size=0.2)\n",
        "\n",
        "print(\"X_tranining shape: \" , X_training.shape)\n",
        "print(\"X_validation shape: \", X_val.shape)\n",
        "print(\"y_tranining shape: \", y_training.shape)\n",
        "print(\"y_validation shape: \", y_val.shape)"
      ],
      "execution_count": 1,
      "outputs": [
        {
          "output_type": "stream",
          "name": "stdout",
          "text": [
            "X_tranining shape:  (48000, 784)\n",
            "X_validation shape:  (12000, 784)\n",
            "y_tranining shape:  (48000, 10)\n",
            "y_validation shape:  (12000, 10)\n"
          ]
        }
      ]
    },
    {
      "cell_type": "markdown",
      "metadata": {
        "id": "nUA225Gc2iCG"
      },
      "source": [
        "**Preparing helper class for batch sampling, initializer and optimizer**"
      ]
    },
    {
      "cell_type": "code",
      "metadata": {
        "id": "GeHEyvHW17Ob"
      },
      "source": [
        "class GetMiniBatch:\n",
        "\n",
        "    def __init__(self, X, y, batch_size = 20, seed=0):\n",
        "        self.batch_size = batch_size\n",
        "        np.random.seed(seed)\n",
        "        shuffle_index = np.random.permutation(np.arange(X.shape[0]))\n",
        "        self._X = X[shuffle_index]\n",
        "        self._y = y[shuffle_index]\n",
        "        self._stop = np.ceil(X.shape[0]/self.batch_size).astype(np.int)\n",
        "        \n",
        "    def __len__(self):\n",
        "        return self._stop\n",
        "    \n",
        "    def __getitem__(self,item):\n",
        "        p0 = item*self.batch_size\n",
        "        p1 = item*self.batch_size + self.batch_size\n",
        "        return self._X[p0:p1], self._y[p0:p1] \n",
        "    \n",
        "    def __iter__(self):\n",
        "        self._counter = 0\n",
        "        return self\n",
        "    \n",
        "    def __next__(self):\n",
        "        if self._counter >= self._stop:\n",
        "            raise StopIteration()\n",
        "        p0 = self._counter*self.batch_size\n",
        "        p1 = self._counter*self.batch_size + self.batch_size\n",
        "        self._counter += 1\n",
        "        return self._X[p0:p1], self._y[p0:p1]"
      ],
      "execution_count": 2,
      "outputs": []
    },
    {
      "cell_type": "code",
      "metadata": {
        "id": "EEr0LKMT3hg6"
      },
      "source": [
        "class SimpleInitializer:\n",
        "    \n",
        "    def __init__(self, sigma=0.01):\n",
        "        self.sigma = sigma\n",
        "        \n",
        "    def W(self,f_num, Chanel, f_size_h, f_size_w):\n",
        "        np.random.seed(0)\n",
        "        self.W = self.sigma * np.random.randn(f_num, Chanel, f_size_h, f_size_w)\n",
        "        return self.W\n",
        "    \n",
        "    def B(self, f_num):\n",
        "        np.random.seed(0)\n",
        "        self.B = self.sigma * np.random.randn(f_num,1)\n",
        "        return self.B\n",
        "\n",
        "class XavierInitializer:\n",
        "    \n",
        "    def __init__(self, sigma = 0.01):\n",
        "        self.sigma = sigma\n",
        "        \n",
        "    def W(self,f_num, Chanel, f_size_h, f_size_w):\n",
        "        self.sigma = (1 / np.sqrt(f_num))\n",
        "        np.random.seed(0)\n",
        "        self.W = self.sigma * np.random.randn(f_num, Chanel, f_size_h, f_size_w)\n",
        "        return self.W\n",
        "        \n",
        "    def B(self,f_num):\n",
        "        np.random.seed(0)\n",
        "        self.sigma = (1 / np.sqrt(f_num))\n",
        "        self.B = self.sigma * np.random.randn(f_num,1)\n",
        "        return self.B\n",
        "\n",
        "class He:\n",
        "    \n",
        "    def __init__(self, sigma = 0.01):\n",
        "        self.sigma = sigma\n",
        "    \n",
        "    def W(self, f_num, Chanel, f_size_h, f_size_w):\n",
        "        sigma = np.sqrt(2 / 1)\n",
        "        np.random.seed(0)\n",
        "        self.W = sigma * np.random.randn(f_num, Chanel, f_size_h, f_size_w)\n",
        "        return self.W\n",
        "        \n",
        "    def B(self,f_num):\n",
        "        sigma = np.sqrt(2 / 1)\n",
        "        np.random.seed(0)\n",
        "        self.B = sigma * np.random.randn(f_num,1)\n",
        "        return self.B\n",
        "\n",
        "class SGD:\n",
        "\n",
        "    def __init__(self, lr=0.001):\n",
        "        self.lr = lr\n",
        "        \n",
        "    def update(self,layer):\n",
        "\n",
        "        layer.W -= (self.lr * layer.dW)\n",
        "        layer.B -= (self.lr * layer.dB)\n",
        "        return layer.W, layer.B"
      ],
      "execution_count": 3,
      "outputs": []
    },
    {
      "cell_type": "markdown",
      "metadata": {
        "id": "_s0v8PkT5TeH"
      },
      "source": [
        "**Calculation of width and height of output**"
      ]
    },
    {
      "cell_type": "code",
      "metadata": {
        "id": "OOeAz8QE3h3K"
      },
      "source": [
        "# Height calculation\n",
        "def output_heigh_calculation(X_h,pad_n,F_h,stride):\n",
        "    output_h = (X_h + 2*pad_n - F_h)//stride + 1\n",
        "    return output_h\n",
        "\n",
        "# Width calculation\n",
        "def output_width_calculation(X_w,pad_n,F_w,stride):\n",
        "    output_w = (X_w + 2*pad_n - F_w)//stride + 1\n",
        "    return output_w"
      ],
      "execution_count": 15,
      "outputs": []
    },
    {
      "cell_type": "markdown",
      "metadata": {
        "id": "JznflVJ1635J"
      },
      "source": [
        "**2D 2-D convolutional layer**"
      ]
    },
    {
      "cell_type": "code",
      "metadata": {
        "id": "kfsTm_xf6FTy"
      },
      "source": [
        "class SimpleConv2d:\n",
        "    \n",
        "    def __init__(self, f_num=1, f_size_h=2, f_size_w=2, stride=1, pad = 1, initializer=XavierInitializer(), optimizer=SGD(lr=0.05)):\n",
        "\n",
        "        self.f_num = f_num\n",
        "        self.f_size_h = f_size_h\n",
        "        self.f_size_w = f_size_w\n",
        "        self.pad = pad\n",
        "        self.stride = stride\n",
        "        self.kernel  = None\n",
        "        self.initializer = initializer\n",
        "        self.optimizer = optimizer\n",
        "        self.W = None\n",
        "        self.B = None \n",
        "        \n",
        "    def im2col(self, input_data):\n",
        "        N, C, H, W = input_data.shape\n",
        "        out_h = output_heigh_calculation(X_h=H,pad_n=self.pad, F_h= self.f_size_h, stride=self.stride)\n",
        "        out_w = output_width_calculation(X_w=W,pad_n=self.pad, F_w=self.f_size_w, stride=self.stride)\n",
        "        img = np.pad(input_data, [(0,0), (0,0), (self.pad, self.pad), (self.pad, self.pad)], 'constant')\n",
        "        col = np.zeros((N, C, self.f_size_h, self.f_size_w, out_h, out_w))\n",
        "\n",
        "        for y in range(self.f_size_h):\n",
        "            y_max = y + self.stride*out_h\n",
        "            for x in range(self.f_size_w):\n",
        "                x_max = x + self.stride*out_w\n",
        "                col[:, :, y, x, :, :] = img[:, :, y:y_max:self.stride, x:x_max:self.stride]\n",
        "\n",
        "        col = col.transpose(0, 4, 5, 1, 2, 3).reshape(N*out_h*out_w, -1)\n",
        "        return col\n",
        "    \n",
        "    def col2im(self, col, X):\n",
        "        N, C, H, W = X.shape\n",
        "        out_h = output_heigh_calculation(X_h=H,pad_n=self.pad, F_h=self.f_size_h, stride=self.stride)\n",
        "        out_w = output_width_calculation(X_w=W,pad_n=self.pad, F_w=self.f_size_w, stride=self.stride)\n",
        "        col = col.reshape(N, out_h, out_w, C, self.f_size_h, self.f_size_w).transpose(0, 3, 4, 5, 1, 2)\n",
        "        img = np.zeros((N, C, H + 2*self.pad + self.stride - 1, W + 2*self.pad + self.stride - 1))\n",
        "        \n",
        "        for y in range(self.f_size_h):\n",
        "            y_max = y + self.stride*out_h\n",
        "            for x in range(self.f_size_w):\n",
        "                x_max = x + self.stride*out_w\n",
        "                img[:, :, y:y_max:self.stride, x:x_max:self.stride] += col[:, :, y, x, :, :]\n",
        "        return img[:, :, self.pad:H + self.pad, self.pad:W + self.pad]\n",
        "        \n",
        "    def forward(self,X):\n",
        "        if self.W is None:\n",
        "            self.W = self.initializer.W(self.f_num, X.shape[1], self.f_size_h , self.f_size_w)\n",
        "        if self.B is None:\n",
        "            self.B = self.initializer.B(self.f_num)\n",
        "        FN, C, FH, FW = self.W.shape\n",
        "        N, C, H, W = X.shape\n",
        "        out_h = output_heigh_calculation(X_h=H,pad_n=self.pad, F_h=self.f_size_h, stride=self.stride)\n",
        "        out_w = output_width_calculation(X_w=W,pad_n=self.pad, F_w=self.f_size_w, stride=self.stride)\n",
        "            \n",
        "        self.col = self.im2col(X)\n",
        "        self.col_W = self.W.reshape(FN, -1).T\n",
        "        out = np.dot(self.col, self.col_W) + self.B.T\n",
        "        out = out.reshape(N, out_h, out_w, -1).transpose(0,3,1,2)\n",
        "        self.X = X\n",
        "        return out\n",
        "    \n",
        "    def backward(self,dout):\n",
        "        FN, C, FH, FW = self.W.shape\n",
        "        dout = dout.transpose(0,2,3,1).reshape(-1, FN)\n",
        "        self.dB = np.sum(dout, axis=0).reshape(self.f_num,1)\n",
        "        self.dW = np.dot(self.col.T, dout)\n",
        "        self.dW = self.dW.transpose(1, 0).reshape(FN, C, FH, FW)\n",
        "\n",
        "        dcol = np.dot(dout, self.col_W.T)\n",
        "        self.dx = self.col2im(dcol,self.X)\n",
        "        \n",
        "        return self.dx\n",
        "        self = self.optimizer.update(self)"
      ],
      "execution_count": 4,
      "outputs": []
    },
    {
      "cell_type": "code",
      "metadata": {
        "id": "1MyA8YM4BaOU"
      },
      "source": [
        "test = SimpleConv2d(f_num=4, f_size_h=3,  f_size_w=3, stride=1, pad=1, initializer=SimpleInitializer())\n",
        "get_mini_batch = GetMiniBatch(X_train, y_train_one_hot, batch_size=20)\n",
        "for mini_X_train, mini_y_train in get_mini_batch:\n",
        "    mini_X_train, mini_y_train\n",
        "mini_X_train = mini_X_train.reshape(20, 1, 28, 28)\n",
        "testing = test.forward(mini_X_train)"
      ],
      "execution_count": null,
      "outputs": []
    },
    {
      "cell_type": "code",
      "metadata": {
        "colab": {
          "base_uri": "https://localhost:8080/"
        },
        "id": "z_DLD2gqBdB1",
        "outputId": "f9db88fe-86a1-4f8b-a09e-d9be559520f7"
      },
      "source": [
        "test.backward(testing)"
      ],
      "execution_count": null,
      "outputs": [
        {
          "data": {
            "text/plain": [
              "array([[[[ 1.68067009e-03,  1.56469796e-03,  1.56469796e-03, ...,\n",
              "           1.56469796e-03,  1.56469796e-03,  7.23931309e-04],\n",
              "         [ 1.45267581e-03,  1.34980047e-03,  1.34980047e-03, ...,\n",
              "           1.34980047e-03,  1.34980047e-03,  5.49806859e-04],\n",
              "         [ 1.45267581e-03,  1.34980047e-03,  1.34980047e-03, ...,\n",
              "           1.34980047e-03,  1.34980047e-03,  5.49806859e-04],\n",
              "         ...,\n",
              "         [ 1.45267581e-03,  1.34980047e-03,  1.34980047e-03, ...,\n",
              "           1.34980047e-03,  1.34980047e-03,  5.49806859e-04],\n",
              "         [ 1.45267581e-03,  1.34980047e-03,  1.34980047e-03, ...,\n",
              "           1.34980047e-03,  1.34980047e-03,  5.49806859e-04],\n",
              "         [ 8.00122436e-04,  3.87001988e-04,  3.87001988e-04, ...,\n",
              "           3.87001988e-04,  3.87001988e-04, -9.66779355e-05]]],\n",
              "\n",
              "\n",
              "       [[[ 1.68067009e-03,  1.56469796e-03,  1.56469796e-03, ...,\n",
              "           1.56469796e-03,  1.56469796e-03,  7.23931309e-04],\n",
              "         [ 1.45267581e-03,  1.34980047e-03,  1.34980047e-03, ...,\n",
              "           1.34980047e-03,  1.34980047e-03,  5.49806859e-04],\n",
              "         [ 1.45267581e-03,  1.34980047e-03,  1.34980047e-03, ...,\n",
              "           1.34980047e-03,  1.34980047e-03,  5.49806859e-04],\n",
              "         ...,\n",
              "         [ 1.45267581e-03,  1.34980047e-03,  1.34980047e-03, ...,\n",
              "           1.34980047e-03,  1.34980047e-03,  5.49806859e-04],\n",
              "         [ 1.45267581e-03,  1.34980047e-03,  1.34980047e-03, ...,\n",
              "           1.34980047e-03,  1.34980047e-03,  5.49806859e-04],\n",
              "         [ 8.00122436e-04,  3.87001988e-04,  3.87001988e-04, ...,\n",
              "           3.87001988e-04,  3.87001988e-04, -9.66779355e-05]]],\n",
              "\n",
              "\n",
              "       [[[ 1.68067009e-03,  1.56469796e-03,  1.56469796e-03, ...,\n",
              "           1.56469796e-03,  1.56469796e-03,  7.23931309e-04],\n",
              "         [ 1.45267581e-03,  1.34980047e-03,  1.34980047e-03, ...,\n",
              "           1.34980047e-03,  1.34980047e-03,  5.49806859e-04],\n",
              "         [ 1.45267581e-03,  1.34980047e-03,  1.34980047e-03, ...,\n",
              "           1.34980047e-03,  1.34980047e-03,  5.49806859e-04],\n",
              "         ...,\n",
              "         [ 1.45267581e-03,  1.34980047e-03,  1.34980047e-03, ...,\n",
              "           1.34980047e-03,  1.34980047e-03,  5.49806859e-04],\n",
              "         [ 1.45267581e-03,  1.34980047e-03,  1.34980047e-03, ...,\n",
              "           1.34980047e-03,  1.34980047e-03,  5.49806859e-04],\n",
              "         [ 8.00122436e-04,  3.87001988e-04,  3.87001988e-04, ...,\n",
              "           3.87001988e-04,  3.87001988e-04, -9.66779355e-05]]],\n",
              "\n",
              "\n",
              "       ...,\n",
              "\n",
              "\n",
              "       [[[ 1.68067009e-03,  1.56469796e-03,  1.56469796e-03, ...,\n",
              "           1.56469796e-03,  1.56469796e-03,  7.23931309e-04],\n",
              "         [ 1.45267581e-03,  1.34980047e-03,  1.34980047e-03, ...,\n",
              "           1.34980047e-03,  1.34980047e-03,  5.49806859e-04],\n",
              "         [ 1.45267581e-03,  1.34980047e-03,  1.34980047e-03, ...,\n",
              "           1.34980047e-03,  1.34980047e-03,  5.49806859e-04],\n",
              "         ...,\n",
              "         [ 1.45267581e-03,  1.34980047e-03,  1.34980047e-03, ...,\n",
              "           1.34980047e-03,  1.34980047e-03,  5.49806859e-04],\n",
              "         [ 1.45267581e-03,  1.34980047e-03,  1.34980047e-03, ...,\n",
              "           1.34980047e-03,  1.34980047e-03,  5.49806859e-04],\n",
              "         [ 8.00122436e-04,  3.87001988e-04,  3.87001988e-04, ...,\n",
              "           3.87001988e-04,  3.87001988e-04, -9.66779355e-05]]],\n",
              "\n",
              "\n",
              "       [[[ 1.68067009e-03,  1.56469796e-03,  1.56469796e-03, ...,\n",
              "           1.56469796e-03,  1.56469796e-03,  7.23931309e-04],\n",
              "         [ 1.45267581e-03,  1.34980047e-03,  1.34980047e-03, ...,\n",
              "           1.34980047e-03,  1.34980047e-03,  5.49806859e-04],\n",
              "         [ 1.45267581e-03,  1.34980047e-03,  1.34980047e-03, ...,\n",
              "           1.34980047e-03,  1.34980047e-03,  5.49806859e-04],\n",
              "         ...,\n",
              "         [ 1.45267581e-03,  1.34980047e-03,  1.34980047e-03, ...,\n",
              "           1.34980047e-03,  1.34980047e-03,  5.49806859e-04],\n",
              "         [ 1.45267581e-03,  1.34980047e-03,  1.34980047e-03, ...,\n",
              "           1.34980047e-03,  1.34980047e-03,  5.49806859e-04],\n",
              "         [ 8.00122436e-04,  3.87001988e-04,  3.87001988e-04, ...,\n",
              "           3.87001988e-04,  3.87001988e-04, -9.66779355e-05]]],\n",
              "\n",
              "\n",
              "       [[[ 1.68067009e-03,  1.56469796e-03,  1.56469796e-03, ...,\n",
              "           1.56469796e-03,  1.56469796e-03,  7.23931309e-04],\n",
              "         [ 1.45267581e-03,  1.34980047e-03,  1.34980047e-03, ...,\n",
              "           1.34980047e-03,  1.34980047e-03,  5.49806859e-04],\n",
              "         [ 1.45267581e-03,  1.34980047e-03,  1.34980047e-03, ...,\n",
              "           1.34980047e-03,  1.34980047e-03,  5.49806859e-04],\n",
              "         ...,\n",
              "         [ 1.45267581e-03,  1.34980047e-03,  1.34980047e-03, ...,\n",
              "           1.34980047e-03,  1.34980047e-03,  5.49806859e-04],\n",
              "         [ 1.45267581e-03,  1.34980047e-03,  1.34980047e-03, ...,\n",
              "           1.34980047e-03,  1.34980047e-03,  5.49806859e-04],\n",
              "         [ 8.00122436e-04,  3.87001988e-04,  3.87001988e-04, ...,\n",
              "           3.87001988e-04,  3.87001988e-04, -9.66779355e-05]]]])"
            ]
          },
          "execution_count": 67,
          "metadata": {},
          "output_type": "execute_result"
        }
      ]
    },
    {
      "cell_type": "code",
      "metadata": {
        "colab": {
          "base_uri": "https://localhost:8080/"
        },
        "id": "eTqE4iwfDsML",
        "outputId": "8f7355f0-3e01-43f3-c65c-853600c2bc0d"
      },
      "source": [
        "test.backward(testing).shape"
      ],
      "execution_count": null,
      "outputs": [
        {
          "data": {
            "text/plain": [
              "(20, 1, 28, 28)"
            ]
          },
          "execution_count": 68,
          "metadata": {},
          "output_type": "execute_result"
        }
      ]
    },
    {
      "cell_type": "markdown",
      "metadata": {
        "id": "vvUL4sn5n61h"
      },
      "source": [
        "# [Problem 4]"
      ]
    },
    {
      "cell_type": "code",
      "metadata": {
        "id": "R6rq9h8SnfYQ"
      },
      "source": [
        "class MaxPool2D:\n",
        "    \n",
        "    def __init__(self, P_h, P_w, stride=1, pad=0):\n",
        "        self.P_h = P_h\n",
        "        self.P_w = P_w\n",
        "        self.stride = stride\n",
        "        self.pad = pad\n",
        "        self.x = None\n",
        "        self.arg_max = None\n",
        "        \n",
        "    def im2col(self, input_data):\n",
        "        N, C, H, W = input_data.shape\n",
        "        out_h = output_heigh_calculation(X_h=H,pad_n=self.pad, F_h= self.P_h, stride=self.stride)\n",
        "        out_w = output_width_calculation(X_w=W,pad_n=self.pad, F_w=self.P_w, stride=self.stride)\n",
        "        img = np.pad(input_data, [(0,0), (0,0), (self.pad, self.pad), (self.pad, self.pad)], 'constant')\n",
        "        col = np.zeros((N, C, self.P_h, self.P_w, out_h, out_w))\n",
        "\n",
        "        for y in range(self.P_h):\n",
        "            y_max = y + self.stride*out_h\n",
        "            for x in range(self.P_w):\n",
        "                x_max = x + self.stride*out_w\n",
        "                col[:, :, y, x, :, :] = img[:, :, y:y_max:self.stride, x:x_max:self.stride]\n",
        "\n",
        "        col = col.transpose(0, 4, 5, 1, 2, 3).reshape(N*out_h*out_w, -1)\n",
        "        return col\n",
        "    \n",
        "    def col2im(self, col, X):\n",
        "        N, C, H, W = X.shape\n",
        "        out_h = output_heigh_calculation(X_h=H,pad_n=self.pad, F_h=self.P_h, stride=self.stride)\n",
        "        out_w = output_width_calculation(X_w=W,pad_n=self.pad, F_w=self.P_w, stride=self.stride)\n",
        "        col = col.reshape(N, out_h, out_w, C, self.P_h, self.P_w).transpose(0, 3, 4, 5, 1, 2)\n",
        "        img = np.zeros((N, C, H + 2*self.pad + self.stride - 1, W + 2*self.pad + self.stride - 1))\n",
        "        \n",
        "        for y in range(self.P_h):\n",
        "            y_max = y + self.stride*out_h\n",
        "            for x in range(self.P_w):\n",
        "                x_max = x + self.stride*out_w\n",
        "                img[:, :, y:y_max:self.stride, x:x_max:self.stride] += col[:, :, y, x, :, :]\n",
        "        return img[:, :, self.pad:H + self.pad, self.pad:W + self.pad]\n",
        "       \n",
        "    def forward(self, x):\n",
        "        N, C, H, W = x.shape\n",
        "        out_h = output_heigh_calculation(X_h=H,pad_n=self.pad, F_h=self.P_h, stride=self.stride)\n",
        "        out_w = output_width_calculation(X_w=W,pad_n=self.pad, F_w=self.P_w, stride=self.stride)\n",
        "        col = self.im2col(x)     \n",
        "        col = col.reshape(-1, self.P_h*self.P_w)\n",
        "        arg_max = np.argmax(col, axis=1)\n",
        "        out = np.max(col, axis=1)\n",
        "        out = out.reshape(N, out_h, out_w, C).transpose(0, 3, 1, 2)\n",
        "        self.x = x\n",
        "        self.arg_max = arg_max\n",
        "        return out\n",
        "\n",
        "    def backward(self, dout):\n",
        "        dout = dout.transpose(0, 2, 3, 1)    \n",
        "        p_size = self.P_h * self.P_w\n",
        "        dmax = np.zeros((dout.size, p_size))\n",
        "        dmax[np.arange(self.arg_max.size), self.arg_max.flatten()] = dout.flatten()\n",
        "        dmax = dmax.reshape(dout.shape + (p_size,))     \n",
        "        dcol = dmax.reshape(dmax.shape[0] * dmax.shape[1] * dmax.shape[2], -1)\n",
        "        dx = self.col2im(dcol, self.x)\n",
        "        return dx\n",
        "        self = self.optimizer.update(self)"
      ],
      "execution_count": 5,
      "outputs": []
    },
    {
      "cell_type": "code",
      "metadata": {
        "id": "AP3h0FBG0QGU"
      },
      "source": [
        "# Testing max pooling layer\n",
        "pooling_layer = MaxPool2D(P_h= 2, P_w = 2, stride= 2, pad=0)\n",
        "x = np.array([[[[ 1,  2,  3,  4],\n",
        "                [ 5,  6,  7,  8],\n",
        "                [ 9, 10, 11, 12],\n",
        "                [13, 14, 15, 16]]]])"
      ],
      "execution_count": null,
      "outputs": []
    },
    {
      "cell_type": "code",
      "metadata": {
        "id": "QaM5U5u-6XB_"
      },
      "source": [
        "out_pooling = pooling_layer.forward(x)\n",
        "backward_pooling = pooling_layer.backward(out_pooling)"
      ],
      "execution_count": null,
      "outputs": []
    },
    {
      "cell_type": "code",
      "metadata": {
        "colab": {
          "base_uri": "https://localhost:8080/"
        },
        "id": "oKcW0Mos6eS5",
        "outputId": "b1855c19-c592-41b1-9b2d-bd17fc625bc9"
      },
      "source": [
        "print(out_pooling)"
      ],
      "execution_count": null,
      "outputs": [
        {
          "name": "stdout",
          "output_type": "stream",
          "text": [
            "[[[[ 6.  8.]\n",
            "   [14. 16.]]]]\n"
          ]
        }
      ]
    },
    {
      "cell_type": "code",
      "metadata": {
        "colab": {
          "base_uri": "https://localhost:8080/"
        },
        "id": "o6H9k_2r7Gxe",
        "outputId": "14a95e04-8062-4486-b99b-3b5b3f9a74ad"
      },
      "source": [
        "print(backward_pooling)"
      ],
      "execution_count": null,
      "outputs": [
        {
          "name": "stdout",
          "output_type": "stream",
          "text": [
            "[[[[ 0.  0.  0.  0.]\n",
            "   [ 0.  6.  0.  8.]\n",
            "   [ 0.  0.  0.  0.]\n",
            "   [ 0. 14.  0. 16.]]]]\n"
          ]
        }
      ]
    },
    {
      "cell_type": "markdown",
      "metadata": {
        "id": "hMc_3Ydk7WRy"
      },
      "source": [
        "# [Problem 5]"
      ]
    },
    {
      "cell_type": "code",
      "metadata": {
        "id": "v9PiFltr7J39"
      },
      "source": [
        "class AvgPool2D:\n",
        "    \n",
        "    def __init__(self, P_h, P_w, stride=1, pad=0):\n",
        "        self.P_h = P_h\n",
        "        self.P_w = P_w\n",
        "        self.stride = stride\n",
        "        self.pad = pad\n",
        "        self.x = None\n",
        "        \n",
        "    def im2col(self, input_data):\n",
        "        N, C, H, W = input_data.shape\n",
        "        out_h = output_heigh_calculation(X_h=H,pad_n=self.pad, F_h= self.P_h, stride=self.stride)\n",
        "        out_w = output_width_calculation(X_w=W,pad_n=self.pad, F_w=self.P_w, stride=self.stride)\n",
        "        img = np.pad(input_data, [(0,0), (0,0), (self.pad, self.pad), (self.pad, self.pad)], 'constant')\n",
        "        col = np.zeros((N, C, self.P_h, self.P_w, out_h, out_w))\n",
        "\n",
        "        for y in range(self.P_h):\n",
        "            y_max = y + self.stride*out_h\n",
        "            for x in range(self.P_w):\n",
        "                x_max = x + self.stride*out_w\n",
        "                col[:, :, y, x, :, :] = img[:, :, y:y_max:self.stride, x:x_max:self.stride]\n",
        "\n",
        "        col = col.transpose(0, 4, 5, 1, 2, 3).reshape(N*out_h*out_w, -1)\n",
        "        return col\n",
        "    \n",
        "    def col2im(self, col, X):\n",
        "        N, C, H, W = X.shape\n",
        "        out_h = output_heigh_calculation(X_h=H,pad_n=self.pad, F_h=self.P_h, stride=self.stride)\n",
        "        out_w = output_width_calculation(X_w=W,pad_n=self.pad, F_w=self.P_w, stride=self.stride)\n",
        "        col = col.reshape(N, out_h, out_w, C, self.P_h, self.P_w).transpose(0, 3, 4, 5, 1, 2)\n",
        "        img = np.zeros((N, C, H + 2*self.pad + self.stride - 1, W + 2*self.pad + self.stride - 1))\n",
        "        \n",
        "        for y in range(self.P_h):\n",
        "            y_max = y + self.stride*out_h\n",
        "            for x in range(self.P_w):\n",
        "                x_max = x + self.stride*out_w\n",
        "                img[:, :, y:y_max:self.stride, x:x_max:self.stride] += col[:, :, y, x, :, :]\n",
        "        return img[:, :, self.pad:H + self.pad, self.pad:W + self.pad]\n",
        "       \n",
        "    def forward(self, x):\n",
        "        N, C, H, W = x.shape\n",
        "        out_h = output_heigh_calculation(X_h=H,pad_n=self.pad, F_h=self.P_h, stride=self.stride)\n",
        "        out_w = output_width_calculation(X_w=W,pad_n=self.pad, F_w=self.P_w, stride=self.stride)\n",
        "        col = self.im2col(x)     \n",
        "        col = col.reshape(-1, self.P_h*self.P_w)\n",
        "        out = np.average(col, axis=1)\n",
        "        out = out.reshape(N, out_h, out_w, C).transpose(0, 3, 1, 2)\n",
        "        self.x = x\n",
        "        return out\n",
        "\n",
        "    def backward(self, dout):\n",
        "        dout = dout.transpose(0, 2, 3, 1)    \n",
        "        p_size = self.P_h * self.P_w\n",
        "        dmax = np.full((dout.size, p_size), 1 / p_size)\n",
        "        dmax = dmax.reshape(dout.shape + (p_size,))     \n",
        "        dcol = dmax.reshape(dmax.shape[0] * dmax.shape[1] * dmax.shape[2], -1)\n",
        "        dx = self.col2im(dcol, self.x)\n",
        "        return dx\n",
        "        self = self.optimizer.update(self)"
      ],
      "execution_count": null,
      "outputs": []
    },
    {
      "cell_type": "code",
      "metadata": {
        "id": "fP_n-UXY8G3v"
      },
      "source": [
        "# Testing average pooling layer\n",
        "pooling_layer = AvgPool2D(P_h= 2, P_w = 2, stride= 2, pad=0)\n",
        "x = np.array([[[[ 1,  2,  3,  4],\n",
        "                [ 5,  6,  7,  8],\n",
        "                [ 9, 10, 11, 12],\n",
        "                [13, 14, 15, 16]]]])"
      ],
      "execution_count": null,
      "outputs": []
    },
    {
      "cell_type": "code",
      "metadata": {
        "id": "N4eYcZvA8Pom"
      },
      "source": [
        "out_pooling = pooling_layer.forward(x)\n",
        "backward_pooling = pooling_layer.backward(out_pooling)"
      ],
      "execution_count": null,
      "outputs": []
    },
    {
      "cell_type": "code",
      "metadata": {
        "colab": {
          "base_uri": "https://localhost:8080/"
        },
        "id": "4frGPNqY8SE5",
        "outputId": "0d6a7da7-90a3-496a-f33e-9dff73d93781"
      },
      "source": [
        "print(out_pooling)"
      ],
      "execution_count": null,
      "outputs": [
        {
          "name": "stdout",
          "output_type": "stream",
          "text": [
            "[[[[ 3.5  5.5]\n",
            "   [11.5 13.5]]]]\n"
          ]
        }
      ]
    },
    {
      "cell_type": "code",
      "metadata": {
        "colab": {
          "base_uri": "https://localhost:8080/"
        },
        "id": "VrXHbdLf_I8p",
        "outputId": "d1ef4f96-2d5f-41b9-ce8c-47cfa5818a86"
      },
      "source": [
        "print(backward_pooling)"
      ],
      "execution_count": null,
      "outputs": [
        {
          "name": "stdout",
          "output_type": "stream",
          "text": [
            "[[[[0.25 0.25 0.25 0.25]\n",
            "   [0.25 0.25 0.25 0.25]\n",
            "   [0.25 0.25 0.25 0.25]\n",
            "   [0.25 0.25 0.25 0.25]]]]\n"
          ]
        }
      ]
    },
    {
      "cell_type": "markdown",
      "metadata": {
        "id": "dI8bjLzf_49B"
      },
      "source": [
        "# [Problem 6]"
      ]
    },
    {
      "cell_type": "code",
      "metadata": {
        "id": "2BnyD9MZ_3IM"
      },
      "source": [
        "class Flatten:\n",
        "    \n",
        "    def forward(self, X):\n",
        "        N, C, H, W = X.shape\n",
        "        out = X.reshape(N, -1)        \n",
        "        self.X = X        \n",
        "        return out\n",
        "    \n",
        "    def backward(self, dout):\n",
        "        dx = dout.reshape(self.X.shape)      \n",
        "        return dx"
      ],
      "execution_count": 13,
      "outputs": []
    },
    {
      "cell_type": "code",
      "metadata": {
        "id": "O3K0gxdYAMak"
      },
      "source": [
        "smoothing = Flatten()\n",
        "x = np.array([[[[ 1,  2,  3,  4],\n",
        "                [ 5,  6,  7,  8],\n",
        "                [ 9, 10, 11, 12],\n",
        "                [13, 14, 15, 16]]]])"
      ],
      "execution_count": null,
      "outputs": []
    },
    {
      "cell_type": "code",
      "metadata": {
        "id": "fymup0f_Afn1"
      },
      "source": [
        "smoothing_forward = smoothing.forward(x)\n",
        "smoothing_backward = smoothing.backward(smoothing_forward)"
      ],
      "execution_count": null,
      "outputs": []
    },
    {
      "cell_type": "code",
      "metadata": {
        "colab": {
          "base_uri": "https://localhost:8080/"
        },
        "id": "-5uqS6FOApdg",
        "outputId": "a0b44e12-5ecf-442c-bd64-bd468862fd43"
      },
      "source": [
        "print(\"Initial shape: \", x.shape)\n",
        "print(\"Forward shape: \", smoothing_forward.shape)\n",
        "print(\"Backward shape: \", smoothing_backward.shape)"
      ],
      "execution_count": null,
      "outputs": [
        {
          "name": "stdout",
          "output_type": "stream",
          "text": [
            "Initial shape:  (1, 1, 4, 4)\n",
            "Forward shape:  (1, 16)\n",
            "Backward shape:  (1, 1, 4, 4)\n"
          ]
        }
      ]
    },
    {
      "cell_type": "markdown",
      "metadata": {
        "id": "TJ97l25oBC1y"
      },
      "source": [
        "# [Problem 7]"
      ]
    },
    {
      "cell_type": "markdown",
      "metadata": {
        "id": "H4eLYPoxB-R6"
      },
      "source": [
        "**Define some class needed**"
      ]
    },
    {
      "cell_type": "code",
      "metadata": {
        "id": "RRdDXwJjA3ob"
      },
      "source": [
        "# Fully-connected layer\n",
        "class FC:\n",
        "\n",
        "    def __init__(self, n_nodes1, n_nodes2, initializer, optimizer):\n",
        "        self.n_nodes1 = n_nodes1\n",
        "        self.n_nodes2 = n_nodes2\n",
        "        self.W = initializer.W(self.n_nodes1, self.n_nodes2)\n",
        "        self.B = initializer.B(self.n_nodes2)\n",
        "        self.optimizer = optimizer\n",
        "        self.HW = 0\n",
        "        self.HB = 0\n",
        "        \n",
        "    def forward(self, X): \n",
        "        self.Z = X\n",
        "        self.A = X @ self.W + self.B\n",
        "        return self.A\n",
        "    \n",
        "    def backward(self, dA):\n",
        "        self.dB = np.sum(dA, axis=0)\n",
        "        self.dW = self.Z.T @ dA\n",
        "        self.dZ = dA @ self.W.T\n",
        "        self = self.optimizer.update(self)\n",
        "        return self.dZ"
      ],
      "execution_count": 6,
      "outputs": []
    },
    {
      "cell_type": "code",
      "metadata": {
        "id": "AXTJ2lhOCEt9"
      },
      "source": [
        "# Optimizer and Activater\n",
        "class Sigmoid:\n",
        "    \n",
        "    def forward(self, A):\n",
        "        self.A = A\n",
        "        return self.sigmoid(A)\n",
        "    \n",
        "    def backward(self, dZ):\n",
        "        _sig = self.sigmoid(self.A)\n",
        "        return dZ * (1 - _sig)*_sig\n",
        "    \n",
        "    def sigmoid(self, X):\n",
        "        return 1 / (1 + np.exp(-X))\n",
        "\n",
        "class Tanh:\n",
        "    \n",
        "    def forward(self, A):\n",
        "        self.A = A\n",
        "        return np.tanh(A)\n",
        "    \n",
        "    def backward(self, dZ):\n",
        "        return dZ * (1 - (np.tanh(self.A))**2)\n",
        "\n",
        "class Softmax:\n",
        "    \n",
        "    def forward(self, A): \n",
        "        Z = np.exp(A) / np.sum(np.exp(A), axis=1).reshape(-1, 1)\n",
        "        return Z\n",
        "        \n",
        "    def backward(self, Z, y):\n",
        "        dA = Z - y\n",
        "        loss = - np.sum(y * np.log(Z)) / len(y)\n",
        "        return dA, loss\n",
        "\n",
        "class AdaGrad:\n",
        "\n",
        "    def __init__(self, lr):\n",
        "        self.lr = lr \n",
        "    \n",
        "    def update(self, layer):\n",
        "        layer.HW += layer.dW * layer.dW\n",
        "        layer.HB += layer.dB * layer.dB\n",
        "        delta = 1e-7 \n",
        "        layer.W -= self.lr * layer.dW / (np.sqrt(layer.HW) + delta) / len(layer.Z)\n",
        "        layer.B -= self.lr * layer.dB / (np.sqrt(layer.HB) + delta) / len(layer.Z)\n",
        "        return layer\n",
        "\n",
        "class HeInitializer:\n",
        "\n",
        "    def __init__(self, sigma):\n",
        "        _ = sigma\n",
        "        \n",
        "    def W(self, n_nodes1, n_nodes2):\n",
        "        self.sigma = np.sqrt(2 / n_nodes1)\n",
        "        W = self.sigma * np.random.randn(n_nodes1, n_nodes2)\n",
        "        return W\n",
        "    \n",
        "    def B(self, n_nodes2):\n",
        "        B = self.sigma * np.random.randn(1, n_nodes2)\n",
        "        return B\n",
        "\n",
        "class ReLU:\n",
        "\n",
        "    def forward(self, A):\n",
        "        self.A = A\n",
        "        Z = np.maximum(0, A)\n",
        "        return Z\n",
        "    \n",
        "    def backward(self, dZ):\n",
        "        dA = dZ * np.where(self.A > 0, 1, 0)\n",
        "        return dA"
      ],
      "execution_count": 7,
      "outputs": []
    },
    {
      "cell_type": "code",
      "metadata": {
        "id": "f5GX6z5LKIKb"
      },
      "source": [
        "def col2im(col, input_shape, filter_h, filter_w, stride=1, pad=0):\n",
        "    N, C, H, W = input_shape\n",
        "    out_h = (H + 2*pad - filter_h)//stride + 1\n",
        "    out_w = (W + 2*pad - filter_w)//stride + 1\n",
        "    col = col.reshape(N, out_h, out_w, C, filter_h, filter_w).transpose(0, 3, 4, 5, 1, 2)\n",
        "\n",
        "    img = np.zeros((N, C, H + 2*pad + stride - 1, W + 2*pad + stride - 1))\n",
        "    for y in range(filter_h):\n",
        "        y_max = y + stride*out_h\n",
        "        for x in range(filter_w):\n",
        "            x_max = x + stride*out_w\n",
        "            img[:, :, y:y_max:stride, x:x_max:stride] += col[:, :, y, x, :, :]\n",
        "\n",
        "    return img[:, :, pad:H + pad, pad:W + pad]\n",
        "\n",
        "def im2col(input_data, filter_h, filter_w, stride=1, pad=0):\n",
        "    N, C, H, W = input_data.shape\n",
        "    out_h = output_heigh_calculation(X_h=H,pad_n=pad, F_h=filter_h, stride=stride)\n",
        "    out_w = output_width_calculation(X_w=W,pad_n=pad, F_w=filter_w, stride=stride)\n",
        "    img = np.pad(input_data, [(0,0), (0,0), (pad, pad), (pad, pad)], 'constant')\n",
        "    col = np.zeros((N, C, filter_h, filter_w, out_h, out_w))\n",
        "\n",
        "    for y in range(filter_h):\n",
        "        y_max = y + stride*out_h\n",
        "        for x in range(filter_w):\n",
        "            x_max = x + stride*out_w\n",
        "            col[:, :, y, x, :, :] = img[:, :, y:y_max:stride, x:x_max:stride]\n",
        "\n",
        "    col = col.transpose(0, 4, 5, 1, 2, 3).reshape(N*out_h*out_w, -1)\n",
        "    return col\n",
        "\n",
        "class MaxPool2D2:\n",
        "\n",
        "    def __init__(self, P_h, P_w, pad=0):\n",
        "        self.P_h = P_h\n",
        "        self.P_w = P_w\n",
        "        self.stride = P_h\n",
        "        self.pad = pad\n",
        "        \n",
        "        self.x = None\n",
        "        self.arg_max = None\n",
        "\n",
        "    def forward(self, x):\n",
        "        N, C, H, W = x.shape\n",
        "        out_h = int(1 + (H - self.P_h) / self.stride)\n",
        "        out_w = int(1 + (W - self.P_w) / self.stride)\n",
        "        col = im2col(x, self.P_h, self.P_w, self.stride, self.pad)\n",
        "        col = col.reshape(-1, self.P_h*self.P_w)\n",
        "        arg_max = np.argmax(col, axis=1)\n",
        "        out = np.max(col, axis=1)\n",
        "        out = out.reshape(N, out_h, out_w, C).transpose(0, 3, 1, 2)\n",
        "        self.x = x\n",
        "        self.arg_max = arg_max\n",
        "        return out\n",
        "\n",
        "    def backward(self, dout):\n",
        "        dout = dout.transpose(0, 2, 3, 1)    \n",
        "        pool_size = self.P_h * self.P_w\n",
        "        dmax = np.zeros((dout.size, pool_size))\n",
        "        dmax[np.arange(self.arg_max.size), self.arg_max.flatten()] = dout.flatten()\n",
        "        dmax = dmax.reshape(dout.shape + (pool_size,))       \n",
        "        dcol = dmax.reshape(dmax.shape[0] * dmax.shape[1] * dmax.shape[2], -1)\n",
        "        dx = col2im(dcol, self.x.shape, self.P_h, self.P_w, self.stride, self.pad)    \n",
        "        return dx"
      ],
      "execution_count": 8,
      "outputs": []
    },
    {
      "cell_type": "code",
      "metadata": {
        "id": "Cr4ZlnCCCjFO"
      },
      "source": [
        "class Scratch2dCNNClassifier:\n",
        "    \n",
        "    \"\"\"\n",
        "    2-layer class for 2D convolutional networks \n",
        "    \"\"\"\n",
        "\n",
        "    def __init__(self, FN=20, FH=7, FW=7, stride=1, pad=0, epoch=1, optimizer=AdaGrad, initializer=HeInitializer, activater=ReLU, verbose=False,):\n",
        "        self.verbose = verbose\n",
        "        self.batch_size = 60 \n",
        "        self.n_output = 10 \n",
        "        self.sigma = 0.02 \n",
        "        self.lr = 0.05 \n",
        "        self.epoch = epoch \n",
        "        self.optimizer = optimizer \n",
        "        self.initializer = initializer \n",
        "        self.activater = activater \n",
        "        self.FN = FN \n",
        "        self.C = 1 \n",
        "        self.FH = FH \n",
        "        self.FW = FW \n",
        "        self.pool_h = 2 \n",
        "        self.pool_w = 2 \n",
        "        self.pad = pad \n",
        "        self.stride = stride \n",
        "    \n",
        "    def fit(self, X, y, X_val=None, y_val=None):\n",
        "        self.loss_train = [] \n",
        "        self.loss_val = []   \n",
        "        out_h, out_w = self.out_size(28, 28, self.pad, self.FH, self.FW, self.stride)\n",
        "        out_h, out_w = self.out_size(out_h, out_w, 0, self.pool_h, self.pool_w, self.pool_h)\n",
        "        fc_nodes = self.FN * out_h * out_w \n",
        "        optimizer = self.optimizer(self.lr)    \n",
        "        w = self.sigma * np.random.randn(self.FN, self.C, self.FH, self.FW)\n",
        "        b = self.sigma * np.random.randn(self.FN,)\n",
        "        self.cv= SimpleConv2d(self.FN, self.FH, self.FW, self.stride, self.pad, initializer=SimpleInitializer())\n",
        "        self.activation_cv = self.activater()\n",
        "        self.pl = MaxPool2D2(self.pool_h, self.pool_w)\n",
        "        self.fl = Flatten()\n",
        "        self.FC = FC(fc_nodes, self.n_output, self.initializer(self.sigma), optimizer)\n",
        "        self.activation_fc = Softmax()\n",
        "\n",
        "        for i in range(self.epoch):\n",
        "            get_mini_batch = GetMiniBatch(X, y, batch_size=self.batch_size, seed=i)\n",
        "            for mini_X, mini_y in get_mini_batch:\n",
        "                \n",
        "                A1 = self.cv.forward(mini_X)\n",
        "                Z1 = self.activation_cv.forward(A1)\n",
        "                P1 = self.pl.forward(Z1)\n",
        "                F1 = self.fl.forward(P1)\n",
        "                A2 = self.FC.forward(F1)\n",
        "                Z2 = self.activation_fc.forward(A2)\n",
        "\n",
        "                dA2, loss = self.activation_fc.backward(Z2, mini_y) \n",
        "                dZ2 = self.FC.backward(dA2)\n",
        "                dF1 = self.fl.backward(dZ2)\n",
        "                dP1 = self.pl.backward(dF1)\n",
        "                dA1 = self.activation_cv.backward(dP1)\n",
        "                dZ1 = self.cv.backward(dA1)\n",
        "\n",
        "            if self.verbose:\n",
        "                A1 = self.cv.forward(X)\n",
        "                Z1 = self.activation_cv.forward(A1)\n",
        "                P1 = self.pl.forward(Z1)\n",
        "                F1 = self.fl.forward(P1)\n",
        "                A2 = self.FC.forward(F1)\n",
        "                Z2 = self.activation_fc.forward(A2)  \n",
        "                self.loss_train.append(self.activation_fc.backward(Z2, y)[1])\n",
        "                print(\"Epoch {}, train_loss : {}\".format(i , self.loss_train[-1]))\n",
        "                \n",
        "                if X_val is not None:\n",
        "                    A1 = self.cv.forward(X_val)\n",
        "                    Z1 = self.activation_cv.forward(A1)\n",
        "                    P1 = self.pl.forward(Z1)\n",
        "                    F1 = self.fl.forward(P1)\n",
        "                    A2 = self.FC.forward(F1)\n",
        "                    Z2 = self.activation_fc.forward(A2)         \n",
        "                    self.loss_val.append(self.activation_fc.backward(Z2, y_val)[1])\n",
        "                    print(\"Epoch {}, validation_loss : {}\".format(i , self.loss_val[-1]))\n",
        "                    \n",
        "    def out_size(self, H, W, P, FH, FW, S):\n",
        "        out_h = (H + 2 * P - FH) // S + 1\n",
        "        out_w = (W + 2 * P - FW) // S + 1\n",
        "        return out_h, out_w\n",
        "    \n",
        "    def predict(self, X):\n",
        "        A1 = self.cv.forward(X)\n",
        "        Z1 = self.activation_cv.forward(A1)\n",
        "        P1 = self.pl.forward(Z1)\n",
        "        F1 = self.fl.forward(P1)\n",
        "        A2 = self.FC.forward(F1)\n",
        "        Z2 = self.activation_fc.forward(A2)\n",
        "        return np.argmax(Z2, axis=1)"
      ],
      "execution_count": 9,
      "outputs": []
    },
    {
      "cell_type": "markdown",
      "metadata": {
        "id": "MATN-JfbEBhu"
      },
      "source": [
        "**Training and estimation**"
      ]
    },
    {
      "cell_type": "code",
      "metadata": {
        "id": "GqLTQIUfE770"
      },
      "source": [
        "from keras.datasets import mnist\n",
        "import numpy as np\n",
        "from sklearn.preprocessing import OneHotEncoder\n",
        "from sklearn.model_selection import train_test_split\n",
        "(X_train2, y_train2), (X_test2, y_test2) = mnist.load_data()\n",
        "\n",
        "X_train2 = X_train2.astype(np.float)\n",
        "X_test2 = X_test2.astype(np.float)\n",
        "X_train2 /= 255 \n",
        "X_test2 /= 255\n",
        "\n",
        "X_train2 = X_train2[:, np.newaxis, :, :] \n",
        "X_test2 = X_test2[:, np.newaxis, :, :]\n",
        "\n",
        "X_train2, X_val2, y_train2, y_val2 = train_test_split(X_train2, y_train2, test_size=0.2)\n",
        "\n",
        "enc = OneHotEncoder(handle_unknown='ignore', sparse=False)\n",
        "y_train_one_hot2 = enc.fit_transform(y_train2[:, np.newaxis])\n",
        "y_test_one_hot2 = enc.transform(y_val2[:, np.newaxis])"
      ],
      "execution_count": 10,
      "outputs": []
    },
    {
      "cell_type": "code",
      "metadata": {
        "colab": {
          "base_uri": "https://localhost:8080/"
        },
        "id": "K7WDWkKsD2RJ",
        "outputId": "b9b3bae5-fc54-4659-e2fe-c750b6fa9edc"
      },
      "source": [
        "model = Scratch2dCNNClassifier(FN=5, FH=7, FW=7, stride=1, pad=3, epoch = 10, verbose=True)\n",
        "model.fit(X_train2[:5000], y_train_one_hot2[:5000] )"
      ],
      "execution_count": 16,
      "outputs": [
        {
          "output_type": "stream",
          "name": "stdout",
          "text": [
            "Epoch 0, train_loss : 2.2482775361933083\n",
            "Epoch 1, train_loss : 2.224434594743635\n",
            "Epoch 2, train_loss : 2.2062941710676593\n",
            "Epoch 3, train_loss : 2.1911365497947934\n",
            "Epoch 4, train_loss : 2.1779289259674113\n",
            "Epoch 5, train_loss : 2.166089286540588\n",
            "Epoch 6, train_loss : 2.155289140733587\n",
            "Epoch 7, train_loss : 2.1452825891880263\n",
            "Epoch 8, train_loss : 2.1359295188942573\n",
            "Epoch 9, train_loss : 2.127129072168834\n"
          ]
        }
      ]
    },
    {
      "cell_type": "code",
      "metadata": {
        "colab": {
          "base_uri": "https://localhost:8080/"
        },
        "id": "mVmZR-ijy0hM",
        "outputId": "388cfb94-206b-4eac-db4a-2ae4a043ede4"
      },
      "source": [
        "from sklearn.metrics import accuracy_score\n",
        "\n",
        "training_pred_default = model.predict(X=X_train2[:5000])\n",
        "test_pred_default = model.predict(X=X_test2[:5000])\n",
        "\n",
        "print(\"Accuracy score for training set with default model: {}\".format(accuracy_score(y_true=y_train2[:5000], y_pred=training_pred_default)))\n",
        "print(\"Accuracy score for testing set with default model: {}\".format(accuracy_score(y_true=y_test2[:5000],y_pred=test_pred_default)))"
      ],
      "execution_count": 20,
      "outputs": [
        {
          "output_type": "stream",
          "name": "stdout",
          "text": [
            "Accuracy score for training set with default model: 0.6518\n",
            "Accuracy score for testing set with default model: 0.6184\n"
          ]
        }
      ]
    },
    {
      "cell_type": "markdown",
      "metadata": {
        "id": "GSwAUgjSLUhw"
      },
      "source": [
        "# [Problem 10]"
      ]
    },
    {
      "cell_type": "code",
      "metadata": {
        "id": "HBKOHFOPEUHG"
      },
      "source": [
        "def output_size(H, W, P, FH, FW, S):\n",
        "    out_h = (H + 2 * P - FH) // S + 1\n",
        "    out_w = (W + 2 * P - FW) // S + 1\n",
        "    return out_h, out_w\n",
        "\n",
        "def number_of_parameters(FH, FW, C, FN):\n",
        "    return FH*FW*C*FN + FN"
      ],
      "execution_count": 21,
      "outputs": []
    },
    {
      "cell_type": "code",
      "metadata": {
        "id": "i9CuOieSMhCi",
        "colab": {
          "base_uri": "https://localhost:8080/"
        },
        "outputId": "0330955e-63d6-42c3-8f3a-99bbf216dca9"
      },
      "source": [
        "\"\"\"\n",
        "Input size : 144 x 144, 3 channels\n",
        "Filter size: 3 x 3, 6 channels\n",
        "Stride : 1\n",
        "Padding: none\n",
        "\"\"\"\n",
        "print(output_size(144, 144, 0, 3, 3, 1))\n",
        "print(number_of_parameters(3, 3, 3, 6))"
      ],
      "execution_count": 22,
      "outputs": [
        {
          "output_type": "stream",
          "name": "stdout",
          "text": [
            "(142, 142)\n",
            "168\n"
          ]
        }
      ]
    },
    {
      "cell_type": "code",
      "metadata": {
        "colab": {
          "base_uri": "https://localhost:8080/"
        },
        "id": "MwK-5W5X4XfY",
        "outputId": "80c2f45b-8de5-4cd1-cd1e-9ff63b5e1a7b"
      },
      "source": [
        "\"\"\"\n",
        "Input size : 60x60, 24 channels\n",
        "Filter size: 3 x 3, 48 channels\n",
        "Stride : 1\n",
        "Padding: none\n",
        "\"\"\"\n",
        "print(output_size(60, 60, 0, 3, 3, 1))\n",
        "print(number_of_parameters(3, 3, 24, 48))"
      ],
      "execution_count": 23,
      "outputs": [
        {
          "output_type": "stream",
          "name": "stdout",
          "text": [
            "(58, 58)\n",
            "10416\n"
          ]
        }
      ]
    },
    {
      "cell_type": "code",
      "metadata": {
        "colab": {
          "base_uri": "https://localhost:8080/"
        },
        "id": "W_kbG3El44yy",
        "outputId": "fd68bd52-07b4-4332-9f9b-a0e288954aaa"
      },
      "source": [
        "\"\"\"\n",
        "Input size : 20x20, 10 channels\n",
        "Filter size: 3 x 3, 20 channels\n",
        "Stride: 2\n",
        "Padding: none\n",
        "\"\"\"\n",
        "print(output_size(20, 20, 0, 3, 3, 2))\n",
        "print(number_of_parameters(3, 3, 10, 20))"
      ],
      "execution_count": 24,
      "outputs": [
        {
          "output_type": "stream",
          "name": "stdout",
          "text": [
            "(9, 9)\n",
            "1820\n"
          ]
        }
      ]
    }
  ]
}