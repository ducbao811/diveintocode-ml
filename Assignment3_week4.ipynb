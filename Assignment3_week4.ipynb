{
 "cells": [
  {
   "cell_type": "code",
   "execution_count": 1,
   "id": "transparent-equality",
   "metadata": {},
   "outputs": [
    {
     "name": "stdout",
     "output_type": "stream",
     "text": [
      "Mean : [4.86 3.31 1.45 0.22]\n",
      "Variance : [0.0764 0.0849 0.0105 0.0056]\n"
     ]
    }
   ],
   "source": [
    "import numpy as np\n",
    "from sklearn.preprocessing import StandardScaler\n",
    "from sklearn.datasets import load_iris\n",
    "data = load_iris()\n",
    "X = data.data[:10]\n",
    "scaler = StandardScaler()\n",
    "scaler.fit(X)\n",
    "print(\"Mean :\", scaler.mean_)\n",
    "print(\"Variance :\", scaler.var_)\n",
    "X_std = scaler.transform(X)"
   ]
  },
  {
   "cell_type": "markdown",
   "id": "weighted-parking",
   "metadata": {},
   "source": [
    "# Problem 1"
   ]
  },
  {
   "cell_type": "markdown",
   "id": "reserved-duration",
   "metadata": {},
   "source": [
    "In the previous assignment, I have used a lot of Python class in all the library. In <code>panda</code>, <code>Series</code> and <code>Dataframe</code> are two of the classes used to create panda objects. In <code>matplotlib</code>, there is class named <code>BoundaryNorm</code> in <code>colors</code> module which is generate a colormap index based on discrete intervals. In <code>scikit-learn</code>, <code>model_selection</code> module has a class named <code>KFold</code> to create a K-Folds cross-validator."
   ]
  },
  {
   "cell_type": "markdown",
   "id": "toxic-somalia",
   "metadata": {},
   "source": [
    "# Problem 2"
   ]
  },
  {
   "cell_type": "markdown",
   "id": "nervous-forest",
   "metadata": {},
   "source": [
    "In my solution to all the before assignments, I have used a lot of built-in class of several modules and libraries. Below are few of methods and variables I have used so far:\n",
    " - In a <code>Dataframe</code> object:\n",
    "     - <code>head()</code>: view n-first row\n",
    "     - <code>drop()</code>: drop specified labels from rows or columns\n",
    "     - <code>corr()</code>: compute pairwise correlation of columns, excluding null values.\n",
    "     - <code>count()</code>: count non-null cells for each column or row.\n",
    "     - <code>describe()</code>: generate descriptive statistics.\n",
    " - In a <code>Series</code> object, there are some instance variables:\n",
    "     - <code>index</code>: the index (axis labels) of the <code>Series</code>.\n",
    "     - <code>dtype</code>: Return the dtype object of the underlying data.\n",
    "     - <code>shape</code>: Return a tuple of the shape of the underlying data.\n",
    "     - <code>name</code>: Return the name of the </code>Series</code>.\n",
    "     - <code>size</code>: Return the number of elements in the underlying data."
   ]
  },
  {
   "cell_type": "code",
   "execution_count": 2,
   "id": "distant-consent",
   "metadata": {},
   "outputs": [],
   "source": [
    "X_std = scaler.transform(X)"
   ]
  },
  {
   "cell_type": "markdown",
   "id": "domestic-possession",
   "metadata": {},
   "source": [
    "# Problem 3"
   ]
  },
  {
   "cell_type": "code",
   "execution_count": 3,
   "id": "thousand-marks",
   "metadata": {},
   "outputs": [],
   "source": [
    "class ScratchStandardScaler():\n",
    "    \"\"\"\n",
    "    標準化のためのクラス\n",
    "    Attributes\n",
    "    ----------\n",
    "    mean_ : 次の形のndarray, shape(n_features,)\n",
    "        平均\n",
    "    var_ : 次の形のndarray, shape(n_features,)\n",
    "        分散\n",
    "    \"\"\"\n",
    "    def fit(self, X):\n",
    "        \"\"\"\n",
    "        標準化のために平均と標準偏差を計算する。\n",
    "        Parameters\n",
    "        ----------\n",
    "        X : 次の形のndarray, shape (n_samples, n_features)\n",
    "            訓練データ\n",
    "        \"\"\"\n",
    "        self.mean_ = np.mean(X, axis=0, dtype=np.float32)\n",
    "        self.var_ = np.var(X,axis=0,dtype=np.float32)\n",
    "    def transform(self, X):\n",
    "        \"\"\"\n",
    "        fitで求めた値を使い標準化を行う。\n",
    "        Parameters\n",
    "        ----------\n",
    "        X : 次の形のndarray, shape (n_samples, n_features)\n",
    "            特徴量\n",
    "        Returns\n",
    "        ----------\n",
    "        X_scaled : 次の形のndarray, shape (n_samples, n_features)\n",
    "            標準化された特緒量\n",
    "        \"\"\"\n",
    "        X_scaled = (X - self.mean_) / np.sqrt(self.var_)\n",
    "        return X_scaled"
   ]
  },
  {
   "cell_type": "code",
   "execution_count": 4,
   "id": "written-approval",
   "metadata": {},
   "outputs": [
    {
     "name": "stdout",
     "output_type": "stream",
     "text": [
      "Mean : [4.86      3.31      1.4499999 0.22     ]\n",
      "Variance : [0.0764     0.08490001 0.0105     0.0056    ]\n",
      "[[ 0.86828909  0.65207849 -0.48794936 -0.26726123]\n",
      " [ 0.14471445 -1.06391702 -0.48794936 -0.26726123]\n",
      " [-0.5788602  -0.37751882 -1.46384947 -0.26726123]\n",
      " [-0.94064752 -0.72071792  0.48795075 -0.26726123]\n",
      " [ 0.50650177  0.99527759 -0.48794936 -0.26726123]\n",
      " [ 1.95365106  2.02487489  2.43975097  2.40535121]\n",
      " [-0.94064752  0.30887939 -0.48794936  1.06904499]\n",
      " [ 0.50650177  0.30887939  0.48795075 -0.26726123]\n",
      " [-1.66422217 -1.40711612 -0.48794936 -0.26726123]\n",
      " [ 0.14471445 -0.72071792  0.48795075 -1.60356745]]\n"
     ]
    }
   ],
   "source": [
    "# Driver code\n",
    "import numpy as np\n",
    "from sklearn.datasets import load_iris\n",
    "data = load_iris()\n",
    "X = data.data[:10]\n",
    "scratch_scaler = ScratchStandardScaler()\n",
    "scratch_scaler.fit(X)\n",
    "print(\"Mean : {}\".format(scratch_scaler.mean_))\n",
    "print(\"Variance : {}\".format(scratch_scaler.var_))\n",
    "X_std = scratch_scaler.transform(X)\n",
    "print(X_std)"
   ]
  },
  {
   "cell_type": "markdown",
   "id": "passive-probe",
   "metadata": {},
   "source": [
    "# Problem 4"
   ]
  },
  {
   "cell_type": "code",
   "execution_count": 15,
   "id": "governing-eclipse",
   "metadata": {},
   "outputs": [
    {
     "name": "stdout",
     "output_type": "stream",
     "text": [
      "Value has been set: 1.233\n",
      "value : 1.233\n",
      "value after adding 3: 4.2330000000000005\n",
      "value after subtracting 4: 0.23300000000000054\n",
      "value after multiplying 2: 0.4660000000000011\n",
      "value after dividing 5: 0.09320000000000021\n"
     ]
    }
   ],
   "source": [
    "class ExampleClass():\n",
    "    \"\"\"\n",
    "    説明用の簡単なクラス\n",
    "    Parameters\n",
    "    ----------\n",
    "    value : float or int\n",
    "        初期値\n",
    "    Attributes\n",
    "    ----------\n",
    "    value : float or int\n",
    "        計算結果\n",
    "    \"\"\"\n",
    "    def __init__(self, value):\n",
    "        if isinstance(value,int) or isinstance(value,float):\n",
    "            self.value = value\n",
    "            print(\"Value has been set: {}\".format(self.value))\n",
    "        else:\n",
    "            raise ValueError('Input should be a numeric value !')\n",
    "    def add(self, value2):\n",
    "        \"\"\"\n",
    "        受け取った引数をself.valueに加える\n",
    "        \"\"\"\n",
    "        self.value += value2\n",
    "    \n",
    "    def sub(self, value2):\n",
    "        \"\"\"\n",
    "        Subtract a value from self.value\n",
    "        \"\"\"\n",
    "        self.value -= value2\n",
    "        \n",
    "    def mul(self, value2):\n",
    "        \"\"\"\n",
    "        Multiply self.value with value2\n",
    "        \"\"\"\n",
    "        self.value *= value2\n",
    "        \n",
    "    def div(self, value2):\n",
    "        \"\"\"\n",
    "        Divide self.value with value2\n",
    "        \"\"\"\n",
    "        self.value /= value2\n",
    "example = ExampleClass(1.233)\n",
    "print(\"value : {}\".format(example.value))\n",
    "example.add(3)\n",
    "print(\"value after adding 3: {}\".format(example.value))\n",
    "example.sub(4)\n",
    "print(\"value after subtracting 4: {}\".format(example.value))\n",
    "example.mul(2)\n",
    "print(\"value after multiplying 2: {}\".format(example.value))\n",
    "example.div(5)\n",
    "print(\"value after dividing 5: {}\".format(example.value))"
   ]
  },
  {
   "cell_type": "code",
   "execution_count": 16,
   "id": "senior-gabriel",
   "metadata": {},
   "outputs": [
    {
     "ename": "ValueError",
     "evalue": "Input should be a numeric value !",
     "output_type": "error",
     "traceback": [
      "\u001b[0;31m---------------------------------------------------------------------------\u001b[0m",
      "\u001b[0;31mValueError\u001b[0m                                Traceback (most recent call last)",
      "\u001b[0;32m<ipython-input-16-1376a02a0f3a>\u001b[0m in \u001b[0;36m<module>\u001b[0;34m\u001b[0m\n\u001b[0;32m----> 1\u001b[0;31m \u001b[0mexample1\u001b[0m \u001b[0;34m=\u001b[0m \u001b[0mExampleClass\u001b[0m\u001b[0;34m(\u001b[0m\u001b[0;34m's'\u001b[0m\u001b[0;34m)\u001b[0m\u001b[0;34m\u001b[0m\u001b[0;34m\u001b[0m\u001b[0m\n\u001b[0m",
      "\u001b[0;32m<ipython-input-15-1a792075616e>\u001b[0m in \u001b[0;36m__init__\u001b[0;34m(self, value)\u001b[0m\n\u001b[1;32m     16\u001b[0m             \u001b[0mprint\u001b[0m\u001b[0;34m(\u001b[0m\u001b[0;34m\"Value has been set: {}\"\u001b[0m\u001b[0;34m.\u001b[0m\u001b[0mformat\u001b[0m\u001b[0;34m(\u001b[0m\u001b[0mself\u001b[0m\u001b[0;34m.\u001b[0m\u001b[0mvalue\u001b[0m\u001b[0;34m)\u001b[0m\u001b[0;34m)\u001b[0m\u001b[0;34m\u001b[0m\u001b[0;34m\u001b[0m\u001b[0m\n\u001b[1;32m     17\u001b[0m         \u001b[0;32melse\u001b[0m\u001b[0;34m:\u001b[0m\u001b[0;34m\u001b[0m\u001b[0;34m\u001b[0m\u001b[0m\n\u001b[0;32m---> 18\u001b[0;31m             \u001b[0;32mraise\u001b[0m \u001b[0mValueError\u001b[0m\u001b[0;34m(\u001b[0m\u001b[0;34m'Input should be a numeric value !'\u001b[0m\u001b[0;34m)\u001b[0m\u001b[0;34m\u001b[0m\u001b[0;34m\u001b[0m\u001b[0m\n\u001b[0m\u001b[1;32m     19\u001b[0m     \u001b[0;32mdef\u001b[0m \u001b[0madd\u001b[0m\u001b[0;34m(\u001b[0m\u001b[0mself\u001b[0m\u001b[0;34m,\u001b[0m \u001b[0mvalue2\u001b[0m\u001b[0;34m)\u001b[0m\u001b[0;34m:\u001b[0m\u001b[0;34m\u001b[0m\u001b[0;34m\u001b[0m\u001b[0m\n\u001b[1;32m     20\u001b[0m         \"\"\"\n",
      "\u001b[0;31mValueError\u001b[0m: Input should be a numeric value !"
     ]
    }
   ],
   "source": [
    "example1 = ExampleClass('s')"
   ]
  }
 ],
 "metadata": {
  "kernelspec": {
   "display_name": "Python 3",
   "language": "python",
   "name": "python3"
  },
  "language_info": {
   "codemirror_mode": {
    "name": "ipython",
    "version": 3
   },
   "file_extension": ".py",
   "mimetype": "text/x-python",
   "name": "python",
   "nbconvert_exporter": "python",
   "pygments_lexer": "ipython3",
   "version": "3.8.5"
  }
 },
 "nbformat": 4,
 "nbformat_minor": 5
}
