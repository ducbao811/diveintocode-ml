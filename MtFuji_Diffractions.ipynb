{
 "cells": [
  {
   "cell_type": "markdown",
   "id": "opened-fever",
   "metadata": {},
   "source": [
    "# Problem 1\n",
    "I use while loop to solve this problem"
   ]
  },
  {
   "cell_type": "code",
   "execution_count": 1,
   "id": "deluxe-shower",
   "metadata": {},
   "outputs": [
    {
     "name": "stdout",
     "output_type": "stream",
     "text": [
      "The paper has to be folded 26 times to exceed Mt.Fuji height\n"
     ]
    }
   ],
   "source": [
    "thickness = 0.00008\n",
    "dist_mt_fuji = 3778\n",
    "times = 0\n",
    "while (thickness < dist_mt_fuji):\n",
    "    thickness *= 2\n",
    "    times += 1\n",
    "print('The paper has to be folded {} times to exceed Mt.Fuji height'.format(times))"
   ]
  },
  {
   "cell_type": "markdown",
   "id": "blank-fantasy",
   "metadata": {},
   "source": [
    "# Problem 2\n",
    "Outside of our Sun, our system's nearest neighbor is Alpha Centauri. This isn't a single star, it's actually a triple-star system — three stars bound together by gravity. The two main stars are Alpha Centauri A and Alpha Centauri B, which form a binary pair. They are an average of 4.3 light-years from Earth. The third star is Proxima Centauri. It is about 4.22 light-years from Earth and is the closest star other than the sun. The calculation of the distance from our planet to Proxima Centauri is performed using the function below"
   ]
  },
  {
   "cell_type": "code",
   "execution_count": 2,
   "id": "antique-florence",
   "metadata": {},
   "outputs": [
    {
     "name": "stdout",
     "output_type": "stream",
     "text": [
      "The paper has to be folded 69 times to reach non-Sun closest star\n"
     ]
    }
   ],
   "source": [
    "def num_of_bending(distance, thickness=0.00008):\n",
    "    # This function will return the number of bending \n",
    "    # times of the paper to exceed a particular distance\n",
    "    times = 0\n",
    "    while (thickness < distance):\n",
    "        thickness *= 2\n",
    "        times += 1\n",
    "    return times\n",
    "# A light year equals 9.46*10^15 meters\n",
    "dist_Proxima_Centauri = 4.22 * 9.46*(10**15)\n",
    "print('The paper has to be folded {} times to reach non-Sun closest star'.\n",
    "      format(num_of_bending(dist_Proxima_Centauri)))"
   ]
  },
  {
   "cell_type": "markdown",
   "id": "hawaiian-classification",
   "metadata": {},
   "source": [
    "# Problem 3\n"
   ]
  },
  {
   "cell_type": "code",
   "execution_count": 5,
   "id": "adjacent-translation",
   "metadata": {},
   "outputs": [
    {
     "name": "stdout",
     "output_type": "stream",
     "text": [
      "The paper has to have the length of 43 for 3.240919444170781e+21 bendings to reach the Moon\n",
      "The paper has to have the length of 26 for 188646348487.24014 bendings to exceed the height of Mt Fuji\n",
      "The paper has to have the length of 69 for 1.4595803601100348e+37 bendings to reach Proxima Centauri\n"
     ]
    }
   ],
   "source": [
    "import math\n",
    "def length_of_paper_needed(n_times, thickness=0.00008):\n",
    "    length = math.pi * thickness * (2**n_times + 4) * (2**n_times - 1) / 6\n",
    "    return length\n",
    "dist_Moon = 384000000\n",
    "n_moon = num_of_bending(dist_Moon)\n",
    "moon_paper_len = length_of_paper_needed(n_moon)\n",
    "n_proxima = num_of_bending(dist_Proxima_Centauri)\n",
    "proxima_paper_len = length_of_paper_needed(n_proxima)\n",
    "n_mtfuji = num_of_bending(dist_mt_fuji)\n",
    "mtfuji_paper_len = length_of_paper_needed(n_mtfuji)\n",
    "print('The paper has to have the length of {} for {} bendings to reach the Moon'\n",
    "      .format(n_moon,moon_paper_len))\n",
    "print('The paper has to have the length of {} for {} bendings to exceed the height of Mt Fuji'\n",
    "      .format(n_mtfuji,mtfuji_paper_len))\n",
    "print('The paper has to have the length of {} for {} bendings to reach Proxima Centauri'\n",
    "      .format(n_proxima,proxima_paper_len))"
   ]
  },
  {
   "cell_type": "code",
   "execution_count": null,
   "id": "square-caution",
   "metadata": {},
   "outputs": [],
   "source": []
  }
 ],
 "metadata": {
  "kernelspec": {
   "display_name": "Python 3",
   "language": "python",
   "name": "python3"
  },
  "language_info": {
   "codemirror_mode": {
    "name": "ipython",
    "version": 3
   },
   "file_extension": ".py",
   "mimetype": "text/x-python",
   "name": "python",
   "nbconvert_exporter": "python",
   "pygments_lexer": "ipython3",
   "version": "3.8.5"
  }
 },
 "nbformat": 4,
 "nbformat_minor": 5
}
